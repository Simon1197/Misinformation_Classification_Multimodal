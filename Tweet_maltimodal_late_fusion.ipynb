{
  "nbformat": 4,
  "nbformat_minor": 0,
  "metadata": {
    "colab": {
      "provenance": [],
      "collapsed_sections": [
        "71i5-crpi2ct",
        "kZ6eheOHVtEM",
        "mec0C6UZEv4L",
        "D77AwrnEmW97"
      ]
    },
    "kernelspec": {
      "name": "python3",
      "display_name": "Python 3"
    },
    "language_info": {
      "name": "python"
    },
    "widgets": {
      "application/vnd.jupyter.widget-state+json": {
        "4bc1f048fb8e4178886154680bd5f9cc": {
          "model_module": "@jupyter-widgets/controls",
          "model_name": "HBoxModel",
          "model_module_version": "1.5.0",
          "state": {
            "_dom_classes": [],
            "_model_module": "@jupyter-widgets/controls",
            "_model_module_version": "1.5.0",
            "_model_name": "HBoxModel",
            "_view_count": null,
            "_view_module": "@jupyter-widgets/controls",
            "_view_module_version": "1.5.0",
            "_view_name": "HBoxView",
            "box_style": "",
            "children": [
              "IPY_MODEL_8d3c87071aab4f3a945b3c40f95aa330",
              "IPY_MODEL_023dfd36f0464bb1afe716e083b0db9a",
              "IPY_MODEL_12409d9d44ca4522a6849f10716360b6"
            ],
            "layout": "IPY_MODEL_5645f25c7d6941e39cd89c0857677417"
          }
        },
        "8d3c87071aab4f3a945b3c40f95aa330": {
          "model_module": "@jupyter-widgets/controls",
          "model_name": "HTMLModel",
          "model_module_version": "1.5.0",
          "state": {
            "_dom_classes": [],
            "_model_module": "@jupyter-widgets/controls",
            "_model_module_version": "1.5.0",
            "_model_name": "HTMLModel",
            "_view_count": null,
            "_view_module": "@jupyter-widgets/controls",
            "_view_module_version": "1.5.0",
            "_view_name": "HTMLView",
            "description": "",
            "description_tooltip": null,
            "layout": "IPY_MODEL_0447eaecf6894109b6dd77fc866348d6",
            "placeholder": "​",
            "style": "IPY_MODEL_9ef4b2b450ba44b4812aa9b36ef3d17b",
            "value": "Downloading: 100%"
          }
        },
        "023dfd36f0464bb1afe716e083b0db9a": {
          "model_module": "@jupyter-widgets/controls",
          "model_name": "FloatProgressModel",
          "model_module_version": "1.5.0",
          "state": {
            "_dom_classes": [],
            "_model_module": "@jupyter-widgets/controls",
            "_model_module_version": "1.5.0",
            "_model_name": "FloatProgressModel",
            "_view_count": null,
            "_view_module": "@jupyter-widgets/controls",
            "_view_module_version": "1.5.0",
            "_view_name": "ProgressView",
            "bar_style": "success",
            "description": "",
            "description_tooltip": null,
            "layout": "IPY_MODEL_d4c60c4d51b8422694683f9fbcb83b1b",
            "max": 231508,
            "min": 0,
            "orientation": "horizontal",
            "style": "IPY_MODEL_f0a87ae7a7c64ffb979f55247b603780",
            "value": 231508
          }
        },
        "12409d9d44ca4522a6849f10716360b6": {
          "model_module": "@jupyter-widgets/controls",
          "model_name": "HTMLModel",
          "model_module_version": "1.5.0",
          "state": {
            "_dom_classes": [],
            "_model_module": "@jupyter-widgets/controls",
            "_model_module_version": "1.5.0",
            "_model_name": "HTMLModel",
            "_view_count": null,
            "_view_module": "@jupyter-widgets/controls",
            "_view_module_version": "1.5.0",
            "_view_name": "HTMLView",
            "description": "",
            "description_tooltip": null,
            "layout": "IPY_MODEL_ebf5f5e11af0425c81590cd02ead4dd3",
            "placeholder": "​",
            "style": "IPY_MODEL_058969c96c654644be66831483094869",
            "value": " 232k/232k [00:00&lt;00:00, 628kB/s]"
          }
        },
        "5645f25c7d6941e39cd89c0857677417": {
          "model_module": "@jupyter-widgets/base",
          "model_name": "LayoutModel",
          "model_module_version": "1.2.0",
          "state": {
            "_model_module": "@jupyter-widgets/base",
            "_model_module_version": "1.2.0",
            "_model_name": "LayoutModel",
            "_view_count": null,
            "_view_module": "@jupyter-widgets/base",
            "_view_module_version": "1.2.0",
            "_view_name": "LayoutView",
            "align_content": null,
            "align_items": null,
            "align_self": null,
            "border": null,
            "bottom": null,
            "display": null,
            "flex": null,
            "flex_flow": null,
            "grid_area": null,
            "grid_auto_columns": null,
            "grid_auto_flow": null,
            "grid_auto_rows": null,
            "grid_column": null,
            "grid_gap": null,
            "grid_row": null,
            "grid_template_areas": null,
            "grid_template_columns": null,
            "grid_template_rows": null,
            "height": null,
            "justify_content": null,
            "justify_items": null,
            "left": null,
            "margin": null,
            "max_height": null,
            "max_width": null,
            "min_height": null,
            "min_width": null,
            "object_fit": null,
            "object_position": null,
            "order": null,
            "overflow": null,
            "overflow_x": null,
            "overflow_y": null,
            "padding": null,
            "right": null,
            "top": null,
            "visibility": null,
            "width": null
          }
        },
        "0447eaecf6894109b6dd77fc866348d6": {
          "model_module": "@jupyter-widgets/base",
          "model_name": "LayoutModel",
          "model_module_version": "1.2.0",
          "state": {
            "_model_module": "@jupyter-widgets/base",
            "_model_module_version": "1.2.0",
            "_model_name": "LayoutModel",
            "_view_count": null,
            "_view_module": "@jupyter-widgets/base",
            "_view_module_version": "1.2.0",
            "_view_name": "LayoutView",
            "align_content": null,
            "align_items": null,
            "align_self": null,
            "border": null,
            "bottom": null,
            "display": null,
            "flex": null,
            "flex_flow": null,
            "grid_area": null,
            "grid_auto_columns": null,
            "grid_auto_flow": null,
            "grid_auto_rows": null,
            "grid_column": null,
            "grid_gap": null,
            "grid_row": null,
            "grid_template_areas": null,
            "grid_template_columns": null,
            "grid_template_rows": null,
            "height": null,
            "justify_content": null,
            "justify_items": null,
            "left": null,
            "margin": null,
            "max_height": null,
            "max_width": null,
            "min_height": null,
            "min_width": null,
            "object_fit": null,
            "object_position": null,
            "order": null,
            "overflow": null,
            "overflow_x": null,
            "overflow_y": null,
            "padding": null,
            "right": null,
            "top": null,
            "visibility": null,
            "width": null
          }
        },
        "9ef4b2b450ba44b4812aa9b36ef3d17b": {
          "model_module": "@jupyter-widgets/controls",
          "model_name": "DescriptionStyleModel",
          "model_module_version": "1.5.0",
          "state": {
            "_model_module": "@jupyter-widgets/controls",
            "_model_module_version": "1.5.0",
            "_model_name": "DescriptionStyleModel",
            "_view_count": null,
            "_view_module": "@jupyter-widgets/base",
            "_view_module_version": "1.2.0",
            "_view_name": "StyleView",
            "description_width": ""
          }
        },
        "d4c60c4d51b8422694683f9fbcb83b1b": {
          "model_module": "@jupyter-widgets/base",
          "model_name": "LayoutModel",
          "model_module_version": "1.2.0",
          "state": {
            "_model_module": "@jupyter-widgets/base",
            "_model_module_version": "1.2.0",
            "_model_name": "LayoutModel",
            "_view_count": null,
            "_view_module": "@jupyter-widgets/base",
            "_view_module_version": "1.2.0",
            "_view_name": "LayoutView",
            "align_content": null,
            "align_items": null,
            "align_self": null,
            "border": null,
            "bottom": null,
            "display": null,
            "flex": null,
            "flex_flow": null,
            "grid_area": null,
            "grid_auto_columns": null,
            "grid_auto_flow": null,
            "grid_auto_rows": null,
            "grid_column": null,
            "grid_gap": null,
            "grid_row": null,
            "grid_template_areas": null,
            "grid_template_columns": null,
            "grid_template_rows": null,
            "height": null,
            "justify_content": null,
            "justify_items": null,
            "left": null,
            "margin": null,
            "max_height": null,
            "max_width": null,
            "min_height": null,
            "min_width": null,
            "object_fit": null,
            "object_position": null,
            "order": null,
            "overflow": null,
            "overflow_x": null,
            "overflow_y": null,
            "padding": null,
            "right": null,
            "top": null,
            "visibility": null,
            "width": null
          }
        },
        "f0a87ae7a7c64ffb979f55247b603780": {
          "model_module": "@jupyter-widgets/controls",
          "model_name": "ProgressStyleModel",
          "model_module_version": "1.5.0",
          "state": {
            "_model_module": "@jupyter-widgets/controls",
            "_model_module_version": "1.5.0",
            "_model_name": "ProgressStyleModel",
            "_view_count": null,
            "_view_module": "@jupyter-widgets/base",
            "_view_module_version": "1.2.0",
            "_view_name": "StyleView",
            "bar_color": null,
            "description_width": ""
          }
        },
        "ebf5f5e11af0425c81590cd02ead4dd3": {
          "model_module": "@jupyter-widgets/base",
          "model_name": "LayoutModel",
          "model_module_version": "1.2.0",
          "state": {
            "_model_module": "@jupyter-widgets/base",
            "_model_module_version": "1.2.0",
            "_model_name": "LayoutModel",
            "_view_count": null,
            "_view_module": "@jupyter-widgets/base",
            "_view_module_version": "1.2.0",
            "_view_name": "LayoutView",
            "align_content": null,
            "align_items": null,
            "align_self": null,
            "border": null,
            "bottom": null,
            "display": null,
            "flex": null,
            "flex_flow": null,
            "grid_area": null,
            "grid_auto_columns": null,
            "grid_auto_flow": null,
            "grid_auto_rows": null,
            "grid_column": null,
            "grid_gap": null,
            "grid_row": null,
            "grid_template_areas": null,
            "grid_template_columns": null,
            "grid_template_rows": null,
            "height": null,
            "justify_content": null,
            "justify_items": null,
            "left": null,
            "margin": null,
            "max_height": null,
            "max_width": null,
            "min_height": null,
            "min_width": null,
            "object_fit": null,
            "object_position": null,
            "order": null,
            "overflow": null,
            "overflow_x": null,
            "overflow_y": null,
            "padding": null,
            "right": null,
            "top": null,
            "visibility": null,
            "width": null
          }
        },
        "058969c96c654644be66831483094869": {
          "model_module": "@jupyter-widgets/controls",
          "model_name": "DescriptionStyleModel",
          "model_module_version": "1.5.0",
          "state": {
            "_model_module": "@jupyter-widgets/controls",
            "_model_module_version": "1.5.0",
            "_model_name": "DescriptionStyleModel",
            "_view_count": null,
            "_view_module": "@jupyter-widgets/base",
            "_view_module_version": "1.2.0",
            "_view_name": "StyleView",
            "description_width": ""
          }
        },
        "a2c1dada64894ee8aa1aca9b7b3ba421": {
          "model_module": "@jupyter-widgets/controls",
          "model_name": "HBoxModel",
          "model_module_version": "1.5.0",
          "state": {
            "_dom_classes": [],
            "_model_module": "@jupyter-widgets/controls",
            "_model_module_version": "1.5.0",
            "_model_name": "HBoxModel",
            "_view_count": null,
            "_view_module": "@jupyter-widgets/controls",
            "_view_module_version": "1.5.0",
            "_view_name": "HBoxView",
            "box_style": "",
            "children": [
              "IPY_MODEL_71438dd52d6e4f3a9f39a8eab0fb5dc8",
              "IPY_MODEL_8f33edba9c2f4ec6a4228507b6b49ce2",
              "IPY_MODEL_1322e5885bbc4e50a7082af9a542e71c"
            ],
            "layout": "IPY_MODEL_cdd02994b6434e36997deef540ac977b"
          }
        },
        "71438dd52d6e4f3a9f39a8eab0fb5dc8": {
          "model_module": "@jupyter-widgets/controls",
          "model_name": "HTMLModel",
          "model_module_version": "1.5.0",
          "state": {
            "_dom_classes": [],
            "_model_module": "@jupyter-widgets/controls",
            "_model_module_version": "1.5.0",
            "_model_name": "HTMLModel",
            "_view_count": null,
            "_view_module": "@jupyter-widgets/controls",
            "_view_module_version": "1.5.0",
            "_view_name": "HTMLView",
            "description": "",
            "description_tooltip": null,
            "layout": "IPY_MODEL_af5b175e453c4f8fa57cd6a551ab7c0e",
            "placeholder": "​",
            "style": "IPY_MODEL_e87a76957b354a648d5ca65cd5173e74",
            "value": "Downloading: 100%"
          }
        },
        "8f33edba9c2f4ec6a4228507b6b49ce2": {
          "model_module": "@jupyter-widgets/controls",
          "model_name": "FloatProgressModel",
          "model_module_version": "1.5.0",
          "state": {
            "_dom_classes": [],
            "_model_module": "@jupyter-widgets/controls",
            "_model_module_version": "1.5.0",
            "_model_name": "FloatProgressModel",
            "_view_count": null,
            "_view_module": "@jupyter-widgets/controls",
            "_view_module_version": "1.5.0",
            "_view_name": "ProgressView",
            "bar_style": "success",
            "description": "",
            "description_tooltip": null,
            "layout": "IPY_MODEL_00f3f8da4a5748e9be383d78bfa0a43c",
            "max": 28,
            "min": 0,
            "orientation": "horizontal",
            "style": "IPY_MODEL_1b2e488f8642475e97b457f8a85101ee",
            "value": 28
          }
        },
        "1322e5885bbc4e50a7082af9a542e71c": {
          "model_module": "@jupyter-widgets/controls",
          "model_name": "HTMLModel",
          "model_module_version": "1.5.0",
          "state": {
            "_dom_classes": [],
            "_model_module": "@jupyter-widgets/controls",
            "_model_module_version": "1.5.0",
            "_model_name": "HTMLModel",
            "_view_count": null,
            "_view_module": "@jupyter-widgets/controls",
            "_view_module_version": "1.5.0",
            "_view_name": "HTMLView",
            "description": "",
            "description_tooltip": null,
            "layout": "IPY_MODEL_d07abdb8403b4e469c3035f592fdda4e",
            "placeholder": "​",
            "style": "IPY_MODEL_f464dac1add24549b9cd1e7921d96d5a",
            "value": " 28.0/28.0 [00:00&lt;00:00, 857B/s]"
          }
        },
        "cdd02994b6434e36997deef540ac977b": {
          "model_module": "@jupyter-widgets/base",
          "model_name": "LayoutModel",
          "model_module_version": "1.2.0",
          "state": {
            "_model_module": "@jupyter-widgets/base",
            "_model_module_version": "1.2.0",
            "_model_name": "LayoutModel",
            "_view_count": null,
            "_view_module": "@jupyter-widgets/base",
            "_view_module_version": "1.2.0",
            "_view_name": "LayoutView",
            "align_content": null,
            "align_items": null,
            "align_self": null,
            "border": null,
            "bottom": null,
            "display": null,
            "flex": null,
            "flex_flow": null,
            "grid_area": null,
            "grid_auto_columns": null,
            "grid_auto_flow": null,
            "grid_auto_rows": null,
            "grid_column": null,
            "grid_gap": null,
            "grid_row": null,
            "grid_template_areas": null,
            "grid_template_columns": null,
            "grid_template_rows": null,
            "height": null,
            "justify_content": null,
            "justify_items": null,
            "left": null,
            "margin": null,
            "max_height": null,
            "max_width": null,
            "min_height": null,
            "min_width": null,
            "object_fit": null,
            "object_position": null,
            "order": null,
            "overflow": null,
            "overflow_x": null,
            "overflow_y": null,
            "padding": null,
            "right": null,
            "top": null,
            "visibility": null,
            "width": null
          }
        },
        "af5b175e453c4f8fa57cd6a551ab7c0e": {
          "model_module": "@jupyter-widgets/base",
          "model_name": "LayoutModel",
          "model_module_version": "1.2.0",
          "state": {
            "_model_module": "@jupyter-widgets/base",
            "_model_module_version": "1.2.0",
            "_model_name": "LayoutModel",
            "_view_count": null,
            "_view_module": "@jupyter-widgets/base",
            "_view_module_version": "1.2.0",
            "_view_name": "LayoutView",
            "align_content": null,
            "align_items": null,
            "align_self": null,
            "border": null,
            "bottom": null,
            "display": null,
            "flex": null,
            "flex_flow": null,
            "grid_area": null,
            "grid_auto_columns": null,
            "grid_auto_flow": null,
            "grid_auto_rows": null,
            "grid_column": null,
            "grid_gap": null,
            "grid_row": null,
            "grid_template_areas": null,
            "grid_template_columns": null,
            "grid_template_rows": null,
            "height": null,
            "justify_content": null,
            "justify_items": null,
            "left": null,
            "margin": null,
            "max_height": null,
            "max_width": null,
            "min_height": null,
            "min_width": null,
            "object_fit": null,
            "object_position": null,
            "order": null,
            "overflow": null,
            "overflow_x": null,
            "overflow_y": null,
            "padding": null,
            "right": null,
            "top": null,
            "visibility": null,
            "width": null
          }
        },
        "e87a76957b354a648d5ca65cd5173e74": {
          "model_module": "@jupyter-widgets/controls",
          "model_name": "DescriptionStyleModel",
          "model_module_version": "1.5.0",
          "state": {
            "_model_module": "@jupyter-widgets/controls",
            "_model_module_version": "1.5.0",
            "_model_name": "DescriptionStyleModel",
            "_view_count": null,
            "_view_module": "@jupyter-widgets/base",
            "_view_module_version": "1.2.0",
            "_view_name": "StyleView",
            "description_width": ""
          }
        },
        "00f3f8da4a5748e9be383d78bfa0a43c": {
          "model_module": "@jupyter-widgets/base",
          "model_name": "LayoutModel",
          "model_module_version": "1.2.0",
          "state": {
            "_model_module": "@jupyter-widgets/base",
            "_model_module_version": "1.2.0",
            "_model_name": "LayoutModel",
            "_view_count": null,
            "_view_module": "@jupyter-widgets/base",
            "_view_module_version": "1.2.0",
            "_view_name": "LayoutView",
            "align_content": null,
            "align_items": null,
            "align_self": null,
            "border": null,
            "bottom": null,
            "display": null,
            "flex": null,
            "flex_flow": null,
            "grid_area": null,
            "grid_auto_columns": null,
            "grid_auto_flow": null,
            "grid_auto_rows": null,
            "grid_column": null,
            "grid_gap": null,
            "grid_row": null,
            "grid_template_areas": null,
            "grid_template_columns": null,
            "grid_template_rows": null,
            "height": null,
            "justify_content": null,
            "justify_items": null,
            "left": null,
            "margin": null,
            "max_height": null,
            "max_width": null,
            "min_height": null,
            "min_width": null,
            "object_fit": null,
            "object_position": null,
            "order": null,
            "overflow": null,
            "overflow_x": null,
            "overflow_y": null,
            "padding": null,
            "right": null,
            "top": null,
            "visibility": null,
            "width": null
          }
        },
        "1b2e488f8642475e97b457f8a85101ee": {
          "model_module": "@jupyter-widgets/controls",
          "model_name": "ProgressStyleModel",
          "model_module_version": "1.5.0",
          "state": {
            "_model_module": "@jupyter-widgets/controls",
            "_model_module_version": "1.5.0",
            "_model_name": "ProgressStyleModel",
            "_view_count": null,
            "_view_module": "@jupyter-widgets/base",
            "_view_module_version": "1.2.0",
            "_view_name": "StyleView",
            "bar_color": null,
            "description_width": ""
          }
        },
        "d07abdb8403b4e469c3035f592fdda4e": {
          "model_module": "@jupyter-widgets/base",
          "model_name": "LayoutModel",
          "model_module_version": "1.2.0",
          "state": {
            "_model_module": "@jupyter-widgets/base",
            "_model_module_version": "1.2.0",
            "_model_name": "LayoutModel",
            "_view_count": null,
            "_view_module": "@jupyter-widgets/base",
            "_view_module_version": "1.2.0",
            "_view_name": "LayoutView",
            "align_content": null,
            "align_items": null,
            "align_self": null,
            "border": null,
            "bottom": null,
            "display": null,
            "flex": null,
            "flex_flow": null,
            "grid_area": null,
            "grid_auto_columns": null,
            "grid_auto_flow": null,
            "grid_auto_rows": null,
            "grid_column": null,
            "grid_gap": null,
            "grid_row": null,
            "grid_template_areas": null,
            "grid_template_columns": null,
            "grid_template_rows": null,
            "height": null,
            "justify_content": null,
            "justify_items": null,
            "left": null,
            "margin": null,
            "max_height": null,
            "max_width": null,
            "min_height": null,
            "min_width": null,
            "object_fit": null,
            "object_position": null,
            "order": null,
            "overflow": null,
            "overflow_x": null,
            "overflow_y": null,
            "padding": null,
            "right": null,
            "top": null,
            "visibility": null,
            "width": null
          }
        },
        "f464dac1add24549b9cd1e7921d96d5a": {
          "model_module": "@jupyter-widgets/controls",
          "model_name": "DescriptionStyleModel",
          "model_module_version": "1.5.0",
          "state": {
            "_model_module": "@jupyter-widgets/controls",
            "_model_module_version": "1.5.0",
            "_model_name": "DescriptionStyleModel",
            "_view_count": null,
            "_view_module": "@jupyter-widgets/base",
            "_view_module_version": "1.2.0",
            "_view_name": "StyleView",
            "description_width": ""
          }
        },
        "ad390901a0364f0394064529b19a970f": {
          "model_module": "@jupyter-widgets/controls",
          "model_name": "HBoxModel",
          "model_module_version": "1.5.0",
          "state": {
            "_dom_classes": [],
            "_model_module": "@jupyter-widgets/controls",
            "_model_module_version": "1.5.0",
            "_model_name": "HBoxModel",
            "_view_count": null,
            "_view_module": "@jupyter-widgets/controls",
            "_view_module_version": "1.5.0",
            "_view_name": "HBoxView",
            "box_style": "",
            "children": [
              "IPY_MODEL_41af21bec84546c9b9e8db51fdfb042d",
              "IPY_MODEL_07ae2a0208d34d5dbc73fedde3a43fa4",
              "IPY_MODEL_33cedb4bbc984d989df9fdd02a2d35f0"
            ],
            "layout": "IPY_MODEL_7b113ad9d84c4626a249fd4b12aaea9e"
          }
        },
        "41af21bec84546c9b9e8db51fdfb042d": {
          "model_module": "@jupyter-widgets/controls",
          "model_name": "HTMLModel",
          "model_module_version": "1.5.0",
          "state": {
            "_dom_classes": [],
            "_model_module": "@jupyter-widgets/controls",
            "_model_module_version": "1.5.0",
            "_model_name": "HTMLModel",
            "_view_count": null,
            "_view_module": "@jupyter-widgets/controls",
            "_view_module_version": "1.5.0",
            "_view_name": "HTMLView",
            "description": "",
            "description_tooltip": null,
            "layout": "IPY_MODEL_285262c314164454a8f3a7d84647ff05",
            "placeholder": "​",
            "style": "IPY_MODEL_a178af3db1ca48dbb317d415781d474a",
            "value": "Downloading: 100%"
          }
        },
        "07ae2a0208d34d5dbc73fedde3a43fa4": {
          "model_module": "@jupyter-widgets/controls",
          "model_name": "FloatProgressModel",
          "model_module_version": "1.5.0",
          "state": {
            "_dom_classes": [],
            "_model_module": "@jupyter-widgets/controls",
            "_model_module_version": "1.5.0",
            "_model_name": "FloatProgressModel",
            "_view_count": null,
            "_view_module": "@jupyter-widgets/controls",
            "_view_module_version": "1.5.0",
            "_view_name": "ProgressView",
            "bar_style": "success",
            "description": "",
            "description_tooltip": null,
            "layout": "IPY_MODEL_c6af53da0ec04f2ea06fd4d38eb00951",
            "max": 570,
            "min": 0,
            "orientation": "horizontal",
            "style": "IPY_MODEL_771c4ad688394ede9471621130489023",
            "value": 570
          }
        },
        "33cedb4bbc984d989df9fdd02a2d35f0": {
          "model_module": "@jupyter-widgets/controls",
          "model_name": "HTMLModel",
          "model_module_version": "1.5.0",
          "state": {
            "_dom_classes": [],
            "_model_module": "@jupyter-widgets/controls",
            "_model_module_version": "1.5.0",
            "_model_name": "HTMLModel",
            "_view_count": null,
            "_view_module": "@jupyter-widgets/controls",
            "_view_module_version": "1.5.0",
            "_view_name": "HTMLView",
            "description": "",
            "description_tooltip": null,
            "layout": "IPY_MODEL_58b5ede8f89549a4870b34d9cc9ad92a",
            "placeholder": "​",
            "style": "IPY_MODEL_d14e1a4efab2427e81ca53de91728fd7",
            "value": " 570/570 [00:00&lt;00:00, 11.1kB/s]"
          }
        },
        "7b113ad9d84c4626a249fd4b12aaea9e": {
          "model_module": "@jupyter-widgets/base",
          "model_name": "LayoutModel",
          "model_module_version": "1.2.0",
          "state": {
            "_model_module": "@jupyter-widgets/base",
            "_model_module_version": "1.2.0",
            "_model_name": "LayoutModel",
            "_view_count": null,
            "_view_module": "@jupyter-widgets/base",
            "_view_module_version": "1.2.0",
            "_view_name": "LayoutView",
            "align_content": null,
            "align_items": null,
            "align_self": null,
            "border": null,
            "bottom": null,
            "display": null,
            "flex": null,
            "flex_flow": null,
            "grid_area": null,
            "grid_auto_columns": null,
            "grid_auto_flow": null,
            "grid_auto_rows": null,
            "grid_column": null,
            "grid_gap": null,
            "grid_row": null,
            "grid_template_areas": null,
            "grid_template_columns": null,
            "grid_template_rows": null,
            "height": null,
            "justify_content": null,
            "justify_items": null,
            "left": null,
            "margin": null,
            "max_height": null,
            "max_width": null,
            "min_height": null,
            "min_width": null,
            "object_fit": null,
            "object_position": null,
            "order": null,
            "overflow": null,
            "overflow_x": null,
            "overflow_y": null,
            "padding": null,
            "right": null,
            "top": null,
            "visibility": null,
            "width": null
          }
        },
        "285262c314164454a8f3a7d84647ff05": {
          "model_module": "@jupyter-widgets/base",
          "model_name": "LayoutModel",
          "model_module_version": "1.2.0",
          "state": {
            "_model_module": "@jupyter-widgets/base",
            "_model_module_version": "1.2.0",
            "_model_name": "LayoutModel",
            "_view_count": null,
            "_view_module": "@jupyter-widgets/base",
            "_view_module_version": "1.2.0",
            "_view_name": "LayoutView",
            "align_content": null,
            "align_items": null,
            "align_self": null,
            "border": null,
            "bottom": null,
            "display": null,
            "flex": null,
            "flex_flow": null,
            "grid_area": null,
            "grid_auto_columns": null,
            "grid_auto_flow": null,
            "grid_auto_rows": null,
            "grid_column": null,
            "grid_gap": null,
            "grid_row": null,
            "grid_template_areas": null,
            "grid_template_columns": null,
            "grid_template_rows": null,
            "height": null,
            "justify_content": null,
            "justify_items": null,
            "left": null,
            "margin": null,
            "max_height": null,
            "max_width": null,
            "min_height": null,
            "min_width": null,
            "object_fit": null,
            "object_position": null,
            "order": null,
            "overflow": null,
            "overflow_x": null,
            "overflow_y": null,
            "padding": null,
            "right": null,
            "top": null,
            "visibility": null,
            "width": null
          }
        },
        "a178af3db1ca48dbb317d415781d474a": {
          "model_module": "@jupyter-widgets/controls",
          "model_name": "DescriptionStyleModel",
          "model_module_version": "1.5.0",
          "state": {
            "_model_module": "@jupyter-widgets/controls",
            "_model_module_version": "1.5.0",
            "_model_name": "DescriptionStyleModel",
            "_view_count": null,
            "_view_module": "@jupyter-widgets/base",
            "_view_module_version": "1.2.0",
            "_view_name": "StyleView",
            "description_width": ""
          }
        },
        "c6af53da0ec04f2ea06fd4d38eb00951": {
          "model_module": "@jupyter-widgets/base",
          "model_name": "LayoutModel",
          "model_module_version": "1.2.0",
          "state": {
            "_model_module": "@jupyter-widgets/base",
            "_model_module_version": "1.2.0",
            "_model_name": "LayoutModel",
            "_view_count": null,
            "_view_module": "@jupyter-widgets/base",
            "_view_module_version": "1.2.0",
            "_view_name": "LayoutView",
            "align_content": null,
            "align_items": null,
            "align_self": null,
            "border": null,
            "bottom": null,
            "display": null,
            "flex": null,
            "flex_flow": null,
            "grid_area": null,
            "grid_auto_columns": null,
            "grid_auto_flow": null,
            "grid_auto_rows": null,
            "grid_column": null,
            "grid_gap": null,
            "grid_row": null,
            "grid_template_areas": null,
            "grid_template_columns": null,
            "grid_template_rows": null,
            "height": null,
            "justify_content": null,
            "justify_items": null,
            "left": null,
            "margin": null,
            "max_height": null,
            "max_width": null,
            "min_height": null,
            "min_width": null,
            "object_fit": null,
            "object_position": null,
            "order": null,
            "overflow": null,
            "overflow_x": null,
            "overflow_y": null,
            "padding": null,
            "right": null,
            "top": null,
            "visibility": null,
            "width": null
          }
        },
        "771c4ad688394ede9471621130489023": {
          "model_module": "@jupyter-widgets/controls",
          "model_name": "ProgressStyleModel",
          "model_module_version": "1.5.0",
          "state": {
            "_model_module": "@jupyter-widgets/controls",
            "_model_module_version": "1.5.0",
            "_model_name": "ProgressStyleModel",
            "_view_count": null,
            "_view_module": "@jupyter-widgets/base",
            "_view_module_version": "1.2.0",
            "_view_name": "StyleView",
            "bar_color": null,
            "description_width": ""
          }
        },
        "58b5ede8f89549a4870b34d9cc9ad92a": {
          "model_module": "@jupyter-widgets/base",
          "model_name": "LayoutModel",
          "model_module_version": "1.2.0",
          "state": {
            "_model_module": "@jupyter-widgets/base",
            "_model_module_version": "1.2.0",
            "_model_name": "LayoutModel",
            "_view_count": null,
            "_view_module": "@jupyter-widgets/base",
            "_view_module_version": "1.2.0",
            "_view_name": "LayoutView",
            "align_content": null,
            "align_items": null,
            "align_self": null,
            "border": null,
            "bottom": null,
            "display": null,
            "flex": null,
            "flex_flow": null,
            "grid_area": null,
            "grid_auto_columns": null,
            "grid_auto_flow": null,
            "grid_auto_rows": null,
            "grid_column": null,
            "grid_gap": null,
            "grid_row": null,
            "grid_template_areas": null,
            "grid_template_columns": null,
            "grid_template_rows": null,
            "height": null,
            "justify_content": null,
            "justify_items": null,
            "left": null,
            "margin": null,
            "max_height": null,
            "max_width": null,
            "min_height": null,
            "min_width": null,
            "object_fit": null,
            "object_position": null,
            "order": null,
            "overflow": null,
            "overflow_x": null,
            "overflow_y": null,
            "padding": null,
            "right": null,
            "top": null,
            "visibility": null,
            "width": null
          }
        },
        "d14e1a4efab2427e81ca53de91728fd7": {
          "model_module": "@jupyter-widgets/controls",
          "model_name": "DescriptionStyleModel",
          "model_module_version": "1.5.0",
          "state": {
            "_model_module": "@jupyter-widgets/controls",
            "_model_module_version": "1.5.0",
            "_model_name": "DescriptionStyleModel",
            "_view_count": null,
            "_view_module": "@jupyter-widgets/base",
            "_view_module_version": "1.2.0",
            "_view_name": "StyleView",
            "description_width": ""
          }
        }
      }
    },
    "gpuClass": "standard"
  },
  "cells": [
    {
      "cell_type": "markdown",
      "metadata": {
        "id": "view-in-github"
      },
      "source": [
        "<a href=\"https://colab.research.google.com/github/Stephanie9606/Multimodal_Deep_Learning/blob/main/binary_mulitimodal_late_fusion_memes.ipynb\" target=\"_parent\"><img src=\"https://colab.research.google.com/assets/colab-badge.svg\" alt=\"Open In Colab\"/></a>"
      ]
    },
    {
      "cell_type": "code",
      "execution_count": null,
      "metadata": {
        "id": "m1En3Ur599pL"
      },
      "outputs": [],
      "source": [
        "import pandas as pd\n",
        "import numpy as np"
      ]
    },
    {
      "cell_type": "code",
      "source": [
        "import tensorflow as tf\n",
        "from tensorflow import keras\n",
        "from tensorflow.keras import applications\n",
        "from tensorflow.keras.preprocessing.image import ImageDataGenerator\n",
        "from tensorflow.keras.models import Model\n",
        "from tensorflow.keras import layers\n",
        "from tensorflow.keras.layers import Dense, Input, Dropout, Flatten, LSTM"
      ],
      "metadata": {
        "id": "xbAyB_Np-MDG"
      },
      "execution_count": null,
      "outputs": []
    },
    {
      "cell_type": "code",
      "source": [
        "import tensorflow_hub as hub\n",
        "from tensorflow.keras import callbacks\n",
        "from tensorflow.keras import optimizers\n",
        "from tensorflow.keras import utils\n",
        "from tensorflow.keras import models\n",
        "from tensorflow.keras.preprocessing.image import ImageDataGenerator \n",
        "from tensorflow.keras import applications\n",
        "from tensorflow.keras.applications.vgg16 import VGG16\n",
        "from tensorflow.keras.regularizers import l2, l1\n",
        "\n",
        "from sklearn.preprocessing import LabelEncoder\n",
        "from sklearn.model_selection import train_test_split\n",
        "from sklearn.utils import shuffle\n",
        "from sklearn.metrics import confusion_matrix\n",
        "\n",
        "import re\n",
        "import glob\n",
        "import os\n",
        "import cv2\n",
        "import sys\n",
        "import pickle\n",
        "\n",
        "import matplotlib.pyplot as plt\n",
        "%matplotlib inline\n",
        "import seaborn as sns\n",
        "import plotly.express as px\n",
        "import plotly.graph_objects as go\n",
        "\n",
        "from tensorflow.keras.utils import plot_model"
      ],
      "metadata": {
        "id": "PVxdV3GRPMBj"
      },
      "execution_count": null,
      "outputs": []
    },
    {
      "cell_type": "code",
      "source": [
        "# Set up the device for GPU usage\n",
        "device_name = tf.test.gpu_device_name()\n",
        "if device_name != '/device:GPU:0':\n",
        "  raise SystemError('GPU device not found')\n",
        "print('Found GPU at: {}'.format(device_name))"
      ],
      "metadata": {
        "colab": {
          "base_uri": "https://localhost:8080/"
        },
        "id": "iNfTi74bdWdI",
        "outputId": "2340c6e3-0881-440a-b7f8-97498b1422c7"
      },
      "execution_count": null,
      "outputs": [
        {
          "output_type": "stream",
          "name": "stdout",
          "text": [
            "Found GPU at: /device:GPU:0\n"
          ]
        }
      ]
    },
    {
      "cell_type": "code",
      "source": [
        "# connect to google drive for files\n",
        "from google.colab import drive\n",
        "drive.mount('/content/drive')"
      ],
      "metadata": {
        "colab": {
          "base_uri": "https://localhost:8080/"
        },
        "id": "Wu7Zb5lE-MRq",
        "outputId": "d1f50cef-bf74-436a-ef0f-8b0d8e271c23"
      },
      "execution_count": null,
      "outputs": [
        {
          "output_type": "stream",
          "name": "stdout",
          "text": [
            "Mounted at /content/drive\n"
          ]
        }
      ]
    },
    {
      "cell_type": "markdown",
      "source": [
        "# Data Pre-processing"
      ],
      "metadata": {
        "id": "71i5-crpi2ct"
      }
    },
    {
      "cell_type": "code",
      "source": [
        "train = pd.read_pickle(\"/content/drive/MyDrive/DATA-793 Pinyu Chen/train_allfeats_09052022.pkl\")"
      ],
      "metadata": {
        "id": "b7ahkth_-Mjj"
      },
      "execution_count": null,
      "outputs": []
    },
    {
      "cell_type": "code",
      "source": [
        "test = pd.read_pickle(\"/content/drive/MyDrive/DATA-793 Pinyu Chen/test_allfeats_09052022.pkl\")"
      ],
      "metadata": {
        "id": "JxKVs0tsxRvG"
      },
      "execution_count": null,
      "outputs": []
    },
    {
      "cell_type": "code",
      "source": [
        "Text_train = train.iloc[:, 4:9]\n",
        "Text_test = test.iloc[:, 4:9]"
      ],
      "metadata": {
        "id": "o7yF_prIxVaN"
      },
      "execution_count": null,
      "outputs": []
    },
    {
      "cell_type": "code",
      "source": [
        "Text_train['ImagePath'] = '/content/drive/MyDrive/DATA-793 Pinyu Chen/Train_Images_2016/' + Text_train['new_img_id'] + '.jpg'\n",
        "Text_test['ImagePath'] = '/content/drive/MyDrive/DATA-793 Pinyu Chen/Test_Images_2016/' + Text_test['new_img_id'] + '.jpg'"
      ],
      "metadata": {
        "id": "0OTLl05txWle"
      },
      "execution_count": null,
      "outputs": []
    },
    {
      "cell_type": "code",
      "source": [
        "Text_train['tweet_text'] = Text_train['tweet_text'].astype(pd.StringDtype())\n",
        "Text_train['label'] = Text_train['label'].astype(pd.StringDtype())\n",
        "Text_train['event'] = Text_train['event'].astype(pd.StringDtype())\n",
        "Text_train['new_img_id'] = Text_train['new_img_id'].astype(pd.StringDtype())\n",
        "Text_train['clean_tweet'] = Text_train['clean_tweet'].astype(pd.StringDtype())\n",
        "Text_train['ImagePath'] = Text_train['ImagePath'].astype(pd.StringDtype())\n",
        "\n",
        "Text_test['tweet_text'] = Text_test['tweet_text'].astype(pd.StringDtype())\n",
        "Text_test['label'] = Text_test['label'].astype(pd.StringDtype())\n",
        "Text_test['event'] = Text_test['event'].astype(pd.StringDtype())\n",
        "Text_test['new_img_id'] = Text_test['new_img_id'].astype(pd.StringDtype())\n",
        "Text_test['clean_tweet'] = Text_test['clean_tweet'].astype(pd.StringDtype())\n",
        "Text_test['ImagePath'] = Text_test['ImagePath'].astype(pd.StringDtype())"
      ],
      "metadata": {
        "id": "oyKqH4Kn-Muu"
      },
      "execution_count": null,
      "outputs": []
    },
    {
      "cell_type": "code",
      "source": [
        "# Only get two label for Binary Classification"
      ],
      "metadata": {
        "id": "MEi0H4ch-M5X"
      },
      "execution_count": null,
      "outputs": []
    },
    {
      "cell_type": "code",
      "source": [
        "Text_train.head(3)"
      ],
      "metadata": {
        "id": "CQoxoFb0-M-Z",
        "colab": {
          "base_uri": "https://localhost:8080/",
          "height": 143
        },
        "outputId": "cc857afe-95b0-4056-8e44-7f15bb361596"
      },
      "execution_count": null,
      "outputs": [
        {
          "output_type": "execute_result",
          "data": {
            "text/plain": [
              "                                          tweet_text label   event  \\\n",
              "0  Don't need feds to solve the #bostonbombing wh...  fake  boston   \n",
              "1  PIC: Comparison of #Boston suspect Sunil Tripa...  fake  boston   \n",
              "2  I'm not completely convinced that it's this Su...  fake  boston   \n",
              "\n",
              "       new_img_id                                        clean_tweet  \\\n",
              "0  boston_fake_03  ['don', 'need', 'feds', 'solve', 'bostonbombin...   \n",
              "1  boston_fake_23  ['pic', 'comparison', 'boston', 'suspect', 'su...   \n",
              "2  boston_fake_34  ['completely', 'convinced', 'sunil', 'tripathi...   \n",
              "\n",
              "                                           ImagePath  \n",
              "0  /content/drive/MyDrive/DATA-793 Pinyu Chen/Tra...  \n",
              "1  /content/drive/MyDrive/DATA-793 Pinyu Chen/Tra...  \n",
              "2  /content/drive/MyDrive/DATA-793 Pinyu Chen/Tra...  "
            ],
            "text/html": [
              "\n",
              "  <div id=\"df-a4b4dcaa-3dfc-4284-8f73-834dc6e101e9\">\n",
              "    <div class=\"colab-df-container\">\n",
              "      <div>\n",
              "<style scoped>\n",
              "    .dataframe tbody tr th:only-of-type {\n",
              "        vertical-align: middle;\n",
              "    }\n",
              "\n",
              "    .dataframe tbody tr th {\n",
              "        vertical-align: top;\n",
              "    }\n",
              "\n",
              "    .dataframe thead th {\n",
              "        text-align: right;\n",
              "    }\n",
              "</style>\n",
              "<table border=\"1\" class=\"dataframe\">\n",
              "  <thead>\n",
              "    <tr style=\"text-align: right;\">\n",
              "      <th></th>\n",
              "      <th>tweet_text</th>\n",
              "      <th>label</th>\n",
              "      <th>event</th>\n",
              "      <th>new_img_id</th>\n",
              "      <th>clean_tweet</th>\n",
              "      <th>ImagePath</th>\n",
              "    </tr>\n",
              "  </thead>\n",
              "  <tbody>\n",
              "    <tr>\n",
              "      <th>0</th>\n",
              "      <td>Don't need feds to solve the #bostonbombing wh...</td>\n",
              "      <td>fake</td>\n",
              "      <td>boston</td>\n",
              "      <td>boston_fake_03</td>\n",
              "      <td>['don', 'need', 'feds', 'solve', 'bostonbombin...</td>\n",
              "      <td>/content/drive/MyDrive/DATA-793 Pinyu Chen/Tra...</td>\n",
              "    </tr>\n",
              "    <tr>\n",
              "      <th>1</th>\n",
              "      <td>PIC: Comparison of #Boston suspect Sunil Tripa...</td>\n",
              "      <td>fake</td>\n",
              "      <td>boston</td>\n",
              "      <td>boston_fake_23</td>\n",
              "      <td>['pic', 'comparison', 'boston', 'suspect', 'su...</td>\n",
              "      <td>/content/drive/MyDrive/DATA-793 Pinyu Chen/Tra...</td>\n",
              "    </tr>\n",
              "    <tr>\n",
              "      <th>2</th>\n",
              "      <td>I'm not completely convinced that it's this Su...</td>\n",
              "      <td>fake</td>\n",
              "      <td>boston</td>\n",
              "      <td>boston_fake_34</td>\n",
              "      <td>['completely', 'convinced', 'sunil', 'tripathi...</td>\n",
              "      <td>/content/drive/MyDrive/DATA-793 Pinyu Chen/Tra...</td>\n",
              "    </tr>\n",
              "  </tbody>\n",
              "</table>\n",
              "</div>\n",
              "      <button class=\"colab-df-convert\" onclick=\"convertToInteractive('df-a4b4dcaa-3dfc-4284-8f73-834dc6e101e9')\"\n",
              "              title=\"Convert this dataframe to an interactive table.\"\n",
              "              style=\"display:none;\">\n",
              "        \n",
              "  <svg xmlns=\"http://www.w3.org/2000/svg\" height=\"24px\"viewBox=\"0 0 24 24\"\n",
              "       width=\"24px\">\n",
              "    <path d=\"M0 0h24v24H0V0z\" fill=\"none\"/>\n",
              "    <path d=\"M18.56 5.44l.94 2.06.94-2.06 2.06-.94-2.06-.94-.94-2.06-.94 2.06-2.06.94zm-11 1L8.5 8.5l.94-2.06 2.06-.94-2.06-.94L8.5 2.5l-.94 2.06-2.06.94zm10 10l.94 2.06.94-2.06 2.06-.94-2.06-.94-.94-2.06-.94 2.06-2.06.94z\"/><path d=\"M17.41 7.96l-1.37-1.37c-.4-.4-.92-.59-1.43-.59-.52 0-1.04.2-1.43.59L10.3 9.45l-7.72 7.72c-.78.78-.78 2.05 0 2.83L4 21.41c.39.39.9.59 1.41.59.51 0 1.02-.2 1.41-.59l7.78-7.78 2.81-2.81c.8-.78.8-2.07 0-2.86zM5.41 20L4 18.59l7.72-7.72 1.47 1.35L5.41 20z\"/>\n",
              "  </svg>\n",
              "      </button>\n",
              "      \n",
              "  <style>\n",
              "    .colab-df-container {\n",
              "      display:flex;\n",
              "      flex-wrap:wrap;\n",
              "      gap: 12px;\n",
              "    }\n",
              "\n",
              "    .colab-df-convert {\n",
              "      background-color: #E8F0FE;\n",
              "      border: none;\n",
              "      border-radius: 50%;\n",
              "      cursor: pointer;\n",
              "      display: none;\n",
              "      fill: #1967D2;\n",
              "      height: 32px;\n",
              "      padding: 0 0 0 0;\n",
              "      width: 32px;\n",
              "    }\n",
              "\n",
              "    .colab-df-convert:hover {\n",
              "      background-color: #E2EBFA;\n",
              "      box-shadow: 0px 1px 2px rgba(60, 64, 67, 0.3), 0px 1px 3px 1px rgba(60, 64, 67, 0.15);\n",
              "      fill: #174EA6;\n",
              "    }\n",
              "\n",
              "    [theme=dark] .colab-df-convert {\n",
              "      background-color: #3B4455;\n",
              "      fill: #D2E3FC;\n",
              "    }\n",
              "\n",
              "    [theme=dark] .colab-df-convert:hover {\n",
              "      background-color: #434B5C;\n",
              "      box-shadow: 0px 1px 3px 1px rgba(0, 0, 0, 0.15);\n",
              "      filter: drop-shadow(0px 1px 2px rgba(0, 0, 0, 0.3));\n",
              "      fill: #FFFFFF;\n",
              "    }\n",
              "  </style>\n",
              "\n",
              "      <script>\n",
              "        const buttonEl =\n",
              "          document.querySelector('#df-a4b4dcaa-3dfc-4284-8f73-834dc6e101e9 button.colab-df-convert');\n",
              "        buttonEl.style.display =\n",
              "          google.colab.kernel.accessAllowed ? 'block' : 'none';\n",
              "\n",
              "        async function convertToInteractive(key) {\n",
              "          const element = document.querySelector('#df-a4b4dcaa-3dfc-4284-8f73-834dc6e101e9');\n",
              "          const dataTable =\n",
              "            await google.colab.kernel.invokeFunction('convertToInteractive',\n",
              "                                                     [key], {});\n",
              "          if (!dataTable) return;\n",
              "\n",
              "          const docLinkHtml = 'Like what you see? Visit the ' +\n",
              "            '<a target=\"_blank\" href=https://colab.research.google.com/notebooks/data_table.ipynb>data table notebook</a>'\n",
              "            + ' to learn more about interactive tables.';\n",
              "          element.innerHTML = '';\n",
              "          dataTable['output_type'] = 'display_data';\n",
              "          await google.colab.output.renderOutput(dataTable, element);\n",
              "          const docLink = document.createElement('div');\n",
              "          docLink.innerHTML = docLinkHtml;\n",
              "          element.appendChild(docLink);\n",
              "        }\n",
              "      </script>\n",
              "    </div>\n",
              "  </div>\n",
              "  "
            ]
          },
          "metadata": {},
          "execution_count": 12
        }
      ]
    },
    {
      "cell_type": "code",
      "source": [
        "Text_train, Text_val = train_test_split(Text_train, test_size=0.25, random_state=13)"
      ],
      "metadata": {
        "id": "YE6D0Bwl1S6A"
      },
      "execution_count": null,
      "outputs": []
    },
    {
      "cell_type": "code",
      "source": [
        "n1 = Text_train.index\n",
        "n2 = Text_val.index\n",
        "n3 = Text_test.index\n",
        "print(n1)\n",
        "print(n2)\n",
        "print(n3)"
      ],
      "metadata": {
        "colab": {
          "base_uri": "https://localhost:8080/"
        },
        "id": "gHOvYQ2lGKJC",
        "outputId": "f636332f-8885-40cf-c3d4-29fc37e9bc84"
      },
      "execution_count": null,
      "outputs": [
        {
          "output_type": "stream",
          "name": "stdout",
          "text": [
            "Int64Index([3248, 5511, 7974, 5886,  492, 1270, 2000, 7698, 2991, 7511,\n",
            "            ...\n",
            "            6782, 9114, 4026, 8940,  153, 5876,  866, 7696,   74,  338],\n",
            "           dtype='int64', length=6856)\n",
            "Int64Index([ 912, 3993, 3750, 5504, 8957,  731, 6482, 2360, 5775, 1445,\n",
            "            ...\n",
            "            5058,  930,  617, 5220, 8279, 7337, 1961, 7280, 4892, 1248],\n",
            "           dtype='int64', length=2286)\n",
            "Int64Index([  0,   1,   2,   3,   4,   5,   6,   7,   8,   9,\n",
            "            ...\n",
            "            786, 787, 788, 789, 790, 791, 792, 793, 794, 795],\n",
            "           dtype='int64', length=796)\n"
          ]
        }
      ]
    },
    {
      "cell_type": "code",
      "source": [
        "Text_train = Text_train.iloc[0:6816,:]\n",
        "Text_val = Text_val.iloc[0:2240,:]"
      ],
      "metadata": {
        "id": "opm2DWLoMWYD"
      },
      "execution_count": null,
      "outputs": []
    },
    {
      "cell_type": "markdown",
      "source": [
        "# Image Pre-processing"
      ],
      "metadata": {
        "id": "kZ6eheOHVtEM"
      }
    },
    {
      "cell_type": "code",
      "source": [
        " # Loading training data\n",
        "batch_size = 32\n",
        "img_height = 224\n",
        "img_width = 224\n",
        "train_datagen = ImageDataGenerator(preprocessing_function=applications.vgg16.preprocess_input, rescale=1./255.)\n",
        "val_datagen = ImageDataGenerator(preprocessing_function=applications.vgg16.preprocess_input, rescale=1./255.)\n",
        "train_generator = train_datagen.flow_from_dataframe(dataframe=Text_train, \n",
        "                                                    directory=None, \n",
        "                                                    x_col=\"ImagePath\", \n",
        "                                                    y_col=\"label\", \n",
        "                                                    seed = 55, \n",
        "                                                    class_mode=\"binary\", \n",
        "                                                    target_size=(img_height, img_width), \n",
        "                                                    batch_size=batch_size,\n",
        "                                                    shuffle=True)\n",
        "\n",
        "valid_generator = val_datagen.flow_from_dataframe(dataframe=Text_val, \n",
        "                                                  directory=None, \n",
        "                                                  x_col=\"ImagePath\", \n",
        "                                                  y_col=\"label\", \n",
        "                                                  seed = 55, \n",
        "                                                  class_mode=\"binary\", \n",
        "                                                  target_size=(img_height, img_width), \n",
        "                                                  batch_size=batch_size,\n",
        "                                                  shuffle=True)\n",
        "\n",
        "print(f\"Class labels: {train_generator.class_indices}\")\n",
        "print(f\"Class labels: {valid_generator.class_indices}\")"
      ],
      "metadata": {
        "id": "ficbdmhgx8Ln",
        "colab": {
          "base_uri": "https://localhost:8080/"
        },
        "outputId": "6c600028-3ccf-49b7-82d6-aa0415b543c1"
      },
      "execution_count": null,
      "outputs": [
        {
          "output_type": "stream",
          "name": "stdout",
          "text": [
            "Found 6816 validated image filenames belonging to 2 classes.\n",
            "Found 2240 validated image filenames belonging to 2 classes.\n",
            "Class labels: {'fake': 0, 'real': 1}\n",
            "Class labels: {'fake': 0, 'real': 1}\n"
          ]
        }
      ]
    },
    {
      "cell_type": "code",
      "source": [
        "images, labels = next(train_generator)\n",
        "\n",
        "print(images.dtype, images.shape)\n",
        "print(labels.dtype, labels.shape)"
      ],
      "metadata": {
        "colab": {
          "base_uri": "https://localhost:8080/"
        },
        "id": "VyhGT57flzTp",
        "outputId": "4ab6b3c2-541d-4ea4-f606-b946e64adef3"
      },
      "execution_count": null,
      "outputs": [
        {
          "output_type": "stream",
          "name": "stdout",
          "text": [
            "float32 (32, 224, 224, 3)\n",
            "float32 (32,)\n"
          ]
        }
      ]
    },
    {
      "cell_type": "code",
      "source": [
        "# convert generator to tf.dataset: image_train_data, image_val_data\n",
        "image_train_data = tf.data.Dataset.from_generator(\n",
        "    lambda: train_generator, \n",
        "    output_types=(tf.float32, tf.float32), \n",
        "    output_shapes=([32,224,224,3], [32,]) # based on batch_size change\n",
        ")\n",
        "\n",
        "image_val_data = tf.data.Dataset.from_generator(\n",
        "    lambda: valid_generator, \n",
        "    output_types=(tf.float32, tf.float32), \n",
        "    output_shapes=([32,224,224,3], [32,])\n",
        ")"
      ],
      "metadata": {
        "id": "ed4h-saZeULz"
      },
      "execution_count": null,
      "outputs": []
    },
    {
      "cell_type": "code",
      "source": [
        "# check data's structure\n",
        "image_train_data.element_spec\n",
        "image_val_data.element_spec"
      ],
      "metadata": {
        "id": "WrwPFBiEx0NL",
        "colab": {
          "base_uri": "https://localhost:8080/"
        },
        "outputId": "fd281ca5-06a3-4072-95c3-54c22159baff"
      },
      "execution_count": null,
      "outputs": [
        {
          "output_type": "execute_result",
          "data": {
            "text/plain": [
              "(TensorSpec(shape=(32, 224, 224, 3), dtype=tf.float32, name=None),\n",
              " TensorSpec(shape=(32,), dtype=tf.float32, name=None))"
            ]
          },
          "metadata": {},
          "execution_count": 19
        }
      ]
    },
    {
      "cell_type": "code",
      "source": [
        "# Loading testing data\n",
        "test_datagen = ImageDataGenerator(preprocessing_function=applications.vgg16.preprocess_input, rescale=1./255.)\n",
        "batch_size = 32\n",
        "\n",
        "test_generator = test_datagen.flow_from_dataframe(dataframe=Text_test, \n",
        "                                                  directory=None, \n",
        "                                                  x_col=\"ImagePath\", \n",
        "                                                  y_col=\"label\", \n",
        "                                                  class_mode='binary', \n",
        "                                                  target_size=(img_height, img_width),\n",
        "                                                  batch_size=batch_size,\n",
        "                                                  shuffle=False)\n",
        "\n",
        "print(f\"Class labels: {test_generator.class_indices}\")"
      ],
      "metadata": {
        "colab": {
          "base_uri": "https://localhost:8080/"
        },
        "id": "3-E4ySUXv8hK",
        "outputId": "e644fbd0-a489-4e6b-e917-de6fe3b6fa10"
      },
      "execution_count": null,
      "outputs": [
        {
          "output_type": "stream",
          "name": "stdout",
          "text": [
            "Found 796 validated image filenames belonging to 2 classes.\n",
            "Class labels: {'fake': 0, 'real': 1}\n"
          ]
        }
      ]
    },
    {
      "cell_type": "code",
      "source": [
        "images, labels = next(test_generator)\n",
        "\n",
        "print(images.dtype, images.shape)\n",
        "print(labels.dtype, labels.shape)"
      ],
      "metadata": {
        "colab": {
          "base_uri": "https://localhost:8080/"
        },
        "id": "SAhfm-huxoRT",
        "outputId": "5b655f9e-b7a0-4967-fbeb-c5e81ddae792"
      },
      "execution_count": null,
      "outputs": [
        {
          "output_type": "stream",
          "name": "stdout",
          "text": [
            "float32 (32, 224, 224, 3)\n",
            "float32 (32,)\n"
          ]
        }
      ]
    },
    {
      "cell_type": "code",
      "source": [
        "# convert generator to tf.dataset: image_test_data\n",
        "image_test_data = tf.data.Dataset.from_generator(\n",
        "    lambda: valid_generator, \n",
        "    output_types=(tf.float32, tf.float32), \n",
        "    output_shapes=([32,224,224,3], [32,])\n",
        ")"
      ],
      "metadata": {
        "id": "be2F8HIYv9wI"
      },
      "execution_count": null,
      "outputs": []
    },
    {
      "cell_type": "code",
      "source": [
        "image_test_data.element_spec"
      ],
      "metadata": {
        "colab": {
          "base_uri": "https://localhost:8080/"
        },
        "id": "H_366KOBxwzN",
        "outputId": "4f86384d-0141-4d86-d994-80649f3dc385"
      },
      "execution_count": null,
      "outputs": [
        {
          "output_type": "execute_result",
          "data": {
            "text/plain": [
              "(TensorSpec(shape=(32, 224, 224, 3), dtype=tf.float32, name=None),\n",
              " TensorSpec(shape=(32,), dtype=tf.float32, name=None))"
            ]
          },
          "metadata": {},
          "execution_count": 23
        }
      ]
    },
    {
      "cell_type": "code",
      "source": [
        "# image test batch drop remainder\n",
        "image_test_data = image_test_data.unbatch()\n",
        "image_test_data = image_test_data.batch(32, drop_remainder=True)\n",
        "\n",
        "image_test_data.element_spec"
      ],
      "metadata": {
        "colab": {
          "base_uri": "https://localhost:8080/"
        },
        "id": "xSlRqM7n2l2B",
        "outputId": "f3d5b450-6562-469f-d233-376964588058"
      },
      "execution_count": null,
      "outputs": [
        {
          "output_type": "execute_result",
          "data": {
            "text/plain": [
              "(TensorSpec(shape=(32, 224, 224, 3), dtype=tf.float32, name=None),\n",
              " TensorSpec(shape=(32,), dtype=tf.float32, name=None))"
            ]
          },
          "metadata": {},
          "execution_count": 24
        }
      ]
    },
    {
      "cell_type": "markdown",
      "source": [
        "# Text Pre-processing for BERT"
      ],
      "metadata": {
        "id": "mec0C6UZEv4L"
      }
    },
    {
      "cell_type": "markdown",
      "source": [
        "BERT: [CLS] + text + [SEP]"
      ],
      "metadata": {
        "id": "VyvkeCVaE9EB"
      }
    },
    {
      "cell_type": "code",
      "source": [
        "!pip install -q transformers\n",
        "\n",
        "from transformers import BertTokenizer, TFBertForSequenceClassification\n",
        "from transformers import InputExample, InputFeatures"
      ],
      "metadata": {
        "colab": {
          "base_uri": "https://localhost:8080/"
        },
        "id": "q35xH34CyDDX",
        "outputId": "b313eab4-95c9-4b50-d2f8-b6cf7afea752"
      },
      "execution_count": null,
      "outputs": [
        {
          "output_type": "stream",
          "name": "stdout",
          "text": [
            "\u001b[K     |████████████████████████████████| 5.5 MB 15.0 MB/s \n",
            "\u001b[K     |████████████████████████████████| 7.6 MB 55.6 MB/s \n",
            "\u001b[K     |████████████████████████████████| 163 kB 62.9 MB/s \n",
            "\u001b[?25h"
          ]
        }
      ]
    },
    {
      "cell_type": "code",
      "source": [
        "!pip install bert-for-tf2"
      ],
      "metadata": {
        "colab": {
          "base_uri": "https://localhost:8080/"
        },
        "id": "gV7HeND74GiT",
        "outputId": "be584d8b-f4fc-433c-c3e1-df80361da9fe"
      },
      "execution_count": null,
      "outputs": [
        {
          "output_type": "stream",
          "name": "stdout",
          "text": [
            "Looking in indexes: https://pypi.org/simple, https://us-python.pkg.dev/colab-wheels/public/simple/\n",
            "Collecting bert-for-tf2\n",
            "  Downloading bert-for-tf2-0.14.9.tar.gz (41 kB)\n",
            "\u001b[K     |████████████████████████████████| 41 kB 4.7 kB/s \n",
            "\u001b[?25hCollecting py-params>=0.9.6\n",
            "  Downloading py-params-0.10.2.tar.gz (7.4 kB)\n",
            "Collecting params-flow>=0.8.0\n",
            "  Downloading params-flow-0.8.2.tar.gz (22 kB)\n",
            "Requirement already satisfied: numpy in /usr/local/lib/python3.7/dist-packages (from params-flow>=0.8.0->bert-for-tf2) (1.21.6)\n",
            "Requirement already satisfied: tqdm in /usr/local/lib/python3.7/dist-packages (from params-flow>=0.8.0->bert-for-tf2) (4.64.1)\n",
            "Building wheels for collected packages: bert-for-tf2, params-flow, py-params\n",
            "  Building wheel for bert-for-tf2 (setup.py) ... \u001b[?25l\u001b[?25hdone\n",
            "  Created wheel for bert-for-tf2: filename=bert_for_tf2-0.14.9-py3-none-any.whl size=30533 sha256=924775694315d6eb28fdc4c24000e2648df04432f8222e11082dabde2427a9a8\n",
            "  Stored in directory: /root/.cache/pip/wheels/47/b6/e5/8c76ec779f54bc5c2f1b57d2200bb9c77616da83873e8acb53\n",
            "  Building wheel for params-flow (setup.py) ... \u001b[?25l\u001b[?25hdone\n",
            "  Created wheel for params-flow: filename=params_flow-0.8.2-py3-none-any.whl size=19472 sha256=462b62b938f2649f85d0ee866aba4381f836c618b3edfed25085dd64b98a0032\n",
            "  Stored in directory: /root/.cache/pip/wheels/0e/fc/d2/a44fff33af0f233d7def6e7de413006d57c10e10ad736fe8f5\n",
            "  Building wheel for py-params (setup.py) ... \u001b[?25l\u001b[?25hdone\n",
            "  Created wheel for py-params: filename=py_params-0.10.2-py3-none-any.whl size=7910 sha256=9ae5d98bf6624d061b0941855a9741043c5a7aa7300411ddd4a5ca919634bb87\n",
            "  Stored in directory: /root/.cache/pip/wheels/e1/11/67/33cc51bbee127cb8fb2ba549cd29109b2f22da43ddf9969716\n",
            "Successfully built bert-for-tf2 params-flow py-params\n",
            "Installing collected packages: py-params, params-flow, bert-for-tf2\n",
            "Successfully installed bert-for-tf2-0.14.9 params-flow-0.8.2 py-params-0.10.2\n"
          ]
        }
      ]
    },
    {
      "cell_type": "code",
      "source": [
        "#!pip3 install tensorflow_hub\n",
        "\n",
        "import tensorflow_hub as hub\n",
        "import tensorflow as tf\n",
        "from tensorflow.keras.models import Model \n",
        "import bert"
      ],
      "metadata": {
        "id": "IdvndUUKc3PO"
      },
      "execution_count": null,
      "outputs": []
    },
    {
      "cell_type": "code",
      "source": [
        "tokenizer = BertTokenizer.from_pretrained(\"bert-base-uncased\")"
      ],
      "metadata": {
        "colab": {
          "base_uri": "https://localhost:8080/",
          "referenced_widgets": [
            "4bc1f048fb8e4178886154680bd5f9cc",
            "8d3c87071aab4f3a945b3c40f95aa330",
            "023dfd36f0464bb1afe716e083b0db9a",
            "12409d9d44ca4522a6849f10716360b6",
            "5645f25c7d6941e39cd89c0857677417",
            "0447eaecf6894109b6dd77fc866348d6",
            "9ef4b2b450ba44b4812aa9b36ef3d17b",
            "d4c60c4d51b8422694683f9fbcb83b1b",
            "f0a87ae7a7c64ffb979f55247b603780",
            "ebf5f5e11af0425c81590cd02ead4dd3",
            "058969c96c654644be66831483094869",
            "a2c1dada64894ee8aa1aca9b7b3ba421",
            "71438dd52d6e4f3a9f39a8eab0fb5dc8",
            "8f33edba9c2f4ec6a4228507b6b49ce2",
            "1322e5885bbc4e50a7082af9a542e71c",
            "cdd02994b6434e36997deef540ac977b",
            "af5b175e453c4f8fa57cd6a551ab7c0e",
            "e87a76957b354a648d5ca65cd5173e74",
            "00f3f8da4a5748e9be383d78bfa0a43c",
            "1b2e488f8642475e97b457f8a85101ee",
            "d07abdb8403b4e469c3035f592fdda4e",
            "f464dac1add24549b9cd1e7921d96d5a",
            "ad390901a0364f0394064529b19a970f",
            "41af21bec84546c9b9e8db51fdfb042d",
            "07ae2a0208d34d5dbc73fedde3a43fa4",
            "33cedb4bbc984d989df9fdd02a2d35f0",
            "7b113ad9d84c4626a249fd4b12aaea9e",
            "285262c314164454a8f3a7d84647ff05",
            "a178af3db1ca48dbb317d415781d474a",
            "c6af53da0ec04f2ea06fd4d38eb00951",
            "771c4ad688394ede9471621130489023",
            "58b5ede8f89549a4870b34d9cc9ad92a",
            "d14e1a4efab2427e81ca53de91728fd7"
          ],
          "height": 113
        },
        "id": "OQ4VMZIiP5nA",
        "outputId": "bf23fecb-e66f-48c3-9bed-5ec85502d420"
      },
      "execution_count": null,
      "outputs": [
        {
          "output_type": "display_data",
          "data": {
            "text/plain": [
              "Downloading:   0%|          | 0.00/232k [00:00<?, ?B/s]"
            ],
            "application/vnd.jupyter.widget-view+json": {
              "version_major": 2,
              "version_minor": 0,
              "model_id": "4bc1f048fb8e4178886154680bd5f9cc"
            }
          },
          "metadata": {}
        },
        {
          "output_type": "display_data",
          "data": {
            "text/plain": [
              "Downloading:   0%|          | 0.00/28.0 [00:00<?, ?B/s]"
            ],
            "application/vnd.jupyter.widget-view+json": {
              "version_major": 2,
              "version_minor": 0,
              "model_id": "a2c1dada64894ee8aa1aca9b7b3ba421"
            }
          },
          "metadata": {}
        },
        {
          "output_type": "display_data",
          "data": {
            "text/plain": [
              "Downloading:   0%|          | 0.00/570 [00:00<?, ?B/s]"
            ],
            "application/vnd.jupyter.widget-view+json": {
              "version_major": 2,
              "version_minor": 0,
              "model_id": "ad390901a0364f0394064529b19a970f"
            }
          },
          "metadata": {}
        }
      ]
    },
    {
      "cell_type": "code",
      "source": [
        "# convert_data_to_examples: accept train and test datasets and convert each row into an InputExample object.\n",
        "def convert_data_to_examples(train, val, test, DATA_COLUMN, LABEL_COLUMN): \n",
        "  train_InputExamples = train.apply(lambda x: InputExample(guid=None, # Globally unique ID for bookkeeping, unused in this case\n",
        "                                                          text_a = x[DATA_COLUMN], \n",
        "                                                          text_b = None, \n",
        "                                                          label = x[LABEL_COLUMN]), axis = 1)\n",
        "\n",
        "  validation_InputExamples = val.apply(lambda x: InputExample(guid=None,\n",
        "                                                          text_a = x[DATA_COLUMN], \n",
        "                                                          text_b = None, \n",
        "                                                          label = x[LABEL_COLUMN]), axis = 1)\n",
        "  \n",
        "  test_InputExamples = test.apply(lambda x: InputExample(guid=None,\n",
        "                                                          text_a = x[DATA_COLUMN], \n",
        "                                                          text_b = None, \n",
        "                                                          label = x[LABEL_COLUMN]), axis = 1)  \n",
        "  \n",
        "  return train_InputExamples, validation_InputExamples, test_InputExamples\n",
        "\n",
        "  train_InputExamples, validation_InputExamples, test_InputExamples = convert_data_to_examples(Text_train,\n",
        "                                                                                               Text_val, \n",
        "                                                                                               Text_test, \n",
        "                                                                                              'clean_tweet', \n",
        "                                                                                              'label')"
      ],
      "metadata": {
        "id": "dWQ0dNwlB5TE"
      },
      "execution_count": null,
      "outputs": []
    },
    {
      "cell_type": "code",
      "source": [
        "# convert_examples_to_tf_dataset: tokenize the InputExample objects, then create the required input format with the tokenized objects \n",
        "# finally, create an input dataset that we can feed to the model.\n",
        "def convert_examples_to_tf_dataset(examples, tokenizer, max_length=128):\n",
        "    features = [] # -> will hold InputFeatures to be converted later\n",
        "\n",
        "    for e in examples:\n",
        "        input_dict = tokenizer.encode_plus(\n",
        "            e.text_a,\n",
        "            add_special_tokens=True,\n",
        "            max_length=max_length, # max_length\n",
        "            return_token_type_ids=True,\n",
        "            return_attention_mask=True,\n",
        "            padding=\"max_length\", # pad_to_max_length=True\n",
        "            truncation=True\n",
        "        )\n",
        "        \n",
        "        #print(len(input_dict))\n",
        "\n",
        "        input_ids, token_type_ids, attention_mask = (input_dict[\"input_ids\"],\n",
        "            input_dict[\"token_type_ids\"], input_dict['attention_mask'])\n",
        "\n",
        "        features.append(\n",
        "            InputFeatures(\n",
        "                input_ids=input_ids, attention_mask=attention_mask, token_type_ids=token_type_ids, label=e.label\n",
        "            )\n",
        "        )\n",
        "    def gen():\n",
        "        for f in features:\n",
        "            yield (\n",
        "                  f.input_ids,\n",
        "                  f.attention_mask,\n",
        "                  f.token_type_ids\n",
        "                ,\n",
        "                # f.label,\n",
        "            )\n",
        "\n",
        "    return tf.data.Dataset.from_generator(\n",
        "        gen,\n",
        "        (tf.int32, tf.int32, tf.int32),\n",
        "        (\n",
        "              tf.TensorShape([128]),\n",
        "              tf.TensorShape([128]),\n",
        "              tf.TensorShape([128])\n",
        "            ,\n",
        "            # tf.TensorShape([]),\n",
        "        ),\n",
        "    )\n",
        "\n",
        "DATA_COLUMN = 'clean_tweet'\n",
        "LABEL_COLUMN = 'label'"
      ],
      "metadata": {
        "id": "QXhnsttwB5by"
      },
      "execution_count": null,
      "outputs": []
    },
    {
      "cell_type": "code",
      "source": [
        "# call above function\n",
        "train_InputExamples, validation_InputExamples, test_InputExamples = convert_data_to_examples(Text_train, Text_val, Text_test, DATA_COLUMN, LABEL_COLUMN)\n",
        "\n",
        "text_train_data = convert_examples_to_tf_dataset(list(train_InputExamples), tokenizer)\n",
        "text_train_data = text_train_data.batch(32, drop_remainder=True)\n",
        "\n",
        "text_val_data = convert_examples_to_tf_dataset(list(validation_InputExamples), tokenizer)\n",
        "text_val_data = text_val_data.batch(32, drop_remainder=True)\n",
        "\n",
        "text_test_data = convert_examples_to_tf_dataset(list(test_InputExamples), tokenizer)\n",
        "text_test_data = text_test_data.batch(32, drop_remainder=True)"
      ],
      "metadata": {
        "id": "Z_HkTDdHB5i_"
      },
      "execution_count": null,
      "outputs": []
    },
    {
      "cell_type": "code",
      "source": [
        "text_train_data.element_spec"
      ],
      "metadata": {
        "colab": {
          "base_uri": "https://localhost:8080/"
        },
        "id": "dvEaUEVCuLfb",
        "outputId": "358c80ae-8e24-4920-b632-6739b2e724ab"
      },
      "execution_count": null,
      "outputs": [
        {
          "output_type": "execute_result",
          "data": {
            "text/plain": [
              "(TensorSpec(shape=(32, 128), dtype=tf.int32, name=None),\n",
              " TensorSpec(shape=(32, 128), dtype=tf.int32, name=None),\n",
              " TensorSpec(shape=(32, 128), dtype=tf.int32, name=None))"
            ]
          },
          "metadata": {},
          "execution_count": 32
        }
      ]
    },
    {
      "cell_type": "code",
      "source": [
        "elem = next(iter(text_train_data))\n",
        "elem"
      ],
      "metadata": {
        "colab": {
          "base_uri": "https://localhost:8080/"
        },
        "id": "K45EsFdYn7zG",
        "outputId": "38e3ddbc-c4d4-46d7-a235-53ab67f083a8"
      },
      "execution_count": null,
      "outputs": [
        {
          "output_type": "execute_result",
          "data": {
            "text/plain": [
              "(<tf.Tensor: shape=(32, 128), dtype=int32, numpy=\n",
              " array([[ 101, 1031, 1005, ...,    0,    0,    0],\n",
              "        [ 101, 1031, 1005, ...,    0,    0,    0],\n",
              "        [ 101, 1031, 1005, ...,    0,    0,    0],\n",
              "        ...,\n",
              "        [ 101, 1031, 1005, ...,    0,    0,    0],\n",
              "        [ 101, 1031, 1005, ...,    0,    0,    0],\n",
              "        [ 101, 1031, 1005, ...,    0,    0,    0]], dtype=int32)>,\n",
              " <tf.Tensor: shape=(32, 128), dtype=int32, numpy=\n",
              " array([[1, 1, 1, ..., 0, 0, 0],\n",
              "        [1, 1, 1, ..., 0, 0, 0],\n",
              "        [1, 1, 1, ..., 0, 0, 0],\n",
              "        ...,\n",
              "        [1, 1, 1, ..., 0, 0, 0],\n",
              "        [1, 1, 1, ..., 0, 0, 0],\n",
              "        [1, 1, 1, ..., 0, 0, 0]], dtype=int32)>,\n",
              " <tf.Tensor: shape=(32, 128), dtype=int32, numpy=\n",
              " array([[0, 0, 0, ..., 0, 0, 0],\n",
              "        [0, 0, 0, ..., 0, 0, 0],\n",
              "        [0, 0, 0, ..., 0, 0, 0],\n",
              "        ...,\n",
              "        [0, 0, 0, ..., 0, 0, 0],\n",
              "        [0, 0, 0, ..., 0, 0, 0],\n",
              "        [0, 0, 0, ..., 0, 0, 0]], dtype=int32)>)"
            ]
          },
          "metadata": {},
          "execution_count": 33
        }
      ]
    },
    {
      "cell_type": "markdown",
      "source": [
        "# Merge image and text tf.dataset"
      ],
      "metadata": {
        "id": "D77AwrnEmW97"
      }
    },
    {
      "cell_type": "code",
      "source": [
        "text_train_data.element_spec"
      ],
      "metadata": {
        "colab": {
          "base_uri": "https://localhost:8080/"
        },
        "id": "6ITHh10hys0H",
        "outputId": "a40a14ad-6f4c-43df-b9e6-e725b5ca5dd1"
      },
      "execution_count": null,
      "outputs": [
        {
          "output_type": "execute_result",
          "data": {
            "text/plain": [
              "(TensorSpec(shape=(32, 128), dtype=tf.int32, name=None),\n",
              " TensorSpec(shape=(32, 128), dtype=tf.int32, name=None),\n",
              " TensorSpec(shape=(32, 128), dtype=tf.int32, name=None))"
            ]
          },
          "metadata": {},
          "execution_count": 34
        }
      ]
    },
    {
      "cell_type": "code",
      "source": [
        "# merged train data\n",
        "try_data = tf.data.Dataset.zip((image_train_data, text_train_data))\n",
        "try_data.element_spec\n",
        "train_data = try_data.map(lambda x, y: ((x[0], y[0], y[1], y[2]), x[1]))\n",
        "train_data.element_spec"
      ],
      "metadata": {
        "colab": {
          "base_uri": "https://localhost:8080/"
        },
        "id": "vroTUNTXi0il",
        "outputId": "8f9f2826-0fbc-4ff8-f248-bed193da3818"
      },
      "execution_count": null,
      "outputs": [
        {
          "output_type": "execute_result",
          "data": {
            "text/plain": [
              "((TensorSpec(shape=(32, 224, 224, 3), dtype=tf.float32, name=None),\n",
              "  TensorSpec(shape=(32, 128), dtype=tf.int32, name=None),\n",
              "  TensorSpec(shape=(32, 128), dtype=tf.int32, name=None),\n",
              "  TensorSpec(shape=(32, 128), dtype=tf.int32, name=None)),\n",
              " TensorSpec(shape=(32,), dtype=tf.float32, name=None))"
            ]
          },
          "metadata": {},
          "execution_count": 35
        }
      ]
    },
    {
      "cell_type": "code",
      "source": [
        "# merged validation data\n",
        "try_data1 = tf.data.Dataset.zip((image_val_data, text_val_data))\n",
        "try_data1.element_spec\n",
        "val_data = try_data1.map(lambda x, y: ((x[0], y[0], y[1], y[2]), x[1]))\n",
        "val_data.element_spec"
      ],
      "metadata": {
        "colab": {
          "base_uri": "https://localhost:8080/"
        },
        "id": "efXgLhBdDHZ6",
        "outputId": "b5768fc9-ca9c-4341-a2fa-2faf7f93ba07"
      },
      "execution_count": null,
      "outputs": [
        {
          "output_type": "execute_result",
          "data": {
            "text/plain": [
              "((TensorSpec(shape=(32, 224, 224, 3), dtype=tf.float32, name=None),\n",
              "  TensorSpec(shape=(32, 128), dtype=tf.int32, name=None),\n",
              "  TensorSpec(shape=(32, 128), dtype=tf.int32, name=None),\n",
              "  TensorSpec(shape=(32, 128), dtype=tf.int32, name=None)),\n",
              " TensorSpec(shape=(32,), dtype=tf.float32, name=None))"
            ]
          },
          "metadata": {},
          "execution_count": 36
        }
      ]
    },
    {
      "cell_type": "code",
      "source": [
        "# merged validation data\n",
        "try_data2 = tf.data.Dataset.zip((image_test_data, text_test_data))\n",
        "try_data2.element_spec\n",
        "test_data = try_data2.map(lambda x, y: ((x[0], y[0], y[1], y[2]), x[1]))\n",
        "test_data.element_spec"
      ],
      "metadata": {
        "colab": {
          "base_uri": "https://localhost:8080/"
        },
        "id": "PL87CwcQZHML",
        "outputId": "2e684d51-90ce-4185-f2fa-4f9298404c90"
      },
      "execution_count": null,
      "outputs": [
        {
          "output_type": "execute_result",
          "data": {
            "text/plain": [
              "((TensorSpec(shape=(32, 224, 224, 3), dtype=tf.float32, name=None),\n",
              "  TensorSpec(shape=(32, 128), dtype=tf.int32, name=None),\n",
              "  TensorSpec(shape=(32, 128), dtype=tf.int32, name=None),\n",
              "  TensorSpec(shape=(32, 128), dtype=tf.int32, name=None)),\n",
              " TensorSpec(shape=(32,), dtype=tf.float32, name=None))"
            ]
          },
          "metadata": {},
          "execution_count": 37
        }
      ]
    },
    {
      "cell_type": "markdown",
      "source": [
        "# Late Fusion: load pre-trained model + build multi-model"
      ],
      "metadata": {
        "id": "puie_NYrCjyI"
      }
    },
    {
      "cell_type": "markdown",
      "source": [
        "***--- Image Model ---***"
      ],
      "metadata": {
        "id": "Kisoez-AwwPa"
      }
    },
    {
      "cell_type": "code",
      "source": [
        "# Load original model with pretrained weights from imagenet\n",
        "base_model = applications.VGG16(weights=\"imagenet\")\n",
        "\n",
        "# Freeze base model\n",
        "base_model.trainable = False\n",
        "\n",
        "# Create new model (deeper) on top\n",
        "img_height = 224\n",
        "img_width = 224\n",
        "inputs = Input(shape=(img_height, img_width, 3))\n",
        "x = base_model(inputs, training=False)\n",
        "outputs = Dense(128, activation=\"sigmoid\")(x) # late fusion\n",
        "\n",
        "vgg16_model = Model(inputs, outputs, name=\"image_model\")\n",
        "vgg16_model.summary()"
      ],
      "metadata": {
        "colab": {
          "base_uri": "https://localhost:8080/"
        },
        "id": "3-H3TV6D3KMv",
        "outputId": "13705b05-3e38-4755-ae64-a85d000d05b4"
      },
      "execution_count": null,
      "outputs": [
        {
          "output_type": "stream",
          "name": "stdout",
          "text": [
            "Downloading data from https://storage.googleapis.com/tensorflow/keras-applications/vgg16/vgg16_weights_tf_dim_ordering_tf_kernels.h5\n",
            "553467096/553467096 [==============================] - 17s 0us/step\n",
            "Model: \"image_model\"\n",
            "_________________________________________________________________\n",
            " Layer (type)                Output Shape              Param #   \n",
            "=================================================================\n",
            " input_2 (InputLayer)        [(None, 224, 224, 3)]     0         \n",
            "                                                                 \n",
            " vgg16 (Functional)          (None, 1000)              138357544 \n",
            "                                                                 \n",
            " dense (Dense)               (None, 128)               128128    \n",
            "                                                                 \n",
            "=================================================================\n",
            "Total params: 138,485,672\n",
            "Trainable params: 128,128\n",
            "Non-trainable params: 138,357,544\n",
            "_________________________________________________________________\n"
          ]
        }
      ]
    },
    {
      "cell_type": "code",
      "source": [
        "plot_model(vgg16_model)"
      ],
      "metadata": {
        "colab": {
          "base_uri": "https://localhost:8080/",
          "height": 272
        },
        "id": "EdiqvQi7zi3m",
        "outputId": "15e9b03e-59bf-41c6-c791-e1706b8eebb8"
      },
      "execution_count": null,
      "outputs": [
        {
          "output_type": "execute_result",
          "data": {
            "image/png": "[encoded data removed]",
            "text/plain": [
              "<IPython.core.display.Image object>"
            ]
          },
          "metadata": {},
          "execution_count": 39
        }
      ]
    },
    {
      "cell_type": "markdown",
      "source": [
        "***--- Text Model ---***"
      ],
      "metadata": {
        "id": "TgFm3B-Ww9Hu"
      }
    },
    {
      "cell_type": "code",
      "source": [
        "#bert_layer = hub.KerasLayer(\"https://tfhub.dev/tensorflow/bert_en_uncased_L-12_H-768_A-12/1\",\n",
        "#                            trainable=True)"
      ],
      "metadata": {
        "id": "4gnqief2Mco7"
      },
      "execution_count": null,
      "outputs": []
    },
    {
      "cell_type": "code",
      "source": [
        "max_length = 128\n",
        "input_word_ids = tf.keras.layers.Input(shape=(max_length,), dtype=tf.int32,\n",
        "                                       name=\"input_word_ids\")\n",
        "input_mask = tf.keras.layers.Input(shape=(max_length,), dtype=tf.int32,\n",
        "                                   name=\"input_mask\")\n",
        "segment_ids = tf.keras.layers.Input(shape=(max_length,), dtype=tf.int32,\n",
        "                                    name=\"segment_ids\")\n",
        "bert_layer = hub.KerasLayer(\"https://tfhub.dev/tensorflow/bert_en_uncased_L-12_H-768_A-12/1\",\n",
        "                            trainable=True)\n",
        "pooled_output, sequence_output = bert_layer([input_word_ids, input_mask, segment_ids])\n",
        "lstm_out = layers.Bidirectional(LSTM(128, name='LSTM'))(sequence_output) # Bidirectional LSTM instead of LSTM\n",
        "#x = layers.LSTM(128)(lstm_out)\n",
        "#x = layers.Dense(256, activation=\"relu\")(x)\n",
        "\n",
        "out = layers.Dense(128, activation=\"relu\")(lstm_out)\n",
        "\n",
        "y = layers.Dense(1,activation = 'sigmoid')(out)\n",
        "\n",
        "#bert_model = Model(inputs=[input_word_ids, input_mask, segment_ids], outputs=[pooled_output, sequence_output])\n",
        "bert_model = Model(inputs=[input_word_ids, input_mask, segment_ids], outputs=out, name=\"text_model\")"
      ],
      "metadata": {
        "id": "nrbj6Oke6uMZ"
      },
      "execution_count": null,
      "outputs": []
    },
    {
      "cell_type": "code",
      "source": [
        "#pooled_output.shape"
      ],
      "metadata": {
        "id": "6aGPKLptmx42"
      },
      "execution_count": null,
      "outputs": []
    },
    {
      "cell_type": "code",
      "source": [
        "# Keep the Bert layers trainable\n",
        "for layer in bert_model.layers:\n",
        "    layer.trainable = True"
      ],
      "metadata": {
        "id": "RgP-tmnDA7O1"
      },
      "execution_count": null,
      "outputs": []
    },
    {
      "cell_type": "code",
      "source": [
        "bert_model.summary()"
      ],
      "metadata": {
        "colab": {
          "base_uri": "https://localhost:8080/"
        },
        "id": "Rz91kFUwxJXU",
        "outputId": "e1b741ae-74e9-441f-8742-1169c771f420"
      },
      "execution_count": null,
      "outputs": [
        {
          "output_type": "stream",
          "name": "stdout",
          "text": [
            "Model: \"text_model\"\n",
            "__________________________________________________________________________________________________\n",
            " Layer (type)                   Output Shape         Param #     Connected to                     \n",
            "==================================================================================================\n",
            " input_word_ids (InputLayer)    [(None, 128)]        0           []                               \n",
            "                                                                                                  \n",
            " input_mask (InputLayer)        [(None, 128)]        0           []                               \n",
            "                                                                                                  \n",
            " segment_ids (InputLayer)       [(None, 128)]        0           []                               \n",
            "                                                                                                  \n",
            " keras_layer (KerasLayer)       [(None, 768),        109482241   ['input_word_ids[0][0]',         \n",
            "                                 (None, 128, 768)]                'input_mask[0][0]',             \n",
            "                                                                  'segment_ids[0][0]']            \n",
            "                                                                                                  \n",
            " bidirectional (Bidirectional)  (None, 256)          918528      ['keras_layer[0][1]']            \n",
            "                                                                                                  \n",
            " dense_1 (Dense)                (None, 128)          32896       ['bidirectional[0][0]']          \n",
            "                                                                                                  \n",
            "==================================================================================================\n",
            "Total params: 110,433,665\n",
            "Trainable params: 110,433,664\n",
            "Non-trainable params: 1\n",
            "__________________________________________________________________________________________________\n"
          ]
        }
      ]
    },
    {
      "cell_type": "code",
      "source": [
        "plot_model(bert_model)"
      ],
      "metadata": {
        "colab": {
          "base_uri": "https://localhost:8080/",
          "height": 369
        },
        "id": "jnu84_OWzVEH",
        "outputId": "f93589de-62bf-4294-ab67-e760c06ea25f"
      },
      "execution_count": null,
      "outputs": [
        {
          "output_type": "execute_result",
          "data": {
            "image/png": "[encoded data removed]",
            "text/plain": [
              "<IPython.core.display.Image object>"
            ]
          },
          "metadata": {},
          "execution_count": 45
        }
      ]
    },
    {
      "cell_type": "markdown",
      "source": [
        "***--- Multimodal ---***"
      ],
      "metadata": {
        "id": "Xo3kRGnryVkU"
      }
    },
    {
      "cell_type": "code",
      "source": [
        "# Stacking early-fusion multimodal model\n",
        "#nClasses = 2 # for multi-class\n",
        "\n",
        "input_word_ids = layers.Input(shape=(max_length,), dtype=tf.int32,\n",
        "                                       name=\"input_word_ids\")\n",
        "input_mask = layers.Input(shape=(max_length,), dtype=tf.int32,\n",
        "                                       name=\"input_mask\")\n",
        "segment_ids = layers.Input(shape=(max_length,), dtype=tf.int32,\n",
        "                                       name=\"segment_ids\")\n",
        "image_input = layers.Input(shape=(img_height, img_width, 3), dtype=tf.float32,\n",
        "                                       name=\"image\")\n",
        "\n",
        "image_side = v  \n",
        "text_side = bert_model([input_word_ids, input_mask, segment_ids])\n",
        "# Concatenate features from images and texts\n",
        "merged = layers.Concatenate()([image_side, text_side])\n",
        "merged = layers.Dense(256, activation=\"relu\")(merged)\n",
        "#merged = layers.Dropout(0.2)(merged)\n",
        "output = layers.Dense(1, activation=\"sigmoid\", name=\"class\")(merged)\n",
        "\n",
        "merge_model = models.Model([image_input, input_word_ids, input_mask, segment_ids], output)"
      ],
      "metadata": {
        "id": "tFNkM_hUxpT2"
      },
      "execution_count": null,
      "outputs": []
    },
    {
      "cell_type": "code",
      "source": [
        "merge_model.summary()"
      ],
      "metadata": {
        "colab": {
          "base_uri": "https://localhost:8080/"
        },
        "id": "CnGtH8oexpf-",
        "outputId": "56c47f6f-3241-45e7-e61a-1fff95d79b5f"
      },
      "execution_count": null,
      "outputs": [
        {
          "output_type": "stream",
          "name": "stdout",
          "text": [
            "Model: \"model_1\"\n",
            "__________________________________________________________________________________________________\n",
            " Layer (type)                   Output Shape         Param #     Connected to                     \n",
            "==================================================================================================\n",
            " image (InputLayer)             [(None, 224, 224, 3  0           []                               \n",
            "                                )]                                                                \n",
            "                                                                                                  \n",
            " input_word_ids (InputLayer)    [(None, 128)]        0           []                               \n",
            "                                                                                                  \n",
            " input_mask (InputLayer)        [(None, 128)]        0           []                               \n",
            "                                                                                                  \n",
            " segment_ids (InputLayer)       [(None, 128)]        0           []                               \n",
            "                                                                                                  \n",
            " image_model (Functional)       (None, 128)          138485672   ['image[0][0]']                  \n",
            "                                                                                                  \n",
            " text_model (Functional)        (None, 128)          110433665   ['input_word_ids[0][0]',         \n",
            "                                                                  'input_mask[0][0]',             \n",
            "                                                                  'segment_ids[0][0]']            \n",
            "                                                                                                  \n",
            " concatenate_1 (Concatenate)    (None, 256)          0           ['image_model[1][0]',            \n",
            "                                                                  'text_model[1][0]']             \n",
            "                                                                                                  \n",
            " dense_4 (Dense)                (None, 256)          65792       ['concatenate_1[0][0]']          \n",
            "                                                                                                  \n",
            " class (Dense)                  (None, 1)            257         ['dense_4[0][0]']                \n",
            "                                                                                                  \n",
            "==================================================================================================\n",
            "Total params: 248,985,386\n",
            "Trainable params: 110,627,841\n",
            "Non-trainable params: 138,357,545\n",
            "__________________________________________________________________________________________________\n"
          ]
        }
      ]
    },
    {
      "cell_type": "code",
      "source": [
        "plot_model(merge_model)"
      ],
      "metadata": {
        "colab": {
          "base_uri": "https://localhost:8080/",
          "height": 466
        },
        "id": "k4PFo5c-aQ_x",
        "outputId": "ca8c6064-097c-4dca-d2f3-a9ee74fe5209"
      },
      "execution_count": null,
      "outputs": [
        {
          "output_type": "execute_result",
          "data": {
            "image/png": "[encoded data removed]",
            "text/plain": [
              "<IPython.core.display.Image object>"
            ]
          },
          "metadata": {},
          "execution_count": 48
        }
      ]
    },
    {
      "cell_type": "markdown",
      "source": [
        "# Model Compile"
      ],
      "metadata": {
        "id": "MlsUcu9nnfkp"
      }
    },
    {
      "cell_type": "code",
      "source": [
        "#import mlflow.tensorflow\n",
        "from tensorflow.keras.optimizers import Adam"
      ],
      "metadata": {
        "id": "py2vFZ5GDF5h"
      },
      "execution_count": null,
      "outputs": []
    },
    {
      "cell_type": "code",
      "source": [
        "# optimizer and metric\n",
        "merge_model.compile(loss=\"binary_crossentropy\", optimizer='adam', metrics=[\"accuracy\"]) # default lr = 0.001\n",
        "n_epochs = 10"
      ],
      "metadata": {
        "id": "NSmrtycAFEOX"
      },
      "execution_count": null,
      "outputs": []
    },
    {
      "cell_type": "code",
      "source": [
        "train_data.element_spec"
      ],
      "metadata": {
        "colab": {
          "base_uri": "https://localhost:8080/"
        },
        "id": "qOohJEatjgD7",
        "outputId": "ecae83c9-5f96-4c86-a790-d61897862506"
      },
      "execution_count": null,
      "outputs": [
        {
          "output_type": "execute_result",
          "data": {
            "text/plain": [
              "((TensorSpec(shape=(32, 224, 224, 3), dtype=tf.float32, name=None),\n",
              "  TensorSpec(shape=(32, 128), dtype=tf.int32, name=None),\n",
              "  TensorSpec(shape=(32, 128), dtype=tf.int32, name=None),\n",
              "  TensorSpec(shape=(32, 128), dtype=tf.int32, name=None)),\n",
              " TensorSpec(shape=(32,), dtype=tf.float32, name=None))"
            ]
          },
          "metadata": {},
          "execution_count": 51
        }
      ]
    },
    {
      "cell_type": "code",
      "source": [
        "#step_size_train = 1308//32\n",
        "#step_size_valid = 437//32"
      ],
      "metadata": {
        "id": "TRaXdo4W_N67"
      },
      "execution_count": null,
      "outputs": []
    },
    {
      "cell_type": "code",
      "source": [
        "#step_size_train=train_data.n//train_data.batch_size\n",
        "#step_size_valid=valid_generator.n//valid_generator.batch_size"
      ],
      "metadata": {
        "id": "zmQxldIxte9o"
      },
      "execution_count": null,
      "outputs": []
    },
    {
      "cell_type": "markdown",
      "source": [
        "# Early stopping and model saving"
      ],
      "metadata": {
        "id": "N314SW9k0NEH"
      }
    },
    {
      "cell_type": "code",
      "source": [
        "# checkpoint = tf.keras.callbacks.ModelCheckpoint('model.h5', monitor='val_loss', save_best_only=True, verbose=1)\n",
        "earlystopping = tf.keras.callbacks.EarlyStopping(monitor='val_loss', patience=5, verbose=1)\n",
        "\n",
        "# Save and Load model\n",
        "checkpoint_filepath = '/content/drive/MyDrive/DATA-793 Pinyu Chen/model_tweet_late_fusion.h5'\n",
        "model_checkpoint_callback = tf.keras.callbacks.ModelCheckpoint(\n",
        "    filepath=checkpoint_filepath,\n",
        "    save_weights_only=True,\n",
        "    monitor='val_accuracy',\n",
        "    mode='max',\n",
        "    save_best_only=True)"
      ],
      "metadata": {
        "id": "1Mg7C_83QwYs"
      },
      "execution_count": null,
      "outputs": []
    },
    {
      "cell_type": "markdown",
      "source": [
        "# Exponential Scheduling"
      ],
      "metadata": {
        "id": "huoVotvo0P8f"
      }
    },
    {
      "cell_type": "code",
      "source": [
        "def exponential_decay_fn(epoch):\n",
        "    return 0.01 * 0.1**(epoch / 12.5)"
      ],
      "metadata": {
        "id": "vJfzk2gG0RE2"
      },
      "execution_count": null,
      "outputs": []
    },
    {
      "cell_type": "code",
      "source": [
        "def exponential_decay(lr0, s):\n",
        "    def exponential_decay_fn(epoch):\n",
        "        return lr0 * 0.1**(epoch / s)\n",
        "    return exponential_decay_fn\n",
        "\n",
        "exponential_decay_fn = exponential_decay(lr0=0.01, s=12.5)"
      ],
      "metadata": {
        "id": "VjU2UN8M0SeI"
      },
      "execution_count": null,
      "outputs": []
    },
    {
      "cell_type": "code",
      "source": [
        "# callbacks=[lr_scheduler]\n",
        "lr_scheduler = keras.callbacks.LearningRateScheduler(exponential_decay_fn)"
      ],
      "metadata": {
        "id": "O-P7gLdB0T5a"
      },
      "execution_count": null,
      "outputs": []
    },
    {
      "cell_type": "markdown",
      "source": [
        "# Training model"
      ],
      "metadata": {
        "id": "4gJfZ6h90Y0j"
      }
    },
    {
      "cell_type": "code",
      "source": [
        "# Train the model \n",
        "latefs_history = merge_model.fit(train_data,\n",
        "                #steps_per_epoch=step_size_train, #tf.dataset is none\n",
        "                validation_data=val_data,\n",
        "                #validation_steps=step_size_valid,\n",
        "                epochs=n_epochs,\n",
        "                callbacks=[model_checkpoint_callback, earlystopping, lr_scheduler],\n",
        "                verbose=2 # show: epoch 1/10...\n",
        ")"
      ],
      "metadata": {
        "colab": {
          "base_uri": "https://localhost:8080/"
        },
        "id": "-sjgGf-BFHrv",
        "outputId": "698e4d49-218f-4f52-dd86-0fbbded07abd"
      },
      "execution_count": null,
      "outputs": [
        {
          "output_type": "stream",
          "name": "stdout",
          "text": [
            "Epoch 1/10\n",
            "213/213 - 370s - loss: 0.7301 - accuracy: 0.5305 - val_loss: 0.6888 - val_accuracy: 0.5616 - lr: 0.0100 - 370s/epoch - 2s/step\n",
            "Epoch 2/10\n",
            "213/213 - 239s - loss: 0.6859 - accuracy: 0.5599 - val_loss: 0.6797 - val_accuracy: 0.5612 - lr: 0.0083 - 239s/epoch - 1s/step\n",
            "Epoch 3/10\n",
            "213/213 - 250s - loss: 0.6520 - accuracy: 0.5998 - val_loss: 0.5943 - val_accuracy: 0.6799 - lr: 0.0069 - 250s/epoch - 1s/step\n",
            "Epoch 4/10\n",
            "213/213 - 243s - loss: 0.5400 - accuracy: 0.7180 - val_loss: 0.4857 - val_accuracy: 0.7429 - lr: 0.0058 - 243s/epoch - 1s/step\n",
            "Epoch 5/10\n",
            "213/213 - 243s - loss: 0.4779 - accuracy: 0.7631 - val_loss: 0.4515 - val_accuracy: 0.7594 - lr: 0.0048 - 243s/epoch - 1s/step\n",
            "Epoch 6/10\n",
            "213/213 - 243s - loss: 0.4208 - accuracy: 0.8019 - val_loss: 0.4161 - val_accuracy: 0.7906 - lr: 0.0040 - 243s/epoch - 1s/step\n",
            "Epoch 7/10\n",
            "213/213 - 244s - loss: 0.3795 - accuracy: 0.8241 - val_loss: 0.4133 - val_accuracy: 0.8232 - lr: 0.0033 - 244s/epoch - 1s/step\n",
            "Epoch 8/10\n",
            "213/213 - 244s - loss: 0.3564 - accuracy: 0.8424 - val_loss: 0.3513 - val_accuracy: 0.8335 - lr: 0.0028 - 244s/epoch - 1s/step\n",
            "Epoch 9/10\n",
            "213/213 - 236s - loss: 0.3391 - accuracy: 0.8565 - val_loss: 0.3282 - val_accuracy: 0.8585 - lr: 0.0023 - 236s/epoch - 1s/step\n",
            "Epoch 10/10\n",
            "213/213 - 244s - loss: 0.3239 - accuracy: 0.8628 - val_loss: 0.3109 - val_accuracy: 0.8670 - lr: 0.0019 - 244s/epoch - 1s/step\n"
          ]
        }
      ]
    },
    {
      "cell_type": "code",
      "source": [
        "# Evaluate\n",
        "#step_size_test = test_generator.n//test_generator.batch_size"
      ],
      "metadata": {
        "id": "L2tblZ9-FIXf"
      },
      "execution_count": null,
      "outputs": []
    },
    {
      "cell_type": "code",
      "source": [
        "eval_results = merge_model.evaluate(test_data)\n",
        "                                    #steps=step_size_test\n",
        "print(f\"loss: {eval_results[0]}. accuracy: {eval_results[1]}\")"
      ],
      "metadata": {
        "colab": {
          "base_uri": "https://localhost:8080/"
        },
        "id": "5QLvyp97ZZSX",
        "outputId": "0696dc3f-a2aa-477c-e2d6-a958841b5593"
      },
      "execution_count": null,
      "outputs": [
        {
          "output_type": "stream",
          "name": "stdout",
          "text": [
            "24/24 [==============================] - 13s 519ms/step - loss: 0.3009 - accuracy: 0.8763\n",
            "loss: 0.3008740246295929. accuracy: 0.8763020634651184\n"
          ]
        }
      ]
    },
    {
      "cell_type": "markdown",
      "source": [
        "# Plot"
      ],
      "metadata": {
        "id": "Bk4A0XIM42QP"
      }
    },
    {
      "cell_type": "code",
      "source": [
        "# plot accuracy\n",
        "plt.plot(latefs_history.history['accuracy'])\n",
        "plt.plot(latefs_history.history['val_accuracy'])\n",
        "plt.title('model accuracy')\n",
        "plt.ylabel('accuracy')\n",
        "plt.xlabel('epoch')\n",
        "plt.legend(['train', 'val'], loc='lower right')\n",
        "plt.show()"
      ],
      "metadata": {
        "colab": {
          "base_uri": "https://localhost:8080/",
          "height": 295
        },
        "id": "sepR9ggt45cO",
        "outputId": "c869732e-a33a-4926-fc5c-ecc4352c3eff"
      },
      "execution_count": null,
      "outputs": [
        {
          "output_type": "display_data",
          "data": {
            "text/plain": [
              "<Figure size 432x288 with 1 Axes>"
            ],
            "image/png": "[encoded data removed]"
          },
          "metadata": {
            "needs_background": "light"
          }
        }
      ]
    },
    {
      "cell_type": "code",
      "source": [
        "# plot loss\n",
        "plt.plot(latefs_history.history['loss'])\n",
        "plt.plot(latefs_history.history['val_loss'])\n",
        "plt.title('model loss')\n",
        "plt.ylabel('loss')\n",
        "plt.xlabel('epoch')\n",
        "plt.legend(['train', 'val'], loc='upper right')\n",
        "plt.show()"
      ],
      "metadata": {
        "colab": {
          "base_uri": "https://localhost:8080/",
          "height": 295
        },
        "id": "bfmicWgF45fF",
        "outputId": "bfd81bb5-1c2d-4207-91f6-2ff4c90873ff"
      },
      "execution_count": null,
      "outputs": [
        {
          "output_type": "display_data",
          "data": {
            "text/plain": [
              "<Figure size 432x288 with 1 Axes>"
            ],
            "image/png": "[encoded data removed]"
          },
          "metadata": {
            "needs_background": "light"
          }
        }
      ]
    },
    {
      "cell_type": "code",
      "source": [
        "plt.plot(latefs_history.epoch, latefs_history.history[\"lr\"], \"bo-\")\n",
        "plt.xlabel(\"Epoch\")\n",
        "plt.ylabel(\"Learning Rate\", color='b')\n",
        "plt.tick_params('y', colors='b')\n",
        "plt.gca().set_xlim(0, n_epochs - 1)\n",
        "plt.grid(True)\n",
        "\n",
        "ax2 = plt.gca().twinx()\n",
        "ax2.plot(latefs_history.epoch, latefs_history.history[\"val_loss\"], \"r^-\")\n",
        "ax2.set_ylabel('Validation Loss', color='r')\n",
        "ax2.tick_params('y', colors='r')\n",
        "\n",
        "plt.title(\"Reduce LR on Plateau\", fontsize=14)\n",
        "plt.show()"
      ],
      "metadata": {
        "id": "LIFYH_uF0gcL",
        "colab": {
          "base_uri": "https://localhost:8080/",
          "height": 296
        },
        "outputId": "f821a3ed-57a7-48c6-d2db-f09ff768251d"
      },
      "execution_count": null,
      "outputs": [
        {
          "output_type": "display_data",
          "data": {
            "text/plain": [
              "<Figure size 432x288 with 2 Axes>"
            ],
            "image/png": "[encoded data removed]"
          },
          "metadata": {
            "needs_background": "light"
          }
        }
      ]
    }
  ]
}