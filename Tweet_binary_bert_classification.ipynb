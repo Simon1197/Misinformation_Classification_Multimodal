{
  "nbformat": 4,
  "nbformat_minor": 0,
  "metadata": {
    "colab": {
      "provenance": [],
      "collapsed_sections": [
        "Er9f-4e69KAn",
        "soQe27wEqhex",
        "QxyDLv9f9dEg",
        "3_R6JDxNq_GT",
        "tc2gLRpjrEUt",
        "mH6bdrc9tASb",
        "iDdU6yGBtl_A",
        "rR8f-H6h2MGx"
      ]
    },
    "kernelspec": {
      "name": "python3",
      "display_name": "Python 3"
    },
    "language_info": {
      "name": "python"
    },
    "gpuClass": "standard",
    "widgets": {
      "application/vnd.jupyter.widget-state+json": {
        "3065b8aa3fcc4386820dd7d28ef03640": {
          "model_module": "@jupyter-widgets/controls",
          "model_name": "HBoxModel",
          "model_module_version": "1.5.0",
          "state": {
            "_dom_classes": [],
            "_model_module": "@jupyter-widgets/controls",
            "_model_module_version": "1.5.0",
            "_model_name": "HBoxModel",
            "_view_count": null,
            "_view_module": "@jupyter-widgets/controls",
            "_view_module_version": "1.5.0",
            "_view_name": "HBoxView",
            "box_style": "",
            "children": [
              "IPY_MODEL_36b963e91e844133ac36f36321077bc8",
              "IPY_MODEL_0f0d68c2bd5440328e612a362ceec642",
              "IPY_MODEL_e4c395162e7a4d2296d6c6240fead8ba"
            ],
            "layout": "IPY_MODEL_a4039becb20d489ab36e4e1a7241503e"
          }
        },
        "36b963e91e844133ac36f36321077bc8": {
          "model_module": "@jupyter-widgets/controls",
          "model_name": "HTMLModel",
          "model_module_version": "1.5.0",
          "state": {
            "_dom_classes": [],
            "_model_module": "@jupyter-widgets/controls",
            "_model_module_version": "1.5.0",
            "_model_name": "HTMLModel",
            "_view_count": null,
            "_view_module": "@jupyter-widgets/controls",
            "_view_module_version": "1.5.0",
            "_view_name": "HTMLView",
            "description": "",
            "description_tooltip": null,
            "layout": "IPY_MODEL_2996171105074d9bab24db40938e2e7a",
            "placeholder": "​",
            "style": "IPY_MODEL_a479da1f19c14c159117a6eac107acb1",
            "value": "Downloading: 100%"
          }
        },
        "0f0d68c2bd5440328e612a362ceec642": {
          "model_module": "@jupyter-widgets/controls",
          "model_name": "FloatProgressModel",
          "model_module_version": "1.5.0",
          "state": {
            "_dom_classes": [],
            "_model_module": "@jupyter-widgets/controls",
            "_model_module_version": "1.5.0",
            "_model_name": "FloatProgressModel",
            "_view_count": null,
            "_view_module": "@jupyter-widgets/controls",
            "_view_module_version": "1.5.0",
            "_view_name": "ProgressView",
            "bar_style": "success",
            "description": "",
            "description_tooltip": null,
            "layout": "IPY_MODEL_c30ece8b9ed24f48a70c2008d416160b",
            "max": 29,
            "min": 0,
            "orientation": "horizontal",
            "style": "IPY_MODEL_935b2988da524ca684ff04695b42c21e",
            "value": 29
          }
        },
        "e4c395162e7a4d2296d6c6240fead8ba": {
          "model_module": "@jupyter-widgets/controls",
          "model_name": "HTMLModel",
          "model_module_version": "1.5.0",
          "state": {
            "_dom_classes": [],
            "_model_module": "@jupyter-widgets/controls",
            "_model_module_version": "1.5.0",
            "_model_name": "HTMLModel",
            "_view_count": null,
            "_view_module": "@jupyter-widgets/controls",
            "_view_module_version": "1.5.0",
            "_view_name": "HTMLView",
            "description": "",
            "description_tooltip": null,
            "layout": "IPY_MODEL_f7dc63c692144f13ac0028ce127b926c",
            "placeholder": "​",
            "style": "IPY_MODEL_3657de5e6f6a42688b41933fa54b30eb",
            "value": " 29.0/29.0 [00:00&lt;00:00, 299B/s]"
          }
        },
        "a4039becb20d489ab36e4e1a7241503e": {
          "model_module": "@jupyter-widgets/base",
          "model_name": "LayoutModel",
          "model_module_version": "1.2.0",
          "state": {
            "_model_module": "@jupyter-widgets/base",
            "_model_module_version": "1.2.0",
            "_model_name": "LayoutModel",
            "_view_count": null,
            "_view_module": "@jupyter-widgets/base",
            "_view_module_version": "1.2.0",
            "_view_name": "LayoutView",
            "align_content": null,
            "align_items": null,
            "align_self": null,
            "border": null,
            "bottom": null,
            "display": null,
            "flex": null,
            "flex_flow": null,
            "grid_area": null,
            "grid_auto_columns": null,
            "grid_auto_flow": null,
            "grid_auto_rows": null,
            "grid_column": null,
            "grid_gap": null,
            "grid_row": null,
            "grid_template_areas": null,
            "grid_template_columns": null,
            "grid_template_rows": null,
            "height": null,
            "justify_content": null,
            "justify_items": null,
            "left": null,
            "margin": null,
            "max_height": null,
            "max_width": null,
            "min_height": null,
            "min_width": null,
            "object_fit": null,
            "object_position": null,
            "order": null,
            "overflow": null,
            "overflow_x": null,
            "overflow_y": null,
            "padding": null,
            "right": null,
            "top": null,
            "visibility": null,
            "width": null
          }
        },
        "2996171105074d9bab24db40938e2e7a": {
          "model_module": "@jupyter-widgets/base",
          "model_name": "LayoutModel",
          "model_module_version": "1.2.0",
          "state": {
            "_model_module": "@jupyter-widgets/base",
            "_model_module_version": "1.2.0",
            "_model_name": "LayoutModel",
            "_view_count": null,
            "_view_module": "@jupyter-widgets/base",
            "_view_module_version": "1.2.0",
            "_view_name": "LayoutView",
            "align_content": null,
            "align_items": null,
            "align_self": null,
            "border": null,
            "bottom": null,
            "display": null,
            "flex": null,
            "flex_flow": null,
            "grid_area": null,
            "grid_auto_columns": null,
            "grid_auto_flow": null,
            "grid_auto_rows": null,
            "grid_column": null,
            "grid_gap": null,
            "grid_row": null,
            "grid_template_areas": null,
            "grid_template_columns": null,
            "grid_template_rows": null,
            "height": null,
            "justify_content": null,
            "justify_items": null,
            "left": null,
            "margin": null,
            "max_height": null,
            "max_width": null,
            "min_height": null,
            "min_width": null,
            "object_fit": null,
            "object_position": null,
            "order": null,
            "overflow": null,
            "overflow_x": null,
            "overflow_y": null,
            "padding": null,
            "right": null,
            "top": null,
            "visibility": null,
            "width": null
          }
        },
        "a479da1f19c14c159117a6eac107acb1": {
          "model_module": "@jupyter-widgets/controls",
          "model_name": "DescriptionStyleModel",
          "model_module_version": "1.5.0",
          "state": {
            "_model_module": "@jupyter-widgets/controls",
            "_model_module_version": "1.5.0",
            "_model_name": "DescriptionStyleModel",
            "_view_count": null,
            "_view_module": "@jupyter-widgets/base",
            "_view_module_version": "1.2.0",
            "_view_name": "StyleView",
            "description_width": ""
          }
        },
        "c30ece8b9ed24f48a70c2008d416160b": {
          "model_module": "@jupyter-widgets/base",
          "model_name": "LayoutModel",
          "model_module_version": "1.2.0",
          "state": {
            "_model_module": "@jupyter-widgets/base",
            "_model_module_version": "1.2.0",
            "_model_name": "LayoutModel",
            "_view_count": null,
            "_view_module": "@jupyter-widgets/base",
            "_view_module_version": "1.2.0",
            "_view_name": "LayoutView",
            "align_content": null,
            "align_items": null,
            "align_self": null,
            "border": null,
            "bottom": null,
            "display": null,
            "flex": null,
            "flex_flow": null,
            "grid_area": null,
            "grid_auto_columns": null,
            "grid_auto_flow": null,
            "grid_auto_rows": null,
            "grid_column": null,
            "grid_gap": null,
            "grid_row": null,
            "grid_template_areas": null,
            "grid_template_columns": null,
            "grid_template_rows": null,
            "height": null,
            "justify_content": null,
            "justify_items": null,
            "left": null,
            "margin": null,
            "max_height": null,
            "max_width": null,
            "min_height": null,
            "min_width": null,
            "object_fit": null,
            "object_position": null,
            "order": null,
            "overflow": null,
            "overflow_x": null,
            "overflow_y": null,
            "padding": null,
            "right": null,
            "top": null,
            "visibility": null,
            "width": null
          }
        },
        "935b2988da524ca684ff04695b42c21e": {
          "model_module": "@jupyter-widgets/controls",
          "model_name": "ProgressStyleModel",
          "model_module_version": "1.5.0",
          "state": {
            "_model_module": "@jupyter-widgets/controls",
            "_model_module_version": "1.5.0",
            "_model_name": "ProgressStyleModel",
            "_view_count": null,
            "_view_module": "@jupyter-widgets/base",
            "_view_module_version": "1.2.0",
            "_view_name": "StyleView",
            "bar_color": null,
            "description_width": ""
          }
        },
        "f7dc63c692144f13ac0028ce127b926c": {
          "model_module": "@jupyter-widgets/base",
          "model_name": "LayoutModel",
          "model_module_version": "1.2.0",
          "state": {
            "_model_module": "@jupyter-widgets/base",
            "_model_module_version": "1.2.0",
            "_model_name": "LayoutModel",
            "_view_count": null,
            "_view_module": "@jupyter-widgets/base",
            "_view_module_version": "1.2.0",
            "_view_name": "LayoutView",
            "align_content": null,
            "align_items": null,
            "align_self": null,
            "border": null,
            "bottom": null,
            "display": null,
            "flex": null,
            "flex_flow": null,
            "grid_area": null,
            "grid_auto_columns": null,
            "grid_auto_flow": null,
            "grid_auto_rows": null,
            "grid_column": null,
            "grid_gap": null,
            "grid_row": null,
            "grid_template_areas": null,
            "grid_template_columns": null,
            "grid_template_rows": null,
            "height": null,
            "justify_content": null,
            "justify_items": null,
            "left": null,
            "margin": null,
            "max_height": null,
            "max_width": null,
            "min_height": null,
            "min_width": null,
            "object_fit": null,
            "object_position": null,
            "order": null,
            "overflow": null,
            "overflow_x": null,
            "overflow_y": null,
            "padding": null,
            "right": null,
            "top": null,
            "visibility": null,
            "width": null
          }
        },
        "3657de5e6f6a42688b41933fa54b30eb": {
          "model_module": "@jupyter-widgets/controls",
          "model_name": "DescriptionStyleModel",
          "model_module_version": "1.5.0",
          "state": {
            "_model_module": "@jupyter-widgets/controls",
            "_model_module_version": "1.5.0",
            "_model_name": "DescriptionStyleModel",
            "_view_count": null,
            "_view_module": "@jupyter-widgets/base",
            "_view_module_version": "1.2.0",
            "_view_name": "StyleView",
            "description_width": ""
          }
        },
        "749001956ebf41c4a4ce9c3f167405bb": {
          "model_module": "@jupyter-widgets/controls",
          "model_name": "HBoxModel",
          "model_module_version": "1.5.0",
          "state": {
            "_dom_classes": [],
            "_model_module": "@jupyter-widgets/controls",
            "_model_module_version": "1.5.0",
            "_model_name": "HBoxModel",
            "_view_count": null,
            "_view_module": "@jupyter-widgets/controls",
            "_view_module_version": "1.5.0",
            "_view_name": "HBoxView",
            "box_style": "",
            "children": [
              "IPY_MODEL_315bbdb9b70a413d8ec3b6b162ec8072",
              "IPY_MODEL_bfdbffc6a7ce425f9a997654bd625398",
              "IPY_MODEL_abd86edda58648dd96bbb32517989863"
            ],
            "layout": "IPY_MODEL_40a9a450fe37458abff3b873c0fbb553"
          }
        },
        "315bbdb9b70a413d8ec3b6b162ec8072": {
          "model_module": "@jupyter-widgets/controls",
          "model_name": "HTMLModel",
          "model_module_version": "1.5.0",
          "state": {
            "_dom_classes": [],
            "_model_module": "@jupyter-widgets/controls",
            "_model_module_version": "1.5.0",
            "_model_name": "HTMLModel",
            "_view_count": null,
            "_view_module": "@jupyter-widgets/controls",
            "_view_module_version": "1.5.0",
            "_view_name": "HTMLView",
            "description": "",
            "description_tooltip": null,
            "layout": "IPY_MODEL_0b31733901c34583ac572734ec7d89be",
            "placeholder": "​",
            "style": "IPY_MODEL_224fdfba3b9440a39233a05015201c40",
            "value": "Downloading: 100%"
          }
        },
        "bfdbffc6a7ce425f9a997654bd625398": {
          "model_module": "@jupyter-widgets/controls",
          "model_name": "FloatProgressModel",
          "model_module_version": "1.5.0",
          "state": {
            "_dom_classes": [],
            "_model_module": "@jupyter-widgets/controls",
            "_model_module_version": "1.5.0",
            "_model_name": "FloatProgressModel",
            "_view_count": null,
            "_view_module": "@jupyter-widgets/controls",
            "_view_module_version": "1.5.0",
            "_view_name": "ProgressView",
            "bar_style": "success",
            "description": "",
            "description_tooltip": null,
            "layout": "IPY_MODEL_3c0ccf85a9d44f0d8410fdd0b9dd812b",
            "max": 570,
            "min": 0,
            "orientation": "horizontal",
            "style": "IPY_MODEL_7a977e4a3fb94147874ce68d3d6ad76d",
            "value": 570
          }
        },
        "abd86edda58648dd96bbb32517989863": {
          "model_module": "@jupyter-widgets/controls",
          "model_name": "HTMLModel",
          "model_module_version": "1.5.0",
          "state": {
            "_dom_classes": [],
            "_model_module": "@jupyter-widgets/controls",
            "_model_module_version": "1.5.0",
            "_model_name": "HTMLModel",
            "_view_count": null,
            "_view_module": "@jupyter-widgets/controls",
            "_view_module_version": "1.5.0",
            "_view_name": "HTMLView",
            "description": "",
            "description_tooltip": null,
            "layout": "IPY_MODEL_5d76cf5e91ff484b80cf7c5bdc78b1b3",
            "placeholder": "​",
            "style": "IPY_MODEL_011a644fa2494f5197b2a2442964e678",
            "value": " 570/570 [00:00&lt;00:00, 8.81kB/s]"
          }
        },
        "40a9a450fe37458abff3b873c0fbb553": {
          "model_module": "@jupyter-widgets/base",
          "model_name": "LayoutModel",
          "model_module_version": "1.2.0",
          "state": {
            "_model_module": "@jupyter-widgets/base",
            "_model_module_version": "1.2.0",
            "_model_name": "LayoutModel",
            "_view_count": null,
            "_view_module": "@jupyter-widgets/base",
            "_view_module_version": "1.2.0",
            "_view_name": "LayoutView",
            "align_content": null,
            "align_items": null,
            "align_self": null,
            "border": null,
            "bottom": null,
            "display": null,
            "flex": null,
            "flex_flow": null,
            "grid_area": null,
            "grid_auto_columns": null,
            "grid_auto_flow": null,
            "grid_auto_rows": null,
            "grid_column": null,
            "grid_gap": null,
            "grid_row": null,
            "grid_template_areas": null,
            "grid_template_columns": null,
            "grid_template_rows": null,
            "height": null,
            "justify_content": null,
            "justify_items": null,
            "left": null,
            "margin": null,
            "max_height": null,
            "max_width": null,
            "min_height": null,
            "min_width": null,
            "object_fit": null,
            "object_position": null,
            "order": null,
            "overflow": null,
            "overflow_x": null,
            "overflow_y": null,
            "padding": null,
            "right": null,
            "top": null,
            "visibility": null,
            "width": null
          }
        },
        "0b31733901c34583ac572734ec7d89be": {
          "model_module": "@jupyter-widgets/base",
          "model_name": "LayoutModel",
          "model_module_version": "1.2.0",
          "state": {
            "_model_module": "@jupyter-widgets/base",
            "_model_module_version": "1.2.0",
            "_model_name": "LayoutModel",
            "_view_count": null,
            "_view_module": "@jupyter-widgets/base",
            "_view_module_version": "1.2.0",
            "_view_name": "LayoutView",
            "align_content": null,
            "align_items": null,
            "align_self": null,
            "border": null,
            "bottom": null,
            "display": null,
            "flex": null,
            "flex_flow": null,
            "grid_area": null,
            "grid_auto_columns": null,
            "grid_auto_flow": null,
            "grid_auto_rows": null,
            "grid_column": null,
            "grid_gap": null,
            "grid_row": null,
            "grid_template_areas": null,
            "grid_template_columns": null,
            "grid_template_rows": null,
            "height": null,
            "justify_content": null,
            "justify_items": null,
            "left": null,
            "margin": null,
            "max_height": null,
            "max_width": null,
            "min_height": null,
            "min_width": null,
            "object_fit": null,
            "object_position": null,
            "order": null,
            "overflow": null,
            "overflow_x": null,
            "overflow_y": null,
            "padding": null,
            "right": null,
            "top": null,
            "visibility": null,
            "width": null
          }
        },
        "224fdfba3b9440a39233a05015201c40": {
          "model_module": "@jupyter-widgets/controls",
          "model_name": "DescriptionStyleModel",
          "model_module_version": "1.5.0",
          "state": {
            "_model_module": "@jupyter-widgets/controls",
            "_model_module_version": "1.5.0",
            "_model_name": "DescriptionStyleModel",
            "_view_count": null,
            "_view_module": "@jupyter-widgets/base",
            "_view_module_version": "1.2.0",
            "_view_name": "StyleView",
            "description_width": ""
          }
        },
        "3c0ccf85a9d44f0d8410fdd0b9dd812b": {
          "model_module": "@jupyter-widgets/base",
          "model_name": "LayoutModel",
          "model_module_version": "1.2.0",
          "state": {
            "_model_module": "@jupyter-widgets/base",
            "_model_module_version": "1.2.0",
            "_model_name": "LayoutModel",
            "_view_count": null,
            "_view_module": "@jupyter-widgets/base",
            "_view_module_version": "1.2.0",
            "_view_name": "LayoutView",
            "align_content": null,
            "align_items": null,
            "align_self": null,
            "border": null,
            "bottom": null,
            "display": null,
            "flex": null,
            "flex_flow": null,
            "grid_area": null,
            "grid_auto_columns": null,
            "grid_auto_flow": null,
            "grid_auto_rows": null,
            "grid_column": null,
            "grid_gap": null,
            "grid_row": null,
            "grid_template_areas": null,
            "grid_template_columns": null,
            "grid_template_rows": null,
            "height": null,
            "justify_content": null,
            "justify_items": null,
            "left": null,
            "margin": null,
            "max_height": null,
            "max_width": null,
            "min_height": null,
            "min_width": null,
            "object_fit": null,
            "object_position": null,
            "order": null,
            "overflow": null,
            "overflow_x": null,
            "overflow_y": null,
            "padding": null,
            "right": null,
            "top": null,
            "visibility": null,
            "width": null
          }
        },
        "7a977e4a3fb94147874ce68d3d6ad76d": {
          "model_module": "@jupyter-widgets/controls",
          "model_name": "ProgressStyleModel",
          "model_module_version": "1.5.0",
          "state": {
            "_model_module": "@jupyter-widgets/controls",
            "_model_module_version": "1.5.0",
            "_model_name": "ProgressStyleModel",
            "_view_count": null,
            "_view_module": "@jupyter-widgets/base",
            "_view_module_version": "1.2.0",
            "_view_name": "StyleView",
            "bar_color": null,
            "description_width": ""
          }
        },
        "5d76cf5e91ff484b80cf7c5bdc78b1b3": {
          "model_module": "@jupyter-widgets/base",
          "model_name": "LayoutModel",
          "model_module_version": "1.2.0",
          "state": {
            "_model_module": "@jupyter-widgets/base",
            "_model_module_version": "1.2.0",
            "_model_name": "LayoutModel",
            "_view_count": null,
            "_view_module": "@jupyter-widgets/base",
            "_view_module_version": "1.2.0",
            "_view_name": "LayoutView",
            "align_content": null,
            "align_items": null,
            "align_self": null,
            "border": null,
            "bottom": null,
            "display": null,
            "flex": null,
            "flex_flow": null,
            "grid_area": null,
            "grid_auto_columns": null,
            "grid_auto_flow": null,
            "grid_auto_rows": null,
            "grid_column": null,
            "grid_gap": null,
            "grid_row": null,
            "grid_template_areas": null,
            "grid_template_columns": null,
            "grid_template_rows": null,
            "height": null,
            "justify_content": null,
            "justify_items": null,
            "left": null,
            "margin": null,
            "max_height": null,
            "max_width": null,
            "min_height": null,
            "min_width": null,
            "object_fit": null,
            "object_position": null,
            "order": null,
            "overflow": null,
            "overflow_x": null,
            "overflow_y": null,
            "padding": null,
            "right": null,
            "top": null,
            "visibility": null,
            "width": null
          }
        },
        "011a644fa2494f5197b2a2442964e678": {
          "model_module": "@jupyter-widgets/controls",
          "model_name": "DescriptionStyleModel",
          "model_module_version": "1.5.0",
          "state": {
            "_model_module": "@jupyter-widgets/controls",
            "_model_module_version": "1.5.0",
            "_model_name": "DescriptionStyleModel",
            "_view_count": null,
            "_view_module": "@jupyter-widgets/base",
            "_view_module_version": "1.2.0",
            "_view_name": "StyleView",
            "description_width": ""
          }
        },
        "3fb35f7c900b469498501b206b0029ca": {
          "model_module": "@jupyter-widgets/controls",
          "model_name": "HBoxModel",
          "model_module_version": "1.5.0",
          "state": {
            "_dom_classes": [],
            "_model_module": "@jupyter-widgets/controls",
            "_model_module_version": "1.5.0",
            "_model_name": "HBoxModel",
            "_view_count": null,
            "_view_module": "@jupyter-widgets/controls",
            "_view_module_version": "1.5.0",
            "_view_name": "HBoxView",
            "box_style": "",
            "children": [
              "IPY_MODEL_2c17046edf1142f19e7d93e8f35a1e23",
              "IPY_MODEL_13dec1998dd845cfb135aa53605df7b5",
              "IPY_MODEL_e054f55a24c342adbb89120509137894"
            ],
            "layout": "IPY_MODEL_00859ca4fbf34e66a2c3bb551289b7e2"
          }
        },
        "2c17046edf1142f19e7d93e8f35a1e23": {
          "model_module": "@jupyter-widgets/controls",
          "model_name": "HTMLModel",
          "model_module_version": "1.5.0",
          "state": {
            "_dom_classes": [],
            "_model_module": "@jupyter-widgets/controls",
            "_model_module_version": "1.5.0",
            "_model_name": "HTMLModel",
            "_view_count": null,
            "_view_module": "@jupyter-widgets/controls",
            "_view_module_version": "1.5.0",
            "_view_name": "HTMLView",
            "description": "",
            "description_tooltip": null,
            "layout": "IPY_MODEL_55cbdb2c9fca48a19a6754ddfdbd0bb6",
            "placeholder": "​",
            "style": "IPY_MODEL_701754b63d05477da93c68c137a9697d",
            "value": "Downloading: 100%"
          }
        },
        "13dec1998dd845cfb135aa53605df7b5": {
          "model_module": "@jupyter-widgets/controls",
          "model_name": "FloatProgressModel",
          "model_module_version": "1.5.0",
          "state": {
            "_dom_classes": [],
            "_model_module": "@jupyter-widgets/controls",
            "_model_module_version": "1.5.0",
            "_model_name": "FloatProgressModel",
            "_view_count": null,
            "_view_module": "@jupyter-widgets/controls",
            "_view_module_version": "1.5.0",
            "_view_name": "ProgressView",
            "bar_style": "success",
            "description": "",
            "description_tooltip": null,
            "layout": "IPY_MODEL_bb5a07971b6a4d8d9ee82626dcd2c4e8",
            "max": 213450,
            "min": 0,
            "orientation": "horizontal",
            "style": "IPY_MODEL_b05d4e6644de4d22a998084240dbbb00",
            "value": 213450
          }
        },
        "e054f55a24c342adbb89120509137894": {
          "model_module": "@jupyter-widgets/controls",
          "model_name": "HTMLModel",
          "model_module_version": "1.5.0",
          "state": {
            "_dom_classes": [],
            "_model_module": "@jupyter-widgets/controls",
            "_model_module_version": "1.5.0",
            "_model_name": "HTMLModel",
            "_view_count": null,
            "_view_module": "@jupyter-widgets/controls",
            "_view_module_version": "1.5.0",
            "_view_name": "HTMLView",
            "description": "",
            "description_tooltip": null,
            "layout": "IPY_MODEL_9c66d9608dd646f6b33a6f28644c4f99",
            "placeholder": "​",
            "style": "IPY_MODEL_1746b1c0c83040a1ae2bcb1c438d7b04",
            "value": " 213k/213k [00:00&lt;00:00, 1.84MB/s]"
          }
        },
        "00859ca4fbf34e66a2c3bb551289b7e2": {
          "model_module": "@jupyter-widgets/base",
          "model_name": "LayoutModel",
          "model_module_version": "1.2.0",
          "state": {
            "_model_module": "@jupyter-widgets/base",
            "_model_module_version": "1.2.0",
            "_model_name": "LayoutModel",
            "_view_count": null,
            "_view_module": "@jupyter-widgets/base",
            "_view_module_version": "1.2.0",
            "_view_name": "LayoutView",
            "align_content": null,
            "align_items": null,
            "align_self": null,
            "border": null,
            "bottom": null,
            "display": null,
            "flex": null,
            "flex_flow": null,
            "grid_area": null,
            "grid_auto_columns": null,
            "grid_auto_flow": null,
            "grid_auto_rows": null,
            "grid_column": null,
            "grid_gap": null,
            "grid_row": null,
            "grid_template_areas": null,
            "grid_template_columns": null,
            "grid_template_rows": null,
            "height": null,
            "justify_content": null,
            "justify_items": null,
            "left": null,
            "margin": null,
            "max_height": null,
            "max_width": null,
            "min_height": null,
            "min_width": null,
            "object_fit": null,
            "object_position": null,
            "order": null,
            "overflow": null,
            "overflow_x": null,
            "overflow_y": null,
            "padding": null,
            "right": null,
            "top": null,
            "visibility": null,
            "width": null
          }
        },
        "55cbdb2c9fca48a19a6754ddfdbd0bb6": {
          "model_module": "@jupyter-widgets/base",
          "model_name": "LayoutModel",
          "model_module_version": "1.2.0",
          "state": {
            "_model_module": "@jupyter-widgets/base",
            "_model_module_version": "1.2.0",
            "_model_name": "LayoutModel",
            "_view_count": null,
            "_view_module": "@jupyter-widgets/base",
            "_view_module_version": "1.2.0",
            "_view_name": "LayoutView",
            "align_content": null,
            "align_items": null,
            "align_self": null,
            "border": null,
            "bottom": null,
            "display": null,
            "flex": null,
            "flex_flow": null,
            "grid_area": null,
            "grid_auto_columns": null,
            "grid_auto_flow": null,
            "grid_auto_rows": null,
            "grid_column": null,
            "grid_gap": null,
            "grid_row": null,
            "grid_template_areas": null,
            "grid_template_columns": null,
            "grid_template_rows": null,
            "height": null,
            "justify_content": null,
            "justify_items": null,
            "left": null,
            "margin": null,
            "max_height": null,
            "max_width": null,
            "min_height": null,
            "min_width": null,
            "object_fit": null,
            "object_position": null,
            "order": null,
            "overflow": null,
            "overflow_x": null,
            "overflow_y": null,
            "padding": null,
            "right": null,
            "top": null,
            "visibility": null,
            "width": null
          }
        },
        "701754b63d05477da93c68c137a9697d": {
          "model_module": "@jupyter-widgets/controls",
          "model_name": "DescriptionStyleModel",
          "model_module_version": "1.5.0",
          "state": {
            "_model_module": "@jupyter-widgets/controls",
            "_model_module_version": "1.5.0",
            "_model_name": "DescriptionStyleModel",
            "_view_count": null,
            "_view_module": "@jupyter-widgets/base",
            "_view_module_version": "1.2.0",
            "_view_name": "StyleView",
            "description_width": ""
          }
        },
        "bb5a07971b6a4d8d9ee82626dcd2c4e8": {
          "model_module": "@jupyter-widgets/base",
          "model_name": "LayoutModel",
          "model_module_version": "1.2.0",
          "state": {
            "_model_module": "@jupyter-widgets/base",
            "_model_module_version": "1.2.0",
            "_model_name": "LayoutModel",
            "_view_count": null,
            "_view_module": "@jupyter-widgets/base",
            "_view_module_version": "1.2.0",
            "_view_name": "LayoutView",
            "align_content": null,
            "align_items": null,
            "align_self": null,
            "border": null,
            "bottom": null,
            "display": null,
            "flex": null,
            "flex_flow": null,
            "grid_area": null,
            "grid_auto_columns": null,
            "grid_auto_flow": null,
            "grid_auto_rows": null,
            "grid_column": null,
            "grid_gap": null,
            "grid_row": null,
            "grid_template_areas": null,
            "grid_template_columns": null,
            "grid_template_rows": null,
            "height": null,
            "justify_content": null,
            "justify_items": null,
            "left": null,
            "margin": null,
            "max_height": null,
            "max_width": null,
            "min_height": null,
            "min_width": null,
            "object_fit": null,
            "object_position": null,
            "order": null,
            "overflow": null,
            "overflow_x": null,
            "overflow_y": null,
            "padding": null,
            "right": null,
            "top": null,
            "visibility": null,
            "width": null
          }
        },
        "b05d4e6644de4d22a998084240dbbb00": {
          "model_module": "@jupyter-widgets/controls",
          "model_name": "ProgressStyleModel",
          "model_module_version": "1.5.0",
          "state": {
            "_model_module": "@jupyter-widgets/controls",
            "_model_module_version": "1.5.0",
            "_model_name": "ProgressStyleModel",
            "_view_count": null,
            "_view_module": "@jupyter-widgets/base",
            "_view_module_version": "1.2.0",
            "_view_name": "StyleView",
            "bar_color": null,
            "description_width": ""
          }
        },
        "9c66d9608dd646f6b33a6f28644c4f99": {
          "model_module": "@jupyter-widgets/base",
          "model_name": "LayoutModel",
          "model_module_version": "1.2.0",
          "state": {
            "_model_module": "@jupyter-widgets/base",
            "_model_module_version": "1.2.0",
            "_model_name": "LayoutModel",
            "_view_count": null,
            "_view_module": "@jupyter-widgets/base",
            "_view_module_version": "1.2.0",
            "_view_name": "LayoutView",
            "align_content": null,
            "align_items": null,
            "align_self": null,
            "border": null,
            "bottom": null,
            "display": null,
            "flex": null,
            "flex_flow": null,
            "grid_area": null,
            "grid_auto_columns": null,
            "grid_auto_flow": null,
            "grid_auto_rows": null,
            "grid_column": null,
            "grid_gap": null,
            "grid_row": null,
            "grid_template_areas": null,
            "grid_template_columns": null,
            "grid_template_rows": null,
            "height": null,
            "justify_content": null,
            "justify_items": null,
            "left": null,
            "margin": null,
            "max_height": null,
            "max_width": null,
            "min_height": null,
            "min_width": null,
            "object_fit": null,
            "object_position": null,
            "order": null,
            "overflow": null,
            "overflow_x": null,
            "overflow_y": null,
            "padding": null,
            "right": null,
            "top": null,
            "visibility": null,
            "width": null
          }
        },
        "1746b1c0c83040a1ae2bcb1c438d7b04": {
          "model_module": "@jupyter-widgets/controls",
          "model_name": "DescriptionStyleModel",
          "model_module_version": "1.5.0",
          "state": {
            "_model_module": "@jupyter-widgets/controls",
            "_model_module_version": "1.5.0",
            "_model_name": "DescriptionStyleModel",
            "_view_count": null,
            "_view_module": "@jupyter-widgets/base",
            "_view_module_version": "1.2.0",
            "_view_name": "StyleView",
            "description_width": ""
          }
        },
        "412c4d2e577c40de8c58844c8942e8d5": {
          "model_module": "@jupyter-widgets/controls",
          "model_name": "HBoxModel",
          "model_module_version": "1.5.0",
          "state": {
            "_dom_classes": [],
            "_model_module": "@jupyter-widgets/controls",
            "_model_module_version": "1.5.0",
            "_model_name": "HBoxModel",
            "_view_count": null,
            "_view_module": "@jupyter-widgets/controls",
            "_view_module_version": "1.5.0",
            "_view_name": "HBoxView",
            "box_style": "",
            "children": [
              "IPY_MODEL_bdc792a9d2be4ac48e616924d0ae7517",
              "IPY_MODEL_a6274c09c4344af397d0866655de813a",
              "IPY_MODEL_1ae80a66269c4930a5dba03c5050b062"
            ],
            "layout": "IPY_MODEL_83fdd3676ebc466aacbba7b3b5a9e763"
          }
        },
        "bdc792a9d2be4ac48e616924d0ae7517": {
          "model_module": "@jupyter-widgets/controls",
          "model_name": "HTMLModel",
          "model_module_version": "1.5.0",
          "state": {
            "_dom_classes": [],
            "_model_module": "@jupyter-widgets/controls",
            "_model_module_version": "1.5.0",
            "_model_name": "HTMLModel",
            "_view_count": null,
            "_view_module": "@jupyter-widgets/controls",
            "_view_module_version": "1.5.0",
            "_view_name": "HTMLView",
            "description": "",
            "description_tooltip": null,
            "layout": "IPY_MODEL_ae59abea9ef84ef8b1a192dd1d4e66d4",
            "placeholder": "​",
            "style": "IPY_MODEL_6c4e1821434040e198139c388723dde7",
            "value": "Downloading: 100%"
          }
        },
        "a6274c09c4344af397d0866655de813a": {
          "model_module": "@jupyter-widgets/controls",
          "model_name": "FloatProgressModel",
          "model_module_version": "1.5.0",
          "state": {
            "_dom_classes": [],
            "_model_module": "@jupyter-widgets/controls",
            "_model_module_version": "1.5.0",
            "_model_name": "FloatProgressModel",
            "_view_count": null,
            "_view_module": "@jupyter-widgets/controls",
            "_view_module_version": "1.5.0",
            "_view_name": "ProgressView",
            "bar_style": "success",
            "description": "",
            "description_tooltip": null,
            "layout": "IPY_MODEL_c373367fa0eb44d2b66e2a0e65f18c12",
            "max": 435797,
            "min": 0,
            "orientation": "horizontal",
            "style": "IPY_MODEL_d527ee04574c4493a6fb0e39d0fbbf5f",
            "value": 435797
          }
        },
        "1ae80a66269c4930a5dba03c5050b062": {
          "model_module": "@jupyter-widgets/controls",
          "model_name": "HTMLModel",
          "model_module_version": "1.5.0",
          "state": {
            "_dom_classes": [],
            "_model_module": "@jupyter-widgets/controls",
            "_model_module_version": "1.5.0",
            "_model_name": "HTMLModel",
            "_view_count": null,
            "_view_module": "@jupyter-widgets/controls",
            "_view_module_version": "1.5.0",
            "_view_name": "HTMLView",
            "description": "",
            "description_tooltip": null,
            "layout": "IPY_MODEL_bb2d3979c3d24e738900f8899c9dbf12",
            "placeholder": "​",
            "style": "IPY_MODEL_e1573a4be5c54e78a6487d30787a7362",
            "value": " 436k/436k [00:00&lt;00:00, 1.61MB/s]"
          }
        },
        "83fdd3676ebc466aacbba7b3b5a9e763": {
          "model_module": "@jupyter-widgets/base",
          "model_name": "LayoutModel",
          "model_module_version": "1.2.0",
          "state": {
            "_model_module": "@jupyter-widgets/base",
            "_model_module_version": "1.2.0",
            "_model_name": "LayoutModel",
            "_view_count": null,
            "_view_module": "@jupyter-widgets/base",
            "_view_module_version": "1.2.0",
            "_view_name": "LayoutView",
            "align_content": null,
            "align_items": null,
            "align_self": null,
            "border": null,
            "bottom": null,
            "display": null,
            "flex": null,
            "flex_flow": null,
            "grid_area": null,
            "grid_auto_columns": null,
            "grid_auto_flow": null,
            "grid_auto_rows": null,
            "grid_column": null,
            "grid_gap": null,
            "grid_row": null,
            "grid_template_areas": null,
            "grid_template_columns": null,
            "grid_template_rows": null,
            "height": null,
            "justify_content": null,
            "justify_items": null,
            "left": null,
            "margin": null,
            "max_height": null,
            "max_width": null,
            "min_height": null,
            "min_width": null,
            "object_fit": null,
            "object_position": null,
            "order": null,
            "overflow": null,
            "overflow_x": null,
            "overflow_y": null,
            "padding": null,
            "right": null,
            "top": null,
            "visibility": null,
            "width": null
          }
        },
        "ae59abea9ef84ef8b1a192dd1d4e66d4": {
          "model_module": "@jupyter-widgets/base",
          "model_name": "LayoutModel",
          "model_module_version": "1.2.0",
          "state": {
            "_model_module": "@jupyter-widgets/base",
            "_model_module_version": "1.2.0",
            "_model_name": "LayoutModel",
            "_view_count": null,
            "_view_module": "@jupyter-widgets/base",
            "_view_module_version": "1.2.0",
            "_view_name": "LayoutView",
            "align_content": null,
            "align_items": null,
            "align_self": null,
            "border": null,
            "bottom": null,
            "display": null,
            "flex": null,
            "flex_flow": null,
            "grid_area": null,
            "grid_auto_columns": null,
            "grid_auto_flow": null,
            "grid_auto_rows": null,
            "grid_column": null,
            "grid_gap": null,
            "grid_row": null,
            "grid_template_areas": null,
            "grid_template_columns": null,
            "grid_template_rows": null,
            "height": null,
            "justify_content": null,
            "justify_items": null,
            "left": null,
            "margin": null,
            "max_height": null,
            "max_width": null,
            "min_height": null,
            "min_width": null,
            "object_fit": null,
            "object_position": null,
            "order": null,
            "overflow": null,
            "overflow_x": null,
            "overflow_y": null,
            "padding": null,
            "right": null,
            "top": null,
            "visibility": null,
            "width": null
          }
        },
        "6c4e1821434040e198139c388723dde7": {
          "model_module": "@jupyter-widgets/controls",
          "model_name": "DescriptionStyleModel",
          "model_module_version": "1.5.0",
          "state": {
            "_model_module": "@jupyter-widgets/controls",
            "_model_module_version": "1.5.0",
            "_model_name": "DescriptionStyleModel",
            "_view_count": null,
            "_view_module": "@jupyter-widgets/base",
            "_view_module_version": "1.2.0",
            "_view_name": "StyleView",
            "description_width": ""
          }
        },
        "c373367fa0eb44d2b66e2a0e65f18c12": {
          "model_module": "@jupyter-widgets/base",
          "model_name": "LayoutModel",
          "model_module_version": "1.2.0",
          "state": {
            "_model_module": "@jupyter-widgets/base",
            "_model_module_version": "1.2.0",
            "_model_name": "LayoutModel",
            "_view_count": null,
            "_view_module": "@jupyter-widgets/base",
            "_view_module_version": "1.2.0",
            "_view_name": "LayoutView",
            "align_content": null,
            "align_items": null,
            "align_self": null,
            "border": null,
            "bottom": null,
            "display": null,
            "flex": null,
            "flex_flow": null,
            "grid_area": null,
            "grid_auto_columns": null,
            "grid_auto_flow": null,
            "grid_auto_rows": null,
            "grid_column": null,
            "grid_gap": null,
            "grid_row": null,
            "grid_template_areas": null,
            "grid_template_columns": null,
            "grid_template_rows": null,
            "height": null,
            "justify_content": null,
            "justify_items": null,
            "left": null,
            "margin": null,
            "max_height": null,
            "max_width": null,
            "min_height": null,
            "min_width": null,
            "object_fit": null,
            "object_position": null,
            "order": null,
            "overflow": null,
            "overflow_x": null,
            "overflow_y": null,
            "padding": null,
            "right": null,
            "top": null,
            "visibility": null,
            "width": null
          }
        },
        "d527ee04574c4493a6fb0e39d0fbbf5f": {
          "model_module": "@jupyter-widgets/controls",
          "model_name": "ProgressStyleModel",
          "model_module_version": "1.5.0",
          "state": {
            "_model_module": "@jupyter-widgets/controls",
            "_model_module_version": "1.5.0",
            "_model_name": "ProgressStyleModel",
            "_view_count": null,
            "_view_module": "@jupyter-widgets/base",
            "_view_module_version": "1.2.0",
            "_view_name": "StyleView",
            "bar_color": null,
            "description_width": ""
          }
        },
        "bb2d3979c3d24e738900f8899c9dbf12": {
          "model_module": "@jupyter-widgets/base",
          "model_name": "LayoutModel",
          "model_module_version": "1.2.0",
          "state": {
            "_model_module": "@jupyter-widgets/base",
            "_model_module_version": "1.2.0",
            "_model_name": "LayoutModel",
            "_view_count": null,
            "_view_module": "@jupyter-widgets/base",
            "_view_module_version": "1.2.0",
            "_view_name": "LayoutView",
            "align_content": null,
            "align_items": null,
            "align_self": null,
            "border": null,
            "bottom": null,
            "display": null,
            "flex": null,
            "flex_flow": null,
            "grid_area": null,
            "grid_auto_columns": null,
            "grid_auto_flow": null,
            "grid_auto_rows": null,
            "grid_column": null,
            "grid_gap": null,
            "grid_row": null,
            "grid_template_areas": null,
            "grid_template_columns": null,
            "grid_template_rows": null,
            "height": null,
            "justify_content": null,
            "justify_items": null,
            "left": null,
            "margin": null,
            "max_height": null,
            "max_width": null,
            "min_height": null,
            "min_width": null,
            "object_fit": null,
            "object_position": null,
            "order": null,
            "overflow": null,
            "overflow_x": null,
            "overflow_y": null,
            "padding": null,
            "right": null,
            "top": null,
            "visibility": null,
            "width": null
          }
        },
        "e1573a4be5c54e78a6487d30787a7362": {
          "model_module": "@jupyter-widgets/controls",
          "model_name": "DescriptionStyleModel",
          "model_module_version": "1.5.0",
          "state": {
            "_model_module": "@jupyter-widgets/controls",
            "_model_module_version": "1.5.0",
            "_model_name": "DescriptionStyleModel",
            "_view_count": null,
            "_view_module": "@jupyter-widgets/base",
            "_view_module_version": "1.2.0",
            "_view_name": "StyleView",
            "description_width": ""
          }
        },
        "bbf8202698e64218be01bca0309b829c": {
          "model_module": "@jupyter-widgets/controls",
          "model_name": "HBoxModel",
          "model_module_version": "1.5.0",
          "state": {
            "_dom_classes": [],
            "_model_module": "@jupyter-widgets/controls",
            "_model_module_version": "1.5.0",
            "_model_name": "HBoxModel",
            "_view_count": null,
            "_view_module": "@jupyter-widgets/controls",
            "_view_module_version": "1.5.0",
            "_view_name": "HBoxView",
            "box_style": "",
            "children": [
              "IPY_MODEL_91d84980ffdb4601b18ec4c4436a0de5",
              "IPY_MODEL_b7639a03cf394f41a79ddbe34228ac0c",
              "IPY_MODEL_b5bef9b7777d43e7a7fd2be993eb28c5"
            ],
            "layout": "IPY_MODEL_2d4f9ee6c3dd402ebcfef6ffb83132ad"
          }
        },
        "91d84980ffdb4601b18ec4c4436a0de5": {
          "model_module": "@jupyter-widgets/controls",
          "model_name": "HTMLModel",
          "model_module_version": "1.5.0",
          "state": {
            "_dom_classes": [],
            "_model_module": "@jupyter-widgets/controls",
            "_model_module_version": "1.5.0",
            "_model_name": "HTMLModel",
            "_view_count": null,
            "_view_module": "@jupyter-widgets/controls",
            "_view_module_version": "1.5.0",
            "_view_name": "HTMLView",
            "description": "",
            "description_tooltip": null,
            "layout": "IPY_MODEL_f0f89cc0982e4fb1b3d86aad9662a109",
            "placeholder": "​",
            "style": "IPY_MODEL_e7604c1dd1244c729c72c8657f81b18a",
            "value": "Downloading: 100%"
          }
        },
        "b7639a03cf394f41a79ddbe34228ac0c": {
          "model_module": "@jupyter-widgets/controls",
          "model_name": "FloatProgressModel",
          "model_module_version": "1.5.0",
          "state": {
            "_dom_classes": [],
            "_model_module": "@jupyter-widgets/controls",
            "_model_module_version": "1.5.0",
            "_model_name": "FloatProgressModel",
            "_view_count": null,
            "_view_module": "@jupyter-widgets/controls",
            "_view_module_version": "1.5.0",
            "_view_name": "ProgressView",
            "bar_style": "success",
            "description": "",
            "description_tooltip": null,
            "layout": "IPY_MODEL_a0a28f37d9c24d40b7d62dfabb223026",
            "max": 526681800,
            "min": 0,
            "orientation": "horizontal",
            "style": "IPY_MODEL_a3719dacb2bd49ecb7e586927d8abf73",
            "value": 526681800
          }
        },
        "b5bef9b7777d43e7a7fd2be993eb28c5": {
          "model_module": "@jupyter-widgets/controls",
          "model_name": "HTMLModel",
          "model_module_version": "1.5.0",
          "state": {
            "_dom_classes": [],
            "_model_module": "@jupyter-widgets/controls",
            "_model_module_version": "1.5.0",
            "_model_name": "HTMLModel",
            "_view_count": null,
            "_view_module": "@jupyter-widgets/controls",
            "_view_module_version": "1.5.0",
            "_view_name": "HTMLView",
            "description": "",
            "description_tooltip": null,
            "layout": "IPY_MODEL_af5c243961dc41f2a6de1b164b4cfcb6",
            "placeholder": "​",
            "style": "IPY_MODEL_9ddee518b51b48fe98d831809054178c",
            "value": " 527M/527M [00:35&lt;00:00, 8.66MB/s]"
          }
        },
        "2d4f9ee6c3dd402ebcfef6ffb83132ad": {
          "model_module": "@jupyter-widgets/base",
          "model_name": "LayoutModel",
          "model_module_version": "1.2.0",
          "state": {
            "_model_module": "@jupyter-widgets/base",
            "_model_module_version": "1.2.0",
            "_model_name": "LayoutModel",
            "_view_count": null,
            "_view_module": "@jupyter-widgets/base",
            "_view_module_version": "1.2.0",
            "_view_name": "LayoutView",
            "align_content": null,
            "align_items": null,
            "align_self": null,
            "border": null,
            "bottom": null,
            "display": null,
            "flex": null,
            "flex_flow": null,
            "grid_area": null,
            "grid_auto_columns": null,
            "grid_auto_flow": null,
            "grid_auto_rows": null,
            "grid_column": null,
            "grid_gap": null,
            "grid_row": null,
            "grid_template_areas": null,
            "grid_template_columns": null,
            "grid_template_rows": null,
            "height": null,
            "justify_content": null,
            "justify_items": null,
            "left": null,
            "margin": null,
            "max_height": null,
            "max_width": null,
            "min_height": null,
            "min_width": null,
            "object_fit": null,
            "object_position": null,
            "order": null,
            "overflow": null,
            "overflow_x": null,
            "overflow_y": null,
            "padding": null,
            "right": null,
            "top": null,
            "visibility": null,
            "width": null
          }
        },
        "f0f89cc0982e4fb1b3d86aad9662a109": {
          "model_module": "@jupyter-widgets/base",
          "model_name": "LayoutModel",
          "model_module_version": "1.2.0",
          "state": {
            "_model_module": "@jupyter-widgets/base",
            "_model_module_version": "1.2.0",
            "_model_name": "LayoutModel",
            "_view_count": null,
            "_view_module": "@jupyter-widgets/base",
            "_view_module_version": "1.2.0",
            "_view_name": "LayoutView",
            "align_content": null,
            "align_items": null,
            "align_self": null,
            "border": null,
            "bottom": null,
            "display": null,
            "flex": null,
            "flex_flow": null,
            "grid_area": null,
            "grid_auto_columns": null,
            "grid_auto_flow": null,
            "grid_auto_rows": null,
            "grid_column": null,
            "grid_gap": null,
            "grid_row": null,
            "grid_template_areas": null,
            "grid_template_columns": null,
            "grid_template_rows": null,
            "height": null,
            "justify_content": null,
            "justify_items": null,
            "left": null,
            "margin": null,
            "max_height": null,
            "max_width": null,
            "min_height": null,
            "min_width": null,
            "object_fit": null,
            "object_position": null,
            "order": null,
            "overflow": null,
            "overflow_x": null,
            "overflow_y": null,
            "padding": null,
            "right": null,
            "top": null,
            "visibility": null,
            "width": null
          }
        },
        "e7604c1dd1244c729c72c8657f81b18a": {
          "model_module": "@jupyter-widgets/controls",
          "model_name": "DescriptionStyleModel",
          "model_module_version": "1.5.0",
          "state": {
            "_model_module": "@jupyter-widgets/controls",
            "_model_module_version": "1.5.0",
            "_model_name": "DescriptionStyleModel",
            "_view_count": null,
            "_view_module": "@jupyter-widgets/base",
            "_view_module_version": "1.2.0",
            "_view_name": "StyleView",
            "description_width": ""
          }
        },
        "a0a28f37d9c24d40b7d62dfabb223026": {
          "model_module": "@jupyter-widgets/base",
          "model_name": "LayoutModel",
          "model_module_version": "1.2.0",
          "state": {
            "_model_module": "@jupyter-widgets/base",
            "_model_module_version": "1.2.0",
            "_model_name": "LayoutModel",
            "_view_count": null,
            "_view_module": "@jupyter-widgets/base",
            "_view_module_version": "1.2.0",
            "_view_name": "LayoutView",
            "align_content": null,
            "align_items": null,
            "align_self": null,
            "border": null,
            "bottom": null,
            "display": null,
            "flex": null,
            "flex_flow": null,
            "grid_area": null,
            "grid_auto_columns": null,
            "grid_auto_flow": null,
            "grid_auto_rows": null,
            "grid_column": null,
            "grid_gap": null,
            "grid_row": null,
            "grid_template_areas": null,
            "grid_template_columns": null,
            "grid_template_rows": null,
            "height": null,
            "justify_content": null,
            "justify_items": null,
            "left": null,
            "margin": null,
            "max_height": null,
            "max_width": null,
            "min_height": null,
            "min_width": null,
            "object_fit": null,
            "object_position": null,
            "order": null,
            "overflow": null,
            "overflow_x": null,
            "overflow_y": null,
            "padding": null,
            "right": null,
            "top": null,
            "visibility": null,
            "width": null
          }
        },
        "a3719dacb2bd49ecb7e586927d8abf73": {
          "model_module": "@jupyter-widgets/controls",
          "model_name": "ProgressStyleModel",
          "model_module_version": "1.5.0",
          "state": {
            "_model_module": "@jupyter-widgets/controls",
            "_model_module_version": "1.5.0",
            "_model_name": "ProgressStyleModel",
            "_view_count": null,
            "_view_module": "@jupyter-widgets/base",
            "_view_module_version": "1.2.0",
            "_view_name": "StyleView",
            "bar_color": null,
            "description_width": ""
          }
        },
        "af5c243961dc41f2a6de1b164b4cfcb6": {
          "model_module": "@jupyter-widgets/base",
          "model_name": "LayoutModel",
          "model_module_version": "1.2.0",
          "state": {
            "_model_module": "@jupyter-widgets/base",
            "_model_module_version": "1.2.0",
            "_model_name": "LayoutModel",
            "_view_count": null,
            "_view_module": "@jupyter-widgets/base",
            "_view_module_version": "1.2.0",
            "_view_name": "LayoutView",
            "align_content": null,
            "align_items": null,
            "align_self": null,
            "border": null,
            "bottom": null,
            "display": null,
            "flex": null,
            "flex_flow": null,
            "grid_area": null,
            "grid_auto_columns": null,
            "grid_auto_flow": null,
            "grid_auto_rows": null,
            "grid_column": null,
            "grid_gap": null,
            "grid_row": null,
            "grid_template_areas": null,
            "grid_template_columns": null,
            "grid_template_rows": null,
            "height": null,
            "justify_content": null,
            "justify_items": null,
            "left": null,
            "margin": null,
            "max_height": null,
            "max_width": null,
            "min_height": null,
            "min_width": null,
            "object_fit": null,
            "object_position": null,
            "order": null,
            "overflow": null,
            "overflow_x": null,
            "overflow_y": null,
            "padding": null,
            "right": null,
            "top": null,
            "visibility": null,
            "width": null
          }
        },
        "9ddee518b51b48fe98d831809054178c": {
          "model_module": "@jupyter-widgets/controls",
          "model_name": "DescriptionStyleModel",
          "model_module_version": "1.5.0",
          "state": {
            "_model_module": "@jupyter-widgets/controls",
            "_model_module_version": "1.5.0",
            "_model_name": "DescriptionStyleModel",
            "_view_count": null,
            "_view_module": "@jupyter-widgets/base",
            "_view_module_version": "1.2.0",
            "_view_name": "StyleView",
            "description_width": ""
          }
        }
      }
    }
  },
  "cells": [
    {
      "cell_type": "code",
      "source": [
        "import pandas as pd\n",
        "import numpy as np\n",
        "import tensorflow as tf\n",
        "from tensorflow import keras"
      ],
      "metadata": {
        "id": "cl9qe1Zdoj6p"
      },
      "execution_count": null,
      "outputs": []
    },
    {
      "cell_type": "code",
      "source": [
        "!pip3 install bert-for-tf2\n",
        "!pip3 install sentencepiece"
      ],
      "metadata": {
        "colab": {
          "base_uri": "https://localhost:8080/"
        },
        "id": "mfNPW1qcorEW",
        "outputId": "49b74458-d558-47bc-be57-74007401c624"
      },
      "execution_count": null,
      "outputs": [
        {
          "output_type": "stream",
          "name": "stdout",
          "text": [
            "Looking in indexes: https://pypi.org/simple, https://us-python.pkg.dev/colab-wheels/public/simple/\n",
            "Collecting bert-for-tf2\n",
            "  Downloading bert-for-tf2-0.14.9.tar.gz (41 kB)\n",
            "\u001b[K     |████████████████████████████████| 41 kB 111 kB/s \n",
            "\u001b[?25hCollecting py-params>=0.9.6\n",
            "  Downloading py-params-0.10.2.tar.gz (7.4 kB)\n",
            "Collecting params-flow>=0.8.0\n",
            "  Downloading params-flow-0.8.2.tar.gz (22 kB)\n",
            "Requirement already satisfied: numpy in /usr/local/lib/python3.7/dist-packages (from params-flow>=0.8.0->bert-for-tf2) (1.21.6)\n",
            "Requirement already satisfied: tqdm in /usr/local/lib/python3.7/dist-packages (from params-flow>=0.8.0->bert-for-tf2) (4.64.1)\n",
            "Building wheels for collected packages: bert-for-tf2, params-flow, py-params\n",
            "  Building wheel for bert-for-tf2 (setup.py) ... \u001b[?25l\u001b[?25hdone\n",
            "  Created wheel for bert-for-tf2: filename=bert_for_tf2-0.14.9-py3-none-any.whl size=30534 sha256=0147f15ecf3d8eaeb4d99201b95b87aefcf015a01beaff26f6382d7c3b627b09\n",
            "  Stored in directory: /root/.cache/pip/wheels/47/b6/e5/8c76ec779f54bc5c2f1b57d2200bb9c77616da83873e8acb53\n",
            "  Building wheel for params-flow (setup.py) ... \u001b[?25l\u001b[?25hdone\n",
            "  Created wheel for params-flow: filename=params_flow-0.8.2-py3-none-any.whl size=19472 sha256=ebc0de56ef204c401b02e6bdab52b93e19f58e07c63c294d310b5194bd88ed55\n",
            "  Stored in directory: /root/.cache/pip/wheels/0e/fc/d2/a44fff33af0f233d7def6e7de413006d57c10e10ad736fe8f5\n",
            "  Building wheel for py-params (setup.py) ... \u001b[?25l\u001b[?25hdone\n",
            "  Created wheel for py-params: filename=py_params-0.10.2-py3-none-any.whl size=7911 sha256=2c99c5e69828f8daa1f6dac7b190587e2aefd072bf21a6e3b03f8db94e9a818f\n",
            "  Stored in directory: /root/.cache/pip/wheels/e1/11/67/33cc51bbee127cb8fb2ba549cd29109b2f22da43ddf9969716\n",
            "Successfully built bert-for-tf2 params-flow py-params\n",
            "Installing collected packages: py-params, params-flow, bert-for-tf2\n",
            "Successfully installed bert-for-tf2-0.14.9 params-flow-0.8.2 py-params-0.10.2\n",
            "Looking in indexes: https://pypi.org/simple, https://us-python.pkg.dev/colab-wheels/public/simple/\n",
            "Collecting sentencepiece\n",
            "  Downloading sentencepiece-0.1.97-cp37-cp37m-manylinux_2_17_x86_64.manylinux2014_x86_64.whl (1.3 MB)\n",
            "\u001b[K     |████████████████████████████████| 1.3 MB 5.1 MB/s \n",
            "\u001b[?25hInstalling collected packages: sentencepiece\n",
            "Successfully installed sentencepiece-0.1.97\n"
          ]
        }
      ]
    },
    {
      "cell_type": "code",
      "source": [
        "import tensorflow_hub as hub\n",
        "from tensorflow.keras.models import Model\n",
        "from bert.tokenization.bert_tokenization import FullTokenizer\n",
        "from tensorflow.keras.layers import Dense, Input, Dropout, Flatten, LSTM"
      ],
      "metadata": {
        "id": "Byd-81XhouIu"
      },
      "execution_count": null,
      "outputs": []
    },
    {
      "cell_type": "code",
      "source": [
        "# Set up the device for GPU usage\n",
        "device_name = tf.test.gpu_device_name()\n",
        "if device_name != '/device:GPU:0':\n",
        "  raise SystemError('GPU device not found')\n",
        "print('Found GPU at: {}'.format(device_name))"
      ],
      "metadata": {
        "colab": {
          "base_uri": "https://localhost:8080/",
          "height": 217
        },
        "id": "cMBeFVXXouK0",
        "outputId": "9e7fed72-03d4-4a74-d7a5-9029e2a3d15e"
      },
      "execution_count": null,
      "outputs": [
        {
          "output_type": "error",
          "ename": "SystemError",
          "evalue": "ignored",
          "traceback": [
            "\u001b[0;31m---------------------------------------------------------------------------\u001b[0m",
            "\u001b[0;31mSystemError\u001b[0m                               Traceback (most recent call last)",
            "\u001b[0;32m<ipython-input-4-0af74efc0a09>\u001b[0m in \u001b[0;36m<module>\u001b[0;34m\u001b[0m\n\u001b[1;32m      2\u001b[0m \u001b[0mdevice_name\u001b[0m \u001b[0;34m=\u001b[0m \u001b[0mtf\u001b[0m\u001b[0;34m.\u001b[0m\u001b[0mtest\u001b[0m\u001b[0;34m.\u001b[0m\u001b[0mgpu_device_name\u001b[0m\u001b[0;34m(\u001b[0m\u001b[0;34m)\u001b[0m\u001b[0;34m\u001b[0m\u001b[0;34m\u001b[0m\u001b[0m\n\u001b[1;32m      3\u001b[0m \u001b[0;32mif\u001b[0m \u001b[0mdevice_name\u001b[0m \u001b[0;34m!=\u001b[0m \u001b[0;34m'/device:GPU:0'\u001b[0m\u001b[0;34m:\u001b[0m\u001b[0;34m\u001b[0m\u001b[0;34m\u001b[0m\u001b[0m\n\u001b[0;32m----> 4\u001b[0;31m   \u001b[0;32mraise\u001b[0m \u001b[0mSystemError\u001b[0m\u001b[0;34m(\u001b[0m\u001b[0;34m'GPU device not found'\u001b[0m\u001b[0;34m)\u001b[0m\u001b[0;34m\u001b[0m\u001b[0;34m\u001b[0m\u001b[0m\n\u001b[0m\u001b[1;32m      5\u001b[0m \u001b[0mprint\u001b[0m\u001b[0;34m(\u001b[0m\u001b[0;34m'Found GPU at: {}'\u001b[0m\u001b[0;34m.\u001b[0m\u001b[0mformat\u001b[0m\u001b[0;34m(\u001b[0m\u001b[0mdevice_name\u001b[0m\u001b[0;34m)\u001b[0m\u001b[0;34m)\u001b[0m\u001b[0;34m\u001b[0m\u001b[0;34m\u001b[0m\u001b[0m\n",
            "\u001b[0;31mSystemError\u001b[0m: GPU device not found"
          ]
        }
      ]
    },
    {
      "cell_type": "code",
      "source": [
        "# connect to google drive for files\n",
        "from google.colab import drive\n",
        "drive.mount('/content/drive')"
      ],
      "metadata": {
        "colab": {
          "base_uri": "https://localhost:8080/"
        },
        "id": "3OchztlgouNM",
        "outputId": "16dbf018-543a-4a29-bb0e-e1fc159799b7"
      },
      "execution_count": null,
      "outputs": [
        {
          "output_type": "stream",
          "name": "stdout",
          "text": [
            "Mounted at /content/drive\n"
          ]
        }
      ]
    },
    {
      "cell_type": "markdown",
      "source": [
        "# Data Pre-processing"
      ],
      "metadata": {
        "id": "rPJC6cwto0bL"
      }
    },
    {
      "cell_type": "code",
      "source": [
        "train = pd.read_pickle(\"/content/drive/MyDrive/DATA-793 Pinyu Chen/train_allfeats_09052022.pkl\")"
      ],
      "metadata": {
        "id": "oGAvqVrsouPh"
      },
      "execution_count": null,
      "outputs": []
    },
    {
      "cell_type": "code",
      "source": [
        "test = pd.read_pickle(\"/content/drive/MyDrive/DATA-793 Pinyu Chen/test_allfeats_09052022.pkl\")"
      ],
      "metadata": {
        "id": "Xz6WCupmouR2"
      },
      "execution_count": null,
      "outputs": []
    },
    {
      "cell_type": "code",
      "source": [
        "test.isnull().sum()"
      ],
      "metadata": {
        "id": "Ik-dbP6cpNtU",
        "colab": {
          "base_uri": "https://localhost:8080/"
        },
        "outputId": "058afbc0-f15d-4d56-d4c4-a253139f0ca9"
      },
      "execution_count": null,
      "outputs": [
        {
          "output_type": "execute_result",
          "data": {
            "text/plain": [
              "tweet_id                      0\n",
              "lang                          0\n",
              "res_image_vectors             0\n",
              "vgg_image_vectors             0\n",
              "tweet_text                    0\n",
              "label                         0\n",
              "event                         0\n",
              "new_img_id                    0\n",
              "clean_tweet                   0\n",
              "text_feats_1                  0\n",
              "text_feats_2                  0\n",
              "pooler                        0\n",
              "sm_last_four_concat           0\n",
              "mn_last_four_concat           0\n",
              "mn_2ndtolast_lyr              0\n",
              "sm_2ndtolast_lyr              0\n",
              "num_friends                   0\n",
              "num_followers                 0\n",
              "folfriend_ratio               0\n",
              "times_listed                  0\n",
              "has_url                       0\n",
              "is_verified                   0\n",
              "num_posts                     0\n",
              "num_words                     0\n",
              "text_length                   0\n",
              "contains_questmark            0\n",
              "num_questmark                 0\n",
              "contains_exclammark           0\n",
              "num_exclammark                0\n",
              "contains_happyemo             0\n",
              "contains_sademo               0\n",
              "contains_firstorderpron      79\n",
              "contains_secondorderpron     79\n",
              "contains_thirdorderpron      79\n",
              "num_uppercasechars            0\n",
              "num_possentiwords           796\n",
              "num_negsentiwords           796\n",
              "num_mentions                  0\n",
              "num_hashtags                  0\n",
              "num_URLs                      0\n",
              "num_retweets                  0\n",
              "semi_clean                    0\n",
              "reading_ease                  0\n",
              "reading_grade                 0\n",
              "compound_score                0\n",
              "neg_score                     0\n",
              "pos_score                     0\n",
              "neutral_score                 0\n",
              "vgg19_img_vectors             0\n",
              "Topic20                       0\n",
              "Topic10                       0\n",
              "Topic5                        0\n",
              "caption                       0\n",
              "capt_feats                    0\n",
              "Topic200                      0\n",
              "Topic300                      0\n",
              "new_ev                        0\n",
              "event_feat                    0\n",
              "dtype: int64"
            ]
          },
          "metadata": {},
          "execution_count": 8
        }
      ]
    },
    {
      "cell_type": "code",
      "source": [
        "train['label'].value_counts()"
      ],
      "metadata": {
        "colab": {
          "base_uri": "https://localhost:8080/"
        },
        "id": "Bih4Lh5nuO3u",
        "outputId": "a8068519-1d58-461e-b899-a2d6b9225f82"
      },
      "execution_count": null,
      "outputs": [
        {
          "output_type": "execute_result",
          "data": {
            "text/plain": [
              "fake    5129\n",
              "real    4013\n",
              "Name: label, dtype: int64"
            ]
          },
          "metadata": {},
          "execution_count": 9
        }
      ]
    },
    {
      "cell_type": "code",
      "source": [
        "test['label'].value_counts()"
      ],
      "metadata": {
        "colab": {
          "base_uri": "https://localhost:8080/"
        },
        "id": "3wqHA1dYuTFt",
        "outputId": "41bcbf0f-5820-46b1-ef0b-2183a190cbf3"
      },
      "execution_count": null,
      "outputs": [
        {
          "output_type": "execute_result",
          "data": {
            "text/plain": [
              "fake    467\n",
              "real    329\n",
              "Name: label, dtype: int64"
            ]
          },
          "metadata": {},
          "execution_count": 10
        }
      ]
    },
    {
      "cell_type": "code",
      "source": [
        "train.head(3)"
      ],
      "metadata": {
        "colab": {
          "base_uri": "https://localhost:8080/",
          "height": 497
        },
        "id": "Q0pQxnQBuXqt",
        "outputId": "2d3632c0-856a-4876-af81-25268dc48985"
      },
      "execution_count": null,
      "outputs": [
        {
          "output_type": "execute_result",
          "data": {
            "text/plain": [
              "             tweet_id lang                                  res_image_vectors  \\\n",
              "0  324597532548276224   en  [tensor(0.0801), tensor(0.4296), tensor(0.8457...   \n",
              "1  325145334739267584   en  [tensor(0.4698), tensor(2.9610), tensor(1.1333...   \n",
              "2  325152091423248385   en  [tensor(0.1619), tensor(1.1982), tensor(0.7997...   \n",
              "\n",
              "                                   vgg_image_vectors  \\\n",
              "0  [tensor(0.2593), tensor(4.9064), tensor(2.8281...   \n",
              "1  [tensor(0.1815), tensor(0.5811), tensor(-0.883...   \n",
              "2  [tensor(-2.1295), tensor(-3.1864), tensor(-0.8...   \n",
              "\n",
              "                                          tweet_text label   event  \\\n",
              "0  Don't need feds to solve the #bostonbombing wh...  fake  boston   \n",
              "1  PIC: Comparison of #Boston suspect Sunil Tripa...  fake  boston   \n",
              "2  I'm not completely convinced that it's this Su...  fake  boston   \n",
              "\n",
              "       new_img_id                                        clean_tweet  cl_len  \\\n",
              "0  boston_fake_03     [don, need, feds, solve, bostonbombing, 4chan]      58   \n",
              "1  boston_fake_23  [pic, comparison, boston, suspect, sunil, trip...     139   \n",
              "2  boston_fake_34   [completely, convinced, sunil, tripathi, fellow]      58   \n",
              "\n",
              "   ...                                  vgg19_img_vectors Topic20 Topic10  \\\n",
              "0  ...  [tensor(-3.1332), tensor(-0.5148), tensor(-0.3...      10       3   \n",
              "1  ...  [tensor(-2.0921), tensor(0.7882), tensor(-2.32...      10       3   \n",
              "2  ...  [tensor(-1.8948), tensor(0.4038), tensor(-0.76...      10       3   \n",
              "\n",
              "  Topic5                                          caption  \\\n",
              "0      3  a group of people standing in a crowd of people   \n",
              "1      3                 a man is holding a dog in a hand   \n",
              "2      3        a man and a woman wearing a hat and a tie   \n",
              "\n",
              "                                          capt_feats Topic200  Topic300  \\\n",
              "0  [0.15120442708333334, 0.08012898763020833, 0.0...       46        46   \n",
              "1  [0.09038798014322917, 0.02313232421875, 0.0066...       36       289   \n",
              "2  [0.077001953125, -0.010888671875, -0.069873046...      114       289   \n",
              "\n",
              "     new_ev                                         event_feat  \n",
              "0  [boston]  [-0.51171875, -0.08544921875, -0.060546875, 0....  \n",
              "1  [boston]  [-0.51171875, -0.08544921875, -0.060546875, 0....  \n",
              "2  [boston]  [-0.51171875, -0.08544921875, -0.060546875, 0....  \n",
              "\n",
              "[3 rows x 59 columns]"
            ],
            "text/html": [
              "\n",
              "  <div id=\"df-f0cd0f89-0f24-4161-98de-75eb955b1b70\">\n",
              "    <div class=\"colab-df-container\">\n",
              "      <div>\n",
              "<style scoped>\n",
              "    .dataframe tbody tr th:only-of-type {\n",
              "        vertical-align: middle;\n",
              "    }\n",
              "\n",
              "    .dataframe tbody tr th {\n",
              "        vertical-align: top;\n",
              "    }\n",
              "\n",
              "    .dataframe thead th {\n",
              "        text-align: right;\n",
              "    }\n",
              "</style>\n",
              "<table border=\"1\" class=\"dataframe\">\n",
              "  <thead>\n",
              "    <tr style=\"text-align: right;\">\n",
              "      <th></th>\n",
              "      <th>tweet_id</th>\n",
              "      <th>lang</th>\n",
              "      <th>res_image_vectors</th>\n",
              "      <th>vgg_image_vectors</th>\n",
              "      <th>tweet_text</th>\n",
              "      <th>label</th>\n",
              "      <th>event</th>\n",
              "      <th>new_img_id</th>\n",
              "      <th>clean_tweet</th>\n",
              "      <th>cl_len</th>\n",
              "      <th>...</th>\n",
              "      <th>vgg19_img_vectors</th>\n",
              "      <th>Topic20</th>\n",
              "      <th>Topic10</th>\n",
              "      <th>Topic5</th>\n",
              "      <th>caption</th>\n",
              "      <th>capt_feats</th>\n",
              "      <th>Topic200</th>\n",
              "      <th>Topic300</th>\n",
              "      <th>new_ev</th>\n",
              "      <th>event_feat</th>\n",
              "    </tr>\n",
              "  </thead>\n",
              "  <tbody>\n",
              "    <tr>\n",
              "      <th>0</th>\n",
              "      <td>324597532548276224</td>\n",
              "      <td>en</td>\n",
              "      <td>[tensor(0.0801), tensor(0.4296), tensor(0.8457...</td>\n",
              "      <td>[tensor(0.2593), tensor(4.9064), tensor(2.8281...</td>\n",
              "      <td>Don't need feds to solve the #bostonbombing wh...</td>\n",
              "      <td>fake</td>\n",
              "      <td>boston</td>\n",
              "      <td>boston_fake_03</td>\n",
              "      <td>[don, need, feds, solve, bostonbombing, 4chan]</td>\n",
              "      <td>58</td>\n",
              "      <td>...</td>\n",
              "      <td>[tensor(-3.1332), tensor(-0.5148), tensor(-0.3...</td>\n",
              "      <td>10</td>\n",
              "      <td>3</td>\n",
              "      <td>3</td>\n",
              "      <td>a group of people standing in a crowd of people</td>\n",
              "      <td>[0.15120442708333334, 0.08012898763020833, 0.0...</td>\n",
              "      <td>46</td>\n",
              "      <td>46</td>\n",
              "      <td>[boston]</td>\n",
              "      <td>[-0.51171875, -0.08544921875, -0.060546875, 0....</td>\n",
              "    </tr>\n",
              "    <tr>\n",
              "      <th>1</th>\n",
              "      <td>325145334739267584</td>\n",
              "      <td>en</td>\n",
              "      <td>[tensor(0.4698), tensor(2.9610), tensor(1.1333...</td>\n",
              "      <td>[tensor(0.1815), tensor(0.5811), tensor(-0.883...</td>\n",
              "      <td>PIC: Comparison of #Boston suspect Sunil Tripa...</td>\n",
              "      <td>fake</td>\n",
              "      <td>boston</td>\n",
              "      <td>boston_fake_23</td>\n",
              "      <td>[pic, comparison, boston, suspect, sunil, trip...</td>\n",
              "      <td>139</td>\n",
              "      <td>...</td>\n",
              "      <td>[tensor(-2.0921), tensor(0.7882), tensor(-2.32...</td>\n",
              "      <td>10</td>\n",
              "      <td>3</td>\n",
              "      <td>3</td>\n",
              "      <td>a man is holding a dog in a hand</td>\n",
              "      <td>[0.09038798014322917, 0.02313232421875, 0.0066...</td>\n",
              "      <td>36</td>\n",
              "      <td>289</td>\n",
              "      <td>[boston]</td>\n",
              "      <td>[-0.51171875, -0.08544921875, -0.060546875, 0....</td>\n",
              "    </tr>\n",
              "    <tr>\n",
              "      <th>2</th>\n",
              "      <td>325152091423248385</td>\n",
              "      <td>en</td>\n",
              "      <td>[tensor(0.1619), tensor(1.1982), tensor(0.7997...</td>\n",
              "      <td>[tensor(-2.1295), tensor(-3.1864), tensor(-0.8...</td>\n",
              "      <td>I'm not completely convinced that it's this Su...</td>\n",
              "      <td>fake</td>\n",
              "      <td>boston</td>\n",
              "      <td>boston_fake_34</td>\n",
              "      <td>[completely, convinced, sunil, tripathi, fellow]</td>\n",
              "      <td>58</td>\n",
              "      <td>...</td>\n",
              "      <td>[tensor(-1.8948), tensor(0.4038), tensor(-0.76...</td>\n",
              "      <td>10</td>\n",
              "      <td>3</td>\n",
              "      <td>3</td>\n",
              "      <td>a man and a woman wearing a hat and a tie</td>\n",
              "      <td>[0.077001953125, -0.010888671875, -0.069873046...</td>\n",
              "      <td>114</td>\n",
              "      <td>289</td>\n",
              "      <td>[boston]</td>\n",
              "      <td>[-0.51171875, -0.08544921875, -0.060546875, 0....</td>\n",
              "    </tr>\n",
              "  </tbody>\n",
              "</table>\n",
              "<p>3 rows × 59 columns</p>\n",
              "</div>\n",
              "      <button class=\"colab-df-convert\" onclick=\"convertToInteractive('df-f0cd0f89-0f24-4161-98de-75eb955b1b70')\"\n",
              "              title=\"Convert this dataframe to an interactive table.\"\n",
              "              style=\"display:none;\">\n",
              "        \n",
              "  <svg xmlns=\"http://www.w3.org/2000/svg\" height=\"24px\"viewBox=\"0 0 24 24\"\n",
              "       width=\"24px\">\n",
              "    <path d=\"M0 0h24v24H0V0z\" fill=\"none\"/>\n",
              "    <path d=\"M18.56 5.44l.94 2.06.94-2.06 2.06-.94-2.06-.94-.94-2.06-.94 2.06-2.06.94zm-11 1L8.5 8.5l.94-2.06 2.06-.94-2.06-.94L8.5 2.5l-.94 2.06-2.06.94zm10 10l.94 2.06.94-2.06 2.06-.94-2.06-.94-.94-2.06-.94 2.06-2.06.94z\"/><path d=\"M17.41 7.96l-1.37-1.37c-.4-.4-.92-.59-1.43-.59-.52 0-1.04.2-1.43.59L10.3 9.45l-7.72 7.72c-.78.78-.78 2.05 0 2.83L4 21.41c.39.39.9.59 1.41.59.51 0 1.02-.2 1.41-.59l7.78-7.78 2.81-2.81c.8-.78.8-2.07 0-2.86zM5.41 20L4 18.59l7.72-7.72 1.47 1.35L5.41 20z\"/>\n",
              "  </svg>\n",
              "      </button>\n",
              "      \n",
              "  <style>\n",
              "    .colab-df-container {\n",
              "      display:flex;\n",
              "      flex-wrap:wrap;\n",
              "      gap: 12px;\n",
              "    }\n",
              "\n",
              "    .colab-df-convert {\n",
              "      background-color: #E8F0FE;\n",
              "      border: none;\n",
              "      border-radius: 50%;\n",
              "      cursor: pointer;\n",
              "      display: none;\n",
              "      fill: #1967D2;\n",
              "      height: 32px;\n",
              "      padding: 0 0 0 0;\n",
              "      width: 32px;\n",
              "    }\n",
              "\n",
              "    .colab-df-convert:hover {\n",
              "      background-color: #E2EBFA;\n",
              "      box-shadow: 0px 1px 2px rgba(60, 64, 67, 0.3), 0px 1px 3px 1px rgba(60, 64, 67, 0.15);\n",
              "      fill: #174EA6;\n",
              "    }\n",
              "\n",
              "    [theme=dark] .colab-df-convert {\n",
              "      background-color: #3B4455;\n",
              "      fill: #D2E3FC;\n",
              "    }\n",
              "\n",
              "    [theme=dark] .colab-df-convert:hover {\n",
              "      background-color: #434B5C;\n",
              "      box-shadow: 0px 1px 3px 1px rgba(0, 0, 0, 0.15);\n",
              "      filter: drop-shadow(0px 1px 2px rgba(0, 0, 0, 0.3));\n",
              "      fill: #FFFFFF;\n",
              "    }\n",
              "  </style>\n",
              "\n",
              "      <script>\n",
              "        const buttonEl =\n",
              "          document.querySelector('#df-f0cd0f89-0f24-4161-98de-75eb955b1b70 button.colab-df-convert');\n",
              "        buttonEl.style.display =\n",
              "          google.colab.kernel.accessAllowed ? 'block' : 'none';\n",
              "\n",
              "        async function convertToInteractive(key) {\n",
              "          const element = document.querySelector('#df-f0cd0f89-0f24-4161-98de-75eb955b1b70');\n",
              "          const dataTable =\n",
              "            await google.colab.kernel.invokeFunction('convertToInteractive',\n",
              "                                                     [key], {});\n",
              "          if (!dataTable) return;\n",
              "\n",
              "          const docLinkHtml = 'Like what you see? Visit the ' +\n",
              "            '<a target=\"_blank\" href=https://colab.research.google.com/notebooks/data_table.ipynb>data table notebook</a>'\n",
              "            + ' to learn more about interactive tables.';\n",
              "          element.innerHTML = '';\n",
              "          dataTable['output_type'] = 'display_data';\n",
              "          await google.colab.output.renderOutput(dataTable, element);\n",
              "          const docLink = document.createElement('div');\n",
              "          docLink.innerHTML = docLinkHtml;\n",
              "          element.appendChild(docLink);\n",
              "        }\n",
              "      </script>\n",
              "    </div>\n",
              "  </div>\n",
              "  "
            ]
          },
          "metadata": {},
          "execution_count": 11
        }
      ]
    },
    {
      "cell_type": "code",
      "source": [
        "Text_train = train.iloc[:, 4:9]\n",
        "Text_test = test.iloc[:, 4:9]"
      ],
      "metadata": {
        "id": "kKcszisRCMyS"
      },
      "execution_count": null,
      "outputs": []
    },
    {
      "cell_type": "code",
      "source": [
        "print(Text_train['label'].value_counts())\n",
        "print(Text_test['label'].value_counts())"
      ],
      "metadata": {
        "colab": {
          "base_uri": "https://localhost:8080/"
        },
        "id": "Dxzv0d1D9R77",
        "outputId": "94d973e1-510a-43f7-abc0-5c1b13ee3996"
      },
      "execution_count": null,
      "outputs": [
        {
          "output_type": "stream",
          "name": "stdout",
          "text": [
            "fake    5129\n",
            "real    4013\n",
            "Name: label, dtype: int64\n",
            "fake    467\n",
            "real    329\n",
            "Name: label, dtype: int64\n"
          ]
        }
      ]
    },
    {
      "cell_type": "code",
      "source": [
        "Text_train.head(3)"
      ],
      "metadata": {
        "colab": {
          "base_uri": "https://localhost:8080/",
          "height": 143
        },
        "id": "EnqgHgpVqCgL",
        "outputId": "5fc83693-01d3-4059-a40e-3dbf7f96fa28"
      },
      "execution_count": null,
      "outputs": [
        {
          "output_type": "execute_result",
          "data": {
            "text/plain": [
              "                                          tweet_text label   event  \\\n",
              "0  Don't need feds to solve the #bostonbombing wh...  fake  boston   \n",
              "1  PIC: Comparison of #Boston suspect Sunil Tripa...  fake  boston   \n",
              "2  I'm not completely convinced that it's this Su...  fake  boston   \n",
              "\n",
              "       new_img_id                                        clean_tweet  \n",
              "0  boston_fake_03     [don, need, feds, solve, bostonbombing, 4chan]  \n",
              "1  boston_fake_23  [pic, comparison, boston, suspect, sunil, trip...  \n",
              "2  boston_fake_34   [completely, convinced, sunil, tripathi, fellow]  "
            ],
            "text/html": [
              "\n",
              "  <div id=\"df-722465b6-3182-4d26-ac18-e6a72331a632\">\n",
              "    <div class=\"colab-df-container\">\n",
              "      <div>\n",
              "<style scoped>\n",
              "    .dataframe tbody tr th:only-of-type {\n",
              "        vertical-align: middle;\n",
              "    }\n",
              "\n",
              "    .dataframe tbody tr th {\n",
              "        vertical-align: top;\n",
              "    }\n",
              "\n",
              "    .dataframe thead th {\n",
              "        text-align: right;\n",
              "    }\n",
              "</style>\n",
              "<table border=\"1\" class=\"dataframe\">\n",
              "  <thead>\n",
              "    <tr style=\"text-align: right;\">\n",
              "      <th></th>\n",
              "      <th>tweet_text</th>\n",
              "      <th>label</th>\n",
              "      <th>event</th>\n",
              "      <th>new_img_id</th>\n",
              "      <th>clean_tweet</th>\n",
              "    </tr>\n",
              "  </thead>\n",
              "  <tbody>\n",
              "    <tr>\n",
              "      <th>0</th>\n",
              "      <td>Don't need feds to solve the #bostonbombing wh...</td>\n",
              "      <td>fake</td>\n",
              "      <td>boston</td>\n",
              "      <td>boston_fake_03</td>\n",
              "      <td>[don, need, feds, solve, bostonbombing, 4chan]</td>\n",
              "    </tr>\n",
              "    <tr>\n",
              "      <th>1</th>\n",
              "      <td>PIC: Comparison of #Boston suspect Sunil Tripa...</td>\n",
              "      <td>fake</td>\n",
              "      <td>boston</td>\n",
              "      <td>boston_fake_23</td>\n",
              "      <td>[pic, comparison, boston, suspect, sunil, trip...</td>\n",
              "    </tr>\n",
              "    <tr>\n",
              "      <th>2</th>\n",
              "      <td>I'm not completely convinced that it's this Su...</td>\n",
              "      <td>fake</td>\n",
              "      <td>boston</td>\n",
              "      <td>boston_fake_34</td>\n",
              "      <td>[completely, convinced, sunil, tripathi, fellow]</td>\n",
              "    </tr>\n",
              "  </tbody>\n",
              "</table>\n",
              "</div>\n",
              "      <button class=\"colab-df-convert\" onclick=\"convertToInteractive('df-722465b6-3182-4d26-ac18-e6a72331a632')\"\n",
              "              title=\"Convert this dataframe to an interactive table.\"\n",
              "              style=\"display:none;\">\n",
              "        \n",
              "  <svg xmlns=\"http://www.w3.org/2000/svg\" height=\"24px\"viewBox=\"0 0 24 24\"\n",
              "       width=\"24px\">\n",
              "    <path d=\"M0 0h24v24H0V0z\" fill=\"none\"/>\n",
              "    <path d=\"M18.56 5.44l.94 2.06.94-2.06 2.06-.94-2.06-.94-.94-2.06-.94 2.06-2.06.94zm-11 1L8.5 8.5l.94-2.06 2.06-.94-2.06-.94L8.5 2.5l-.94 2.06-2.06.94zm10 10l.94 2.06.94-2.06 2.06-.94-2.06-.94-.94-2.06-.94 2.06-2.06.94z\"/><path d=\"M17.41 7.96l-1.37-1.37c-.4-.4-.92-.59-1.43-.59-.52 0-1.04.2-1.43.59L10.3 9.45l-7.72 7.72c-.78.78-.78 2.05 0 2.83L4 21.41c.39.39.9.59 1.41.59.51 0 1.02-.2 1.41-.59l7.78-7.78 2.81-2.81c.8-.78.8-2.07 0-2.86zM5.41 20L4 18.59l7.72-7.72 1.47 1.35L5.41 20z\"/>\n",
              "  </svg>\n",
              "      </button>\n",
              "      \n",
              "  <style>\n",
              "    .colab-df-container {\n",
              "      display:flex;\n",
              "      flex-wrap:wrap;\n",
              "      gap: 12px;\n",
              "    }\n",
              "\n",
              "    .colab-df-convert {\n",
              "      background-color: #E8F0FE;\n",
              "      border: none;\n",
              "      border-radius: 50%;\n",
              "      cursor: pointer;\n",
              "      display: none;\n",
              "      fill: #1967D2;\n",
              "      height: 32px;\n",
              "      padding: 0 0 0 0;\n",
              "      width: 32px;\n",
              "    }\n",
              "\n",
              "    .colab-df-convert:hover {\n",
              "      background-color: #E2EBFA;\n",
              "      box-shadow: 0px 1px 2px rgba(60, 64, 67, 0.3), 0px 1px 3px 1px rgba(60, 64, 67, 0.15);\n",
              "      fill: #174EA6;\n",
              "    }\n",
              "\n",
              "    [theme=dark] .colab-df-convert {\n",
              "      background-color: #3B4455;\n",
              "      fill: #D2E3FC;\n",
              "    }\n",
              "\n",
              "    [theme=dark] .colab-df-convert:hover {\n",
              "      background-color: #434B5C;\n",
              "      box-shadow: 0px 1px 3px 1px rgba(0, 0, 0, 0.15);\n",
              "      filter: drop-shadow(0px 1px 2px rgba(0, 0, 0, 0.3));\n",
              "      fill: #FFFFFF;\n",
              "    }\n",
              "  </style>\n",
              "\n",
              "      <script>\n",
              "        const buttonEl =\n",
              "          document.querySelector('#df-722465b6-3182-4d26-ac18-e6a72331a632 button.colab-df-convert');\n",
              "        buttonEl.style.display =\n",
              "          google.colab.kernel.accessAllowed ? 'block' : 'none';\n",
              "\n",
              "        async function convertToInteractive(key) {\n",
              "          const element = document.querySelector('#df-722465b6-3182-4d26-ac18-e6a72331a632');\n",
              "          const dataTable =\n",
              "            await google.colab.kernel.invokeFunction('convertToInteractive',\n",
              "                                                     [key], {});\n",
              "          if (!dataTable) return;\n",
              "\n",
              "          const docLinkHtml = 'Like what you see? Visit the ' +\n",
              "            '<a target=\"_blank\" href=https://colab.research.google.com/notebooks/data_table.ipynb>data table notebook</a>'\n",
              "            + ' to learn more about interactive tables.';\n",
              "          element.innerHTML = '';\n",
              "          dataTable['output_type'] = 'display_data';\n",
              "          await google.colab.output.renderOutput(dataTable, element);\n",
              "          const docLink = document.createElement('div');\n",
              "          docLink.innerHTML = docLinkHtml;\n",
              "          element.appendChild(docLink);\n",
              "        }\n",
              "      </script>\n",
              "    </div>\n",
              "  </div>\n",
              "  "
            ]
          },
          "metadata": {},
          "execution_count": 14
        }
      ]
    },
    {
      "cell_type": "code",
      "source": [
        "# convert to 1 and 0\n",
        "Text_train['label'] = np.where(Text_train['label'] == \"fake\", 1, 0)\n",
        "Text_test['label'] = np.where(Text_test['label'] == \"fake\", 1, 0)"
      ],
      "metadata": {
        "id": "CqnBnv8_p_Uh"
      },
      "execution_count": null,
      "outputs": []
    },
    {
      "cell_type": "code",
      "source": [
        "Text_test.head(3)"
      ],
      "metadata": {
        "colab": {
          "base_uri": "https://localhost:8080/",
          "height": 143
        },
        "id": "TOmQBQI2qKAX",
        "outputId": "f2c4740e-8d3d-4239-d7a7-de175c1fb5e0"
      },
      "execution_count": null,
      "outputs": [
        {
          "output_type": "execute_result",
          "data": {
            "text/plain": [
              "                                          tweet_text  label            event  \\\n",
              "0  Fuji created huge lenticular clouds and they w...      0  fuji_lenticular   \n",
              "1  Ever Wonder, If Laura Bush Was All About Liter...      1        bush_book   \n",
              "2  Very rare pic of mahatma gandhi n queen elizab...      1   gandhi_dancing   \n",
              "\n",
              "          new_img_id                                        clean_tweet  \n",
              "0  fuji_lenticular_2  [fuji, created, huge, lenticular, clouds, pain...  \n",
              "1        bush_book_1  [ever, wonder, laura, bush, was, all, about, l...  \n",
              "2   gandhi_dancing_1  [very, rare, pic, mahatma, gandhi, queen, eliz...  "
            ],
            "text/html": [
              "\n",
              "  <div id=\"df-00cb1c2d-4c13-4445-a30c-507f2999b06b\">\n",
              "    <div class=\"colab-df-container\">\n",
              "      <div>\n",
              "<style scoped>\n",
              "    .dataframe tbody tr th:only-of-type {\n",
              "        vertical-align: middle;\n",
              "    }\n",
              "\n",
              "    .dataframe tbody tr th {\n",
              "        vertical-align: top;\n",
              "    }\n",
              "\n",
              "    .dataframe thead th {\n",
              "        text-align: right;\n",
              "    }\n",
              "</style>\n",
              "<table border=\"1\" class=\"dataframe\">\n",
              "  <thead>\n",
              "    <tr style=\"text-align: right;\">\n",
              "      <th></th>\n",
              "      <th>tweet_text</th>\n",
              "      <th>label</th>\n",
              "      <th>event</th>\n",
              "      <th>new_img_id</th>\n",
              "      <th>clean_tweet</th>\n",
              "    </tr>\n",
              "  </thead>\n",
              "  <tbody>\n",
              "    <tr>\n",
              "      <th>0</th>\n",
              "      <td>Fuji created huge lenticular clouds and they w...</td>\n",
              "      <td>0</td>\n",
              "      <td>fuji_lenticular</td>\n",
              "      <td>fuji_lenticular_2</td>\n",
              "      <td>[fuji, created, huge, lenticular, clouds, pain...</td>\n",
              "    </tr>\n",
              "    <tr>\n",
              "      <th>1</th>\n",
              "      <td>Ever Wonder, If Laura Bush Was All About Liter...</td>\n",
              "      <td>1</td>\n",
              "      <td>bush_book</td>\n",
              "      <td>bush_book_1</td>\n",
              "      <td>[ever, wonder, laura, bush, was, all, about, l...</td>\n",
              "    </tr>\n",
              "    <tr>\n",
              "      <th>2</th>\n",
              "      <td>Very rare pic of mahatma gandhi n queen elizab...</td>\n",
              "      <td>1</td>\n",
              "      <td>gandhi_dancing</td>\n",
              "      <td>gandhi_dancing_1</td>\n",
              "      <td>[very, rare, pic, mahatma, gandhi, queen, eliz...</td>\n",
              "    </tr>\n",
              "  </tbody>\n",
              "</table>\n",
              "</div>\n",
              "      <button class=\"colab-df-convert\" onclick=\"convertToInteractive('df-00cb1c2d-4c13-4445-a30c-507f2999b06b')\"\n",
              "              title=\"Convert this dataframe to an interactive table.\"\n",
              "              style=\"display:none;\">\n",
              "        \n",
              "  <svg xmlns=\"http://www.w3.org/2000/svg\" height=\"24px\"viewBox=\"0 0 24 24\"\n",
              "       width=\"24px\">\n",
              "    <path d=\"M0 0h24v24H0V0z\" fill=\"none\"/>\n",
              "    <path d=\"M18.56 5.44l.94 2.06.94-2.06 2.06-.94-2.06-.94-.94-2.06-.94 2.06-2.06.94zm-11 1L8.5 8.5l.94-2.06 2.06-.94-2.06-.94L8.5 2.5l-.94 2.06-2.06.94zm10 10l.94 2.06.94-2.06 2.06-.94-2.06-.94-.94-2.06-.94 2.06-2.06.94z\"/><path d=\"M17.41 7.96l-1.37-1.37c-.4-.4-.92-.59-1.43-.59-.52 0-1.04.2-1.43.59L10.3 9.45l-7.72 7.72c-.78.78-.78 2.05 0 2.83L4 21.41c.39.39.9.59 1.41.59.51 0 1.02-.2 1.41-.59l7.78-7.78 2.81-2.81c.8-.78.8-2.07 0-2.86zM5.41 20L4 18.59l7.72-7.72 1.47 1.35L5.41 20z\"/>\n",
              "  </svg>\n",
              "      </button>\n",
              "      \n",
              "  <style>\n",
              "    .colab-df-container {\n",
              "      display:flex;\n",
              "      flex-wrap:wrap;\n",
              "      gap: 12px;\n",
              "    }\n",
              "\n",
              "    .colab-df-convert {\n",
              "      background-color: #E8F0FE;\n",
              "      border: none;\n",
              "      border-radius: 50%;\n",
              "      cursor: pointer;\n",
              "      display: none;\n",
              "      fill: #1967D2;\n",
              "      height: 32px;\n",
              "      padding: 0 0 0 0;\n",
              "      width: 32px;\n",
              "    }\n",
              "\n",
              "    .colab-df-convert:hover {\n",
              "      background-color: #E2EBFA;\n",
              "      box-shadow: 0px 1px 2px rgba(60, 64, 67, 0.3), 0px 1px 3px 1px rgba(60, 64, 67, 0.15);\n",
              "      fill: #174EA6;\n",
              "    }\n",
              "\n",
              "    [theme=dark] .colab-df-convert {\n",
              "      background-color: #3B4455;\n",
              "      fill: #D2E3FC;\n",
              "    }\n",
              "\n",
              "    [theme=dark] .colab-df-convert:hover {\n",
              "      background-color: #434B5C;\n",
              "      box-shadow: 0px 1px 3px 1px rgba(0, 0, 0, 0.15);\n",
              "      filter: drop-shadow(0px 1px 2px rgba(0, 0, 0, 0.3));\n",
              "      fill: #FFFFFF;\n",
              "    }\n",
              "  </style>\n",
              "\n",
              "      <script>\n",
              "        const buttonEl =\n",
              "          document.querySelector('#df-00cb1c2d-4c13-4445-a30c-507f2999b06b button.colab-df-convert');\n",
              "        buttonEl.style.display =\n",
              "          google.colab.kernel.accessAllowed ? 'block' : 'none';\n",
              "\n",
              "        async function convertToInteractive(key) {\n",
              "          const element = document.querySelector('#df-00cb1c2d-4c13-4445-a30c-507f2999b06b');\n",
              "          const dataTable =\n",
              "            await google.colab.kernel.invokeFunction('convertToInteractive',\n",
              "                                                     [key], {});\n",
              "          if (!dataTable) return;\n",
              "\n",
              "          const docLinkHtml = 'Like what you see? Visit the ' +\n",
              "            '<a target=\"_blank\" href=https://colab.research.google.com/notebooks/data_table.ipynb>data table notebook</a>'\n",
              "            + ' to learn more about interactive tables.';\n",
              "          element.innerHTML = '';\n",
              "          dataTable['output_type'] = 'display_data';\n",
              "          await google.colab.output.renderOutput(dataTable, element);\n",
              "          const docLink = document.createElement('div');\n",
              "          docLink.innerHTML = docLinkHtml;\n",
              "          element.appendChild(docLink);\n",
              "        }\n",
              "      </script>\n",
              "    </div>\n",
              "  </div>\n",
              "  "
            ]
          },
          "metadata": {},
          "execution_count": 16
        }
      ]
    },
    {
      "cell_type": "code",
      "source": [
        "Text_train['clean_tweet'] = Text_train['clean_tweet'].astype(pd.StringDtype())\n",
        "Text_test['clean_tweet'] = Text_test['clean_tweet'].astype(pd.StringDtype())"
      ],
      "metadata": {
        "id": "ZDPqqjdGqPIF"
      },
      "execution_count": null,
      "outputs": []
    },
    {
      "cell_type": "code",
      "source": [
        "y_train = Text_train.label\n",
        "y_test = Text_test.label"
      ],
      "metadata": {
        "id": "na0dNB6JqTqV"
      },
      "execution_count": null,
      "outputs": []
    },
    {
      "cell_type": "markdown",
      "source": [
        "# Load Pre-trained Model"
      ],
      "metadata": {
        "id": "YPFuGS1Kq17R"
      }
    },
    {
      "cell_type": "code",
      "source": [
        "!pip install transformers\n",
        "import transformers"
      ],
      "metadata": {
        "colab": {
          "base_uri": "https://localhost:8080/"
        },
        "id": "P5JTLujiq1R8",
        "outputId": "dfa33ca4-808a-4be1-cac0-07a77516e2b7"
      },
      "execution_count": null,
      "outputs": [
        {
          "output_type": "stream",
          "name": "stdout",
          "text": [
            "Looking in indexes: https://pypi.org/simple, https://us-python.pkg.dev/colab-wheels/public/simple/\n",
            "Collecting transformers\n",
            "  Downloading transformers-4.24.0-py3-none-any.whl (5.5 MB)\n",
            "\u001b[K     |████████████████████████████████| 5.5 MB 5.3 MB/s \n",
            "\u001b[?25hRequirement already satisfied: pyyaml>=5.1 in /usr/local/lib/python3.7/dist-packages (from transformers) (6.0)\n",
            "Requirement already satisfied: filelock in /usr/local/lib/python3.7/dist-packages (from transformers) (3.8.0)\n",
            "Collecting huggingface-hub<1.0,>=0.10.0\n",
            "  Downloading huggingface_hub-0.11.0-py3-none-any.whl (182 kB)\n",
            "\u001b[K     |████████████████████████████████| 182 kB 63.8 MB/s \n",
            "\u001b[?25hRequirement already satisfied: numpy>=1.17 in /usr/local/lib/python3.7/dist-packages (from transformers) (1.21.6)\n",
            "Requirement already satisfied: importlib-metadata in /usr/local/lib/python3.7/dist-packages (from transformers) (4.13.0)\n",
            "Requirement already satisfied: packaging>=20.0 in /usr/local/lib/python3.7/dist-packages (from transformers) (21.3)\n",
            "Requirement already satisfied: regex!=2019.12.17 in /usr/local/lib/python3.7/dist-packages (from transformers) (2022.6.2)\n",
            "Collecting tokenizers!=0.11.3,<0.14,>=0.11.1\n",
            "  Downloading tokenizers-0.13.2-cp37-cp37m-manylinux_2_17_x86_64.manylinux2014_x86_64.whl (7.6 MB)\n",
            "\u001b[K     |████████████████████████████████| 7.6 MB 42.3 MB/s \n",
            "\u001b[?25hRequirement already satisfied: requests in /usr/local/lib/python3.7/dist-packages (from transformers) (2.23.0)\n",
            "Requirement already satisfied: tqdm>=4.27 in /usr/local/lib/python3.7/dist-packages (from transformers) (4.64.1)\n",
            "Requirement already satisfied: typing-extensions>=3.7.4.3 in /usr/local/lib/python3.7/dist-packages (from huggingface-hub<1.0,>=0.10.0->transformers) (4.1.1)\n",
            "Requirement already satisfied: pyparsing!=3.0.5,>=2.0.2 in /usr/local/lib/python3.7/dist-packages (from packaging>=20.0->transformers) (3.0.9)\n",
            "Requirement already satisfied: zipp>=0.5 in /usr/local/lib/python3.7/dist-packages (from importlib-metadata->transformers) (3.10.0)\n",
            "Requirement already satisfied: urllib3!=1.25.0,!=1.25.1,<1.26,>=1.21.1 in /usr/local/lib/python3.7/dist-packages (from requests->transformers) (1.24.3)\n",
            "Requirement already satisfied: chardet<4,>=3.0.2 in /usr/local/lib/python3.7/dist-packages (from requests->transformers) (3.0.4)\n",
            "Requirement already satisfied: certifi>=2017.4.17 in /usr/local/lib/python3.7/dist-packages (from requests->transformers) (2022.9.24)\n",
            "Requirement already satisfied: idna<3,>=2.5 in /usr/local/lib/python3.7/dist-packages (from requests->transformers) (2.10)\n",
            "Installing collected packages: tokenizers, huggingface-hub, transformers\n",
            "Successfully installed huggingface-hub-0.11.0 tokenizers-0.13.2 transformers-4.24.0\n"
          ]
        }
      ]
    },
    {
      "cell_type": "code",
      "source": [
        "from transformers import AutoTokenizer,TFBertModel\n",
        "tokenizer = AutoTokenizer.from_pretrained('bert-base-cased')\n",
        "bert = TFBertModel.from_pretrained('bert-base-cased')"
      ],
      "metadata": {
        "colab": {
          "base_uri": "https://localhost:8080/",
          "height": 264,
          "referenced_widgets": [
            "3065b8aa3fcc4386820dd7d28ef03640",
            "36b963e91e844133ac36f36321077bc8",
            "0f0d68c2bd5440328e612a362ceec642",
            "e4c395162e7a4d2296d6c6240fead8ba",
            "a4039becb20d489ab36e4e1a7241503e",
            "2996171105074d9bab24db40938e2e7a",
            "a479da1f19c14c159117a6eac107acb1",
            "c30ece8b9ed24f48a70c2008d416160b",
            "935b2988da524ca684ff04695b42c21e",
            "f7dc63c692144f13ac0028ce127b926c",
            "3657de5e6f6a42688b41933fa54b30eb",
            "749001956ebf41c4a4ce9c3f167405bb",
            "315bbdb9b70a413d8ec3b6b162ec8072",
            "bfdbffc6a7ce425f9a997654bd625398",
            "abd86edda58648dd96bbb32517989863",
            "40a9a450fe37458abff3b873c0fbb553",
            "0b31733901c34583ac572734ec7d89be",
            "224fdfba3b9440a39233a05015201c40",
            "3c0ccf85a9d44f0d8410fdd0b9dd812b",
            "7a977e4a3fb94147874ce68d3d6ad76d",
            "5d76cf5e91ff484b80cf7c5bdc78b1b3",
            "011a644fa2494f5197b2a2442964e678",
            "3fb35f7c900b469498501b206b0029ca",
            "2c17046edf1142f19e7d93e8f35a1e23",
            "13dec1998dd845cfb135aa53605df7b5",
            "e054f55a24c342adbb89120509137894",
            "00859ca4fbf34e66a2c3bb551289b7e2",
            "55cbdb2c9fca48a19a6754ddfdbd0bb6",
            "701754b63d05477da93c68c137a9697d",
            "bb5a07971b6a4d8d9ee82626dcd2c4e8",
            "b05d4e6644de4d22a998084240dbbb00",
            "9c66d9608dd646f6b33a6f28644c4f99",
            "1746b1c0c83040a1ae2bcb1c438d7b04",
            "412c4d2e577c40de8c58844c8942e8d5",
            "bdc792a9d2be4ac48e616924d0ae7517",
            "a6274c09c4344af397d0866655de813a",
            "1ae80a66269c4930a5dba03c5050b062",
            "83fdd3676ebc466aacbba7b3b5a9e763",
            "ae59abea9ef84ef8b1a192dd1d4e66d4",
            "6c4e1821434040e198139c388723dde7",
            "c373367fa0eb44d2b66e2a0e65f18c12",
            "d527ee04574c4493a6fb0e39d0fbbf5f",
            "bb2d3979c3d24e738900f8899c9dbf12",
            "e1573a4be5c54e78a6487d30787a7362",
            "bbf8202698e64218be01bca0309b829c",
            "91d84980ffdb4601b18ec4c4436a0de5",
            "b7639a03cf394f41a79ddbe34228ac0c",
            "b5bef9b7777d43e7a7fd2be993eb28c5",
            "2d4f9ee6c3dd402ebcfef6ffb83132ad",
            "f0f89cc0982e4fb1b3d86aad9662a109",
            "e7604c1dd1244c729c72c8657f81b18a",
            "a0a28f37d9c24d40b7d62dfabb223026",
            "a3719dacb2bd49ecb7e586927d8abf73",
            "af5c243961dc41f2a6de1b164b4cfcb6",
            "9ddee518b51b48fe98d831809054178c"
          ]
        },
        "id": "aYW3SfuDq5or",
        "outputId": "dc7d0066-c8a5-4a2f-b48f-e451fd408d8b"
      },
      "execution_count": null,
      "outputs": [
        {
          "output_type": "display_data",
          "data": {
            "text/plain": [
              "Downloading:   0%|          | 0.00/29.0 [00:00<?, ?B/s]"
            ],
            "application/vnd.jupyter.widget-view+json": {
              "version_major": 2,
              "version_minor": 0,
              "model_id": "3065b8aa3fcc4386820dd7d28ef03640"
            }
          },
          "metadata": {}
        },
        {
          "output_type": "display_data",
          "data": {
            "text/plain": [
              "Downloading:   0%|          | 0.00/570 [00:00<?, ?B/s]"
            ],
            "application/vnd.jupyter.widget-view+json": {
              "version_major": 2,
              "version_minor": 0,
              "model_id": "749001956ebf41c4a4ce9c3f167405bb"
            }
          },
          "metadata": {}
        },
        {
          "output_type": "display_data",
          "data": {
            "text/plain": [
              "Downloading:   0%|          | 0.00/213k [00:00<?, ?B/s]"
            ],
            "application/vnd.jupyter.widget-view+json": {
              "version_major": 2,
              "version_minor": 0,
              "model_id": "3fb35f7c900b469498501b206b0029ca"
            }
          },
          "metadata": {}
        },
        {
          "output_type": "display_data",
          "data": {
            "text/plain": [
              "Downloading:   0%|          | 0.00/436k [00:00<?, ?B/s]"
            ],
            "application/vnd.jupyter.widget-view+json": {
              "version_major": 2,
              "version_minor": 0,
              "model_id": "412c4d2e577c40de8c58844c8942e8d5"
            }
          },
          "metadata": {}
        },
        {
          "output_type": "display_data",
          "data": {
            "text/plain": [
              "Downloading:   0%|          | 0.00/527M [00:00<?, ?B/s]"
            ],
            "application/vnd.jupyter.widget-view+json": {
              "version_major": 2,
              "version_minor": 0,
              "model_id": "bbf8202698e64218be01bca0309b829c"
            }
          },
          "metadata": {}
        },
        {
          "output_type": "stream",
          "name": "stderr",
          "text": [
            "Some layers from the model checkpoint at bert-base-cased were not used when initializing TFBertModel: ['mlm___cls', 'nsp___cls']\n",
            "- This IS expected if you are initializing TFBertModel from the checkpoint of a model trained on another task or with another architecture (e.g. initializing a BertForSequenceClassification model from a BertForPreTraining model).\n",
            "- This IS NOT expected if you are initializing TFBertModel from the checkpoint of a model that you expect to be exactly identical (initializing a BertForSequenceClassification model from a BertForSequenceClassification model).\n",
            "All the layers of TFBertModel were initialized from the model checkpoint at bert-base-cased.\n",
            "If your task is similar to the task the model of the checkpoint was trained on, you can already use TFBertModel for predictions without further training.\n"
          ]
        }
      ]
    },
    {
      "cell_type": "code",
      "source": [
        "# Tokenize the input (takes some time) \n",
        "# here tokenizer using from bert-base-cased\n",
        "x_train = tokenizer(\n",
        "    text=Text_train.clean_tweet.tolist(),\n",
        "    add_special_tokens=True,\n",
        "    max_length=128,\n",
        "    truncation=True,\n",
        "    padding=\"max_length\", \n",
        "    return_tensors='tf',\n",
        "    return_token_type_ids = True,\n",
        "    return_attention_mask = True\n",
        "    #verbose = True\n",
        "    )\n",
        "x_test = tokenizer(\n",
        "    text=Text_test.clean_tweet.tolist(),\n",
        "    add_special_tokens=True,\n",
        "    max_length=128,\n",
        "    truncation=True,\n",
        "    padding=\"max_length\", \n",
        "    return_tensors='tf',\n",
        "    return_token_type_ids = True,\n",
        "    return_attention_mask = True\n",
        "    #verbose = True\n",
        "    )"
      ],
      "metadata": {
        "id": "rRo-yPrlq7jr"
      },
      "execution_count": null,
      "outputs": []
    },
    {
      "cell_type": "code",
      "source": [
        "input_ids = x_train['input_ids']\n",
        "attention_mask = x_train['attention_mask']\n",
        "segment_ids = x_train[\"token_type_ids\"]"
      ],
      "metadata": {
        "id": "O-biedaTrTkJ"
      },
      "execution_count": null,
      "outputs": []
    },
    {
      "cell_type": "code",
      "source": [
        "x_train['input_ids'].shape"
      ],
      "metadata": {
        "colab": {
          "base_uri": "https://localhost:8080/"
        },
        "id": "UqEwRObMxDEy",
        "outputId": "1cf49de7-f8ca-4da3-9f77-9f6db207e5b6"
      },
      "execution_count": null,
      "outputs": [
        {
          "output_type": "execute_result",
          "data": {
            "text/plain": [
              "TensorShape([9142, 128])"
            ]
          },
          "metadata": {},
          "execution_count": 23
        }
      ]
    },
    {
      "cell_type": "code",
      "source": [
        "y_train.shape"
      ],
      "metadata": {
        "id": "SBoqugbkGZX6",
        "outputId": "89718bbb-64c4-44bd-997c-cdf97b42dbd9",
        "colab": {
          "base_uri": "https://localhost:8080/"
        }
      },
      "execution_count": null,
      "outputs": [
        {
          "output_type": "execute_result",
          "data": {
            "text/plain": [
              "(9142,)"
            ]
          },
          "metadata": {},
          "execution_count": 25
        }
      ]
    },
    {
      "cell_type": "markdown",
      "source": [
        "# Bert model with GlobalMaxPool1D"
      ],
      "metadata": {
        "id": "Er9f-4e69KAn"
      }
    },
    {
      "cell_type": "code",
      "source": [
        "max_len = 128\n",
        "input_ids = Input(shape=(max_len,), dtype=tf.int32, name=\"input_ids\")\n",
        "input_mask = Input(shape=(max_len,), dtype=tf.int32, name=\"attention_mask\")\n",
        "embeddings = bert(input_ids,attention_mask = input_mask)[0] \n",
        "out = tf.keras.layers.GlobalMaxPool1D()(embeddings)\n",
        "#out = Dense(128, activation='relu')(out)\n",
        "#out = tf.keras.layers.Dropout(0.1)(out)\n",
        "#out = Dense(32,activation = 'relu')(out)\n",
        "y = Dense(1,activation = 'sigmoid')(out)\n",
        "model1 = tf.keras.Model(inputs=[input_ids, input_mask], outputs=y)\n",
        "model1.layers[2].trainable = True"
      ],
      "metadata": {
        "id": "yBFvuDlF_vqh"
      },
      "execution_count": null,
      "outputs": []
    },
    {
      "cell_type": "code",
      "source": [
        "model1.summary()"
      ],
      "metadata": {
        "colab": {
          "base_uri": "https://localhost:8080/"
        },
        "id": "gbmk6zLMaRZu",
        "outputId": "7a59479b-7cfc-4a39-a196-83a9d2b25bd6"
      },
      "execution_count": null,
      "outputs": [
        {
          "output_type": "stream",
          "name": "stdout",
          "text": [
            "Model: \"model\"\n",
            "__________________________________________________________________________________________________\n",
            " Layer (type)                   Output Shape         Param #     Connected to                     \n",
            "==================================================================================================\n",
            " input_ids (InputLayer)         [(None, 128)]        0           []                               \n",
            "                                                                                                  \n",
            " attention_mask (InputLayer)    [(None, 128)]        0           []                               \n",
            "                                                                                                  \n",
            " tf_bert_model (TFBertModel)    TFBaseModelOutputWi  108310272   ['input_ids[0][0]',              \n",
            "                                thPoolingAndCrossAt               'attention_mask[0][0]']         \n",
            "                                tentions(last_hidde                                               \n",
            "                                n_state=(None, 128,                                               \n",
            "                                 768),                                                            \n",
            "                                 pooler_output=(Non                                               \n",
            "                                e, 768),                                                          \n",
            "                                 past_key_values=No                                               \n",
            "                                ne, hidden_states=N                                               \n",
            "                                one, attentions=Non                                               \n",
            "                                e, cross_attentions                                               \n",
            "                                =None)                                                            \n",
            "                                                                                                  \n",
            " global_max_pooling1d (GlobalMa  (None, 768)         0           ['tf_bert_model[0][0]']          \n",
            " xPooling1D)                                                                                      \n",
            "                                                                                                  \n",
            " dense (Dense)                  (None, 1)            769         ['global_max_pooling1d[0][0]']   \n",
            "                                                                                                  \n",
            "==================================================================================================\n",
            "Total params: 108,311,041\n",
            "Trainable params: 108,311,041\n",
            "Non-trainable params: 0\n",
            "__________________________________________________________________________________________________\n"
          ]
        }
      ]
    },
    {
      "cell_type": "markdown",
      "source": [
        "# Bert model with LSTM (SELU activation and lecun_normal and alpha dropout)"
      ],
      "metadata": {
        "id": "soQe27wEqhex"
      }
    },
    {
      "cell_type": "code",
      "source": [
        "from functools import partial\n",
        "# layer = tf.keras.layers.Dense(100, activation=\"selu\", kernel_initializer=\"lecun_normal\",\n",
        "#                            kernel_constraint=tf.keras.constraints.max_norm(1.))\n",
        "MaxNormDense = partial(tf.keras.layers.Dense,\n",
        "                       activation=\"selu\", kernel_initializer=\"lecun_normal\",\n",
        "                       kernel_constraint=tf.keras.constraints.max_norm(1.))"
      ],
      "metadata": {
        "id": "Ki-oRAtcyJi7"
      },
      "execution_count": null,
      "outputs": []
    },
    {
      "cell_type": "code",
      "source": [
        "max_len = 128\n",
        "input_ids = Input(shape=(max_len,), dtype=tf.int32, name=\"input_ids\")\n",
        "input_mask = Input(shape=(max_len,), dtype=tf.int32, name=\"attention_mask\")\n",
        "segment_ids = Input(shape=(max_len,), dtype=tf.int32, name=\"segment_ids\")\n",
        "bert_layer = hub.KerasLayer(\"https://tfhub.dev/tensorflow/bert_en_uncased_L-12_H-768_A-12/1\",\n",
        "                            trainable=True)\n",
        "pooled_output, sequence_output = bert_layer([input_ids, input_mask, segment_ids])\n",
        "lstm_out = tf.keras.layers.Bidirectional(LSTM(128, name='LSTM'))(sequence_output)\n",
        "# out = tf.keras.layers.Dense(128, activation=\"selu\",kernel_initializer=\"lecun_normal\")(lstm_out)\n",
        "# out = tf.keras.layers.GlobalMaxPool1D()(embeddings)\n",
        "out = MaxNormDense(128)(lstm_out)\n",
        "# out = tf.keras.layers.AlphaDropout(rate=0.5)(out)\n",
        "# out = MaxNormDense(64)(out)\n",
        "# out = tf.keras.layers.AlphaDropout(rate=0.5)(out)\n",
        "# out = MaxNormDense(32)(out)\n",
        "# out = tf.keras.layers.AlphaDropout(rate=0.5)(out)\n",
        "# out = Dense(16,activation = 'relu')(out)\n",
        "# out = tf.keras.layers.Dropout(0.1)(out)\n",
        "y = Dense(1,activation = 'sigmoid')(out)\n",
        "model2 = tf.keras.Model(inputs=[input_ids, input_mask, segment_ids], outputs=y)\n",
        "model2.layers[2].trainable = True"
      ],
      "metadata": {
        "id": "4om9uq_LrV26"
      },
      "execution_count": null,
      "outputs": []
    },
    {
      "cell_type": "code",
      "source": [
        "model2.summary()"
      ],
      "metadata": {
        "colab": {
          "base_uri": "https://localhost:8080/"
        },
        "id": "PVi2TAzLrbRb",
        "outputId": "5740444a-679d-4471-963e-92065aa8d4c9"
      },
      "execution_count": null,
      "outputs": [
        {
          "output_type": "stream",
          "name": "stdout",
          "text": [
            "Model: \"model_1\"\n",
            "__________________________________________________________________________________________________\n",
            " Layer (type)                   Output Shape         Param #     Connected to                     \n",
            "==================================================================================================\n",
            " input_ids (InputLayer)         [(None, 128)]        0           []                               \n",
            "                                                                                                  \n",
            " attention_mask (InputLayer)    [(None, 128)]        0           []                               \n",
            "                                                                                                  \n",
            " segment_ids (InputLayer)       [(None, 128)]        0           []                               \n",
            "                                                                                                  \n",
            " keras_layer (KerasLayer)       [(None, 768),        109482241   ['input_ids[0][0]',              \n",
            "                                 (None, 128, 768)]                'attention_mask[0][0]',         \n",
            "                                                                  'segment_ids[0][0]']            \n",
            "                                                                                                  \n",
            " bidirectional (Bidirectional)  (None, 256)          918528      ['keras_layer[0][1]']            \n",
            "                                                                                                  \n",
            " dense_1 (Dense)                (None, 128)          32896       ['bidirectional[0][0]']          \n",
            "                                                                                                  \n",
            " alpha_dropout (AlphaDropout)   (None, 128)          0           ['dense_1[0][0]']                \n",
            "                                                                                                  \n",
            " dense_2 (Dense)                (None, 64)           8256        ['alpha_dropout[0][0]']          \n",
            "                                                                                                  \n",
            " alpha_dropout_1 (AlphaDropout)  (None, 64)          0           ['dense_2[0][0]']                \n",
            "                                                                                                  \n",
            " dense_3 (Dense)                (None, 32)           2080        ['alpha_dropout_1[0][0]']        \n",
            "                                                                                                  \n",
            " alpha_dropout_2 (AlphaDropout)  (None, 32)          0           ['dense_3[0][0]']                \n",
            "                                                                                                  \n",
            " dense_4 (Dense)                (None, 1)            33          ['alpha_dropout_2[0][0]']        \n",
            "                                                                                                  \n",
            "==================================================================================================\n",
            "Total params: 110,444,034\n",
            "Trainable params: 110,444,033\n",
            "Non-trainable params: 1\n",
            "__________________________________________________________________________________________________\n"
          ]
        }
      ]
    },
    {
      "cell_type": "markdown",
      "source": [
        "# Bert model (SELU activation and lecun_normal and alpha dropout) + LSTM with CNN"
      ],
      "metadata": {
        "id": "QxyDLv9f9dEg"
      }
    },
    {
      "cell_type": "code",
      "source": [
        "max_length = 128\n",
        "\n",
        "bert_layer = hub.KerasLayer(\"https://tfhub.dev/tensorflow/bert_en_uncased_L-12_H-768_A-12/1\",\n",
        "                            trainable=True)\n",
        "\n",
        "\n",
        "def build_model(bert_layer, max_len=128):\n",
        "    '''\n",
        "    Function to build a tensorflow machine learning neural network model.\n",
        "    \n",
        "    :param: bert_layer - the loaded BERT layer from TF hub\n",
        "    :param: max_len - the maximum length of an input sequence for encoding purposes, used here to denote the input shape\n",
        "    \n",
        "    :output: Model - Tensorflow keras model with inputs and outputs designated\n",
        "    '''\n",
        "    # INPUTS\n",
        "    input_word_ids = tf.keras.layers.Input(shape=(max_length,), dtype=tf.int32, name=\"input_ids\")\n",
        "    input_mask = tf.keras.layers.Input(shape=(max_length,), dtype=tf.int32, name=\"attention_mask\")\n",
        "    segment_ids = tf.keras.layers.Input(shape=(max_length,), dtype=tf.int32, name=\"segment_ids\")\n",
        "    \n",
        "    # BERT EMBEDDING\n",
        "    _, sequence_output = bert_layer([input_word_ids,input_mask,segment_ids])\n",
        "    clf_output = sequence_output[:, 0, :]\n",
        "    clf_output_ = tf.keras.layers.Reshape((32,24))(clf_output)\n",
        "    \n",
        "    # HIDDEN\n",
        "    hidden = tf.keras.layers.Dense(128,activation='relu')(clf_output)\n",
        "    out = MaxNormDense(128)(hidden)\n",
        "    # out = tf.keras.layers.AlphaDropout(rate=0.2)(out)\n",
        "    # out = MaxNormDense(64)(out)\n",
        "    # out = tf.keras.layers.AlphaDropout(rate=0.2)(out)\n",
        "    # out = MaxNormDense(32)(out)\n",
        "    # out = tf.keras.layers.AlphaDropout(rate=0.2)(out)\n",
        "    # out = Dense(16,activation = 'relu')(out)\n",
        "    drop = tf.keras.layers.AlphaDropout(0.1)(out)\n",
        "    \n",
        "    # CHANNEL 2 - LSTM\n",
        "    lstm = tf.keras.layers.Bidirectional(tf.keras.layers.LSTM(128,\n",
        "                                kernel_regularizer=tf.keras.regularizers.L2(0.001),\n",
        "                                                             return_sequences=True))(clf_output_)\n",
        "    drop2 = tf.keras.layers.Dropout(0.1)(lstm)\n",
        "    cnn = tf.keras.layers.Conv1D(64,5, kernel_regularizer=tf.keras.regularizers.L2(0.001))(drop2)\n",
        "    max_pool = tf.keras.layers.MaxPooling1D(25)(cnn)\n",
        "    flat = tf.keras.layers.Flatten(data_format='channels_last')(max_pool)\n",
        "    \n",
        "    # OUTPUTS\n",
        "    concat = tf.keras.layers.Concatenate()([drop,flat])\n",
        "    output_target = tf.keras.layers.Dense(1,activation='sigmoid')(concat)\n",
        "    \n",
        "    return tf.keras.Model(inputs=[input_word_ids,input_mask,segment_ids],outputs=output_target)"
      ],
      "metadata": {
        "id": "f1sKfN1gjA8R"
      },
      "execution_count": null,
      "outputs": []
    },
    {
      "cell_type": "code",
      "source": [
        "model3 = build_model(bert_layer,max_len=128)\n",
        "model3.summary()"
      ],
      "metadata": {
        "id": "9oFjUOYpjBdm",
        "colab": {
          "base_uri": "https://localhost:8080/"
        },
        "outputId": "74ccd316-5fc3-411b-936d-6839f5d3a4a7"
      },
      "execution_count": null,
      "outputs": [
        {
          "output_type": "stream",
          "name": "stdout",
          "text": [
            "Model: \"model_2\"\n",
            "__________________________________________________________________________________________________\n",
            " Layer (type)                   Output Shape         Param #     Connected to                     \n",
            "==================================================================================================\n",
            " input_ids (InputLayer)         [(None, 128)]        0           []                               \n",
            "                                                                                                  \n",
            " attention_mask (InputLayer)    [(None, 128)]        0           []                               \n",
            "                                                                                                  \n",
            " segment_ids (InputLayer)       [(None, 128)]        0           []                               \n",
            "                                                                                                  \n",
            " keras_layer_1 (KerasLayer)     [(None, 768),        109482241   ['input_ids[0][0]',              \n",
            "                                 (None, 128, 768)]                'attention_mask[0][0]',         \n",
            "                                                                  'segment_ids[0][0]']            \n",
            "                                                                                                  \n",
            " tf.__operators__.getitem (Slic  (None, 768)         0           ['keras_layer_1[0][1]']          \n",
            " ingOpLambda)                                                                                     \n",
            "                                                                                                  \n",
            " reshape (Reshape)              (None, 32, 24)       0           ['tf.__operators__.getitem[0][0]'\n",
            "                                                                 ]                                \n",
            "                                                                                                  \n",
            " bidirectional_1 (Bidirectional  (None, 32, 256)     156672      ['reshape[0][0]']                \n",
            " )                                                                                                \n",
            "                                                                                                  \n",
            " dropout_37 (Dropout)           (None, 32, 256)      0           ['bidirectional_1[0][0]']        \n",
            "                                                                                                  \n",
            " dense_5 (Dense)                (None, 128)          98432       ['tf.__operators__.getitem[0][0]'\n",
            "                                                                 ]                                \n",
            "                                                                                                  \n",
            " conv1d (Conv1D)                (None, 28, 64)       81984       ['dropout_37[0][0]']             \n",
            "                                                                                                  \n",
            " dense_6 (Dense)                (None, 128)          16512       ['dense_5[0][0]']                \n",
            "                                                                                                  \n",
            " max_pooling1d (MaxPooling1D)   (None, 1, 64)        0           ['conv1d[0][0]']                 \n",
            "                                                                                                  \n",
            " alpha_dropout_3 (AlphaDropout)  (None, 128)         0           ['dense_6[0][0]']                \n",
            "                                                                                                  \n",
            " flatten (Flatten)              (None, 64)           0           ['max_pooling1d[0][0]']          \n",
            "                                                                                                  \n",
            " concatenate (Concatenate)      (None, 192)          0           ['alpha_dropout_3[0][0]',        \n",
            "                                                                  'flatten[0][0]']                \n",
            "                                                                                                  \n",
            " dense_7 (Dense)                (None, 1)            193         ['concatenate[0][0]']            \n",
            "                                                                                                  \n",
            "==================================================================================================\n",
            "Total params: 109,836,034\n",
            "Trainable params: 109,836,033\n",
            "Non-trainable params: 1\n",
            "__________________________________________________________________________________________________\n"
          ]
        }
      ]
    },
    {
      "cell_type": "markdown",
      "source": [
        "# Model compile and training"
      ],
      "metadata": {
        "id": "yxdKPR-N9wGa"
      }
    },
    {
      "cell_type": "code",
      "source": [
        "model1.compile(optimizer='adam', loss='binary_crossentropy', metrics=['accuracy'])\n",
        "n_epochs = 10"
      ],
      "metadata": {
        "id": "orcTfYSrren8"
      },
      "execution_count": null,
      "outputs": []
    },
    {
      "cell_type": "code",
      "source": [
        "model2.compile(optimizer='nadam', loss='binary_crossentropy', metrics=['accuracy'])"
      ],
      "metadata": {
        "id": "olb3YI2amyju"
      },
      "execution_count": null,
      "outputs": []
    },
    {
      "cell_type": "code",
      "source": [
        "model3.compile(optimizer='nadam', loss='binary_crossentropy', metrics=['accuracy'])"
      ],
      "metadata": {
        "id": "zPAQm1wAzsO7"
      },
      "execution_count": null,
      "outputs": []
    },
    {
      "cell_type": "markdown",
      "source": [
        "# Early stopping and model saving"
      ],
      "metadata": {
        "id": "Xs8y0Ci8q2xH"
      }
    },
    {
      "cell_type": "code",
      "source": [
        "# checkpoint = tf.keras.callbacks.ModelCheckpoint('model_tweet_text.h5', monitor='val_accuracy', save_best_only=True, verbose=1)\n",
        "earlystopping = tf.keras.callbacks.EarlyStopping(monitor='val_loss', patience=2, verbose=1)"
      ],
      "metadata": {
        "id": "lZyFa59Rri5J"
      },
      "execution_count": null,
      "outputs": []
    },
    {
      "cell_type": "code",
      "source": [
        "# Save and Load model\n",
        "checkpoint_filepath = '/content/drive/MyDrive/DATA-793 Pinyu Chen/model_tweet_text1.h5'\n",
        "model_checkpoint_callback1 = tf.keras.callbacks.ModelCheckpoint(\n",
        "    filepath=checkpoint_filepath,\n",
        "    save_weights_only=True,\n",
        "    monitor='val_accuracy',\n",
        "    mode='max',\n",
        "    save_best_only=True)\n",
        "\n",
        "checkpoint_filepath = '/content/drive/MyDrive/DATA-793 Pinyu Chen/model_tweet_text2.h5'\n",
        "model_checkpoint_callback2 = tf.keras.callbacks.ModelCheckpoint(\n",
        "    filepath=checkpoint_filepath,\n",
        "    save_weights_only=True,\n",
        "    monitor='val_accuracy',\n",
        "    mode='max',\n",
        "    save_best_only=True)\n",
        "\n",
        "checkpoint_filepath = '/content/drive/MyDrive/DATA-793 Pinyu Chen/model_tweet_text3.h5'\n",
        "model_checkpoint_callback3 = tf.keras.callbacks.ModelCheckpoint(\n",
        "    filepath=checkpoint_filepath,\n",
        "    save_weights_only=True,\n",
        "    monitor='val_accuracy',\n",
        "    mode='max',\n",
        "    save_best_only=True)"
      ],
      "metadata": {
        "id": "8ZGnG6DRrqVV"
      },
      "execution_count": null,
      "outputs": []
    },
    {
      "cell_type": "markdown",
      "source": [
        "# Exponential Scheduling"
      ],
      "metadata": {
        "id": "kvYm_cgyaj7a"
      }
    },
    {
      "cell_type": "code",
      "source": [
        "def exponential_decay_fn(epoch):\n",
        "    return 0.01 * 0.1**(epoch / 12.5)"
      ],
      "metadata": {
        "id": "yvvvgX8cajfb"
      },
      "execution_count": null,
      "outputs": []
    },
    {
      "cell_type": "code",
      "source": [
        "def exponential_decay(lr0, s):\n",
        "    def exponential_decay_fn(epoch):\n",
        "        return lr0 * 0.1**(epoch / s)\n",
        "    return exponential_decay_fn\n",
        "\n",
        "exponential_decay_fn = exponential_decay(lr0=0.01, s=12.5)"
      ],
      "metadata": {
        "id": "dGYxkFIKam3C"
      },
      "execution_count": null,
      "outputs": []
    },
    {
      "cell_type": "code",
      "source": [
        "# callbacks=[lr_scheduler]\n",
        "lr_scheduler = keras.callbacks.LearningRateScheduler(exponential_decay_fn)"
      ],
      "metadata": {
        "id": "QTMaWemAam7e"
      },
      "execution_count": null,
      "outputs": []
    },
    {
      "cell_type": "markdown",
      "source": [
        "# Piecewise Constant Scheduling"
      ],
      "metadata": {
        "id": "3_R6JDxNq_GT"
      }
    },
    {
      "cell_type": "code",
      "source": [
        "def piecewise_constant_fn(epoch):\n",
        "    if epoch < 3:\n",
        "        return 0.01\n",
        "    elif epoch < 6:\n",
        "        return 0.005\n",
        "    else:\n",
        "        return 0.001"
      ],
      "metadata": {
        "id": "m3nG3PzSq_fr"
      },
      "execution_count": null,
      "outputs": []
    },
    {
      "cell_type": "code",
      "source": [
        "def piecewise_constant(boundaries, values):\n",
        "    boundaries = np.array([0] + boundaries)\n",
        "    values = np.array(values)\n",
        "    def piecewise_constant_fn(epoch):\n",
        "        return values[np.argmax(boundaries > epoch) - 1]\n",
        "    return piecewise_constant_fn\n",
        "\n",
        "piecewise_constant_fn = piecewise_constant([3, 6], [0.01, 0.005, 0.001])"
      ],
      "metadata": {
        "id": "Bx52M5-Dq_iV"
      },
      "execution_count": null,
      "outputs": []
    },
    {
      "cell_type": "code",
      "source": [
        "# callbacks=[lr_scheduler]\n",
        "lr_scheduler = keras.callbacks.LearningRateScheduler(piecewise_constant_fn)"
      ],
      "metadata": {
        "id": "a2MvlfFqq_k-"
      },
      "execution_count": null,
      "outputs": []
    },
    {
      "cell_type": "markdown",
      "source": [
        "# Training model 1"
      ],
      "metadata": {
        "id": "tc2gLRpjrEUt"
      }
    },
    {
      "cell_type": "code",
      "source": [
        "train_history = model1.fit(\n",
        "    x ={'input_ids':x_train['input_ids'],'attention_mask':x_train['attention_mask']} ,\n",
        "    y = y_train,\n",
        "    validation_data = (\n",
        "    {'input_ids':x_test['input_ids'],'attention_mask':x_test['attention_mask']}, y_test\n",
        "    ),\n",
        "    epochs=n_epochs,\n",
        "    callbacks=[earlystopping, model_checkpoint_callback1, lr_scheduler],\n",
        "    # batch_size=32\n",
        ")"
      ],
      "metadata": {
        "colab": {
          "base_uri": "https://localhost:8080/"
        },
        "id": "cop-57z9D5Sr",
        "outputId": "357b764c-32c7-40d2-8859-3f34f31c58fa"
      },
      "execution_count": null,
      "outputs": [
        {
          "output_type": "stream",
          "name": "stdout",
          "text": [
            "Epoch 1/10\n"
          ]
        },
        {
          "output_type": "stream",
          "name": "stderr",
          "text": [
            "WARNING:tensorflow:Gradients do not exist for variables ['tf_bert_model/bert/pooler/dense/kernel:0', 'tf_bert_model/bert/pooler/dense/bias:0'] when minimizing the loss. If you're using `model.compile()`, did you forget to provide a `loss`argument?\n",
            "WARNING:tensorflow:Gradients do not exist for variables ['tf_bert_model/bert/pooler/dense/kernel:0', 'tf_bert_model/bert/pooler/dense/bias:0'] when minimizing the loss. If you're using `model.compile()`, did you forget to provide a `loss`argument?\n"
          ]
        },
        {
          "output_type": "stream",
          "name": "stdout",
          "text": [
            "286/286 [==============================] - 257s 835ms/step - loss: 0.7399 - accuracy: 0.5249 - val_loss: 0.7052 - val_accuracy: 0.4133 - lr: 0.0100\n",
            "Epoch 2/10\n",
            "286/286 [==============================] - 235s 823ms/step - loss: 0.6870 - accuracy: 0.5610 - val_loss: 0.7028 - val_accuracy: 0.4133 - lr: 0.0083\n",
            "Epoch 3/10\n",
            "286/286 [==============================] - 239s 837ms/step - loss: 0.6866 - accuracy: 0.5610 - val_loss: 0.6869 - val_accuracy: 0.5867 - lr: 0.0069\n",
            "Epoch 4/10\n",
            "286/286 [==============================] - 235s 823ms/step - loss: 0.6863 - accuracy: 0.5610 - val_loss: 0.6836 - val_accuracy: 0.5867 - lr: 0.0058\n",
            "Epoch 5/10\n",
            "286/286 [==============================] - 235s 822ms/step - loss: 0.6860 - accuracy: 0.5610 - val_loss: 0.6793 - val_accuracy: 0.5867 - lr: 0.0048\n",
            "Epoch 6/10\n",
            "286/286 [==============================] - 235s 822ms/step - loss: 0.6859 - accuracy: 0.5610 - val_loss: 0.6792 - val_accuracy: 0.5867 - lr: 0.0040\n",
            "Epoch 7/10\n",
            "286/286 [==============================] - 235s 823ms/step - loss: 0.6860 - accuracy: 0.5610 - val_loss: 0.7004 - val_accuracy: 0.4133 - lr: 0.0033\n",
            "Epoch 8/10\n",
            "286/286 [==============================] - 235s 822ms/step - loss: 0.6859 - accuracy: 0.5610 - val_loss: 0.6960 - val_accuracy: 0.4133 - lr: 0.0028\n",
            "Epoch 8: early stopping\n"
          ]
        }
      ]
    },
    {
      "cell_type": "code",
      "source": [
        "# plot accuracy\n",
        "import matplotlib.pyplot as plt\n",
        "plt.plot(train_history.history['accuracy'])\n",
        "plt.plot(train_history.history['val_accuracy'])\n",
        "plt.title('model accuracy')\n",
        "plt.ylabel('accuracy')\n",
        "plt.xlabel('epoch')\n",
        "plt.legend(['train', 'val'], loc='lower right')\n",
        "plt.show()"
      ],
      "metadata": {
        "colab": {
          "base_uri": "https://localhost:8080/",
          "height": 295
        },
        "id": "mDhDnaAJtabU",
        "outputId": "70810fde-2198-42f0-8aaa-051cb54fc74b"
      },
      "execution_count": null,
      "outputs": [
        {
          "output_type": "display_data",
          "data": {
            "text/plain": [
              "<Figure size 432x288 with 1 Axes>"
            ],
            "image/png": "[encoded data removed]"
          },
          "metadata": {
            "needs_background": "light"
          }
        }
      ]
    },
    {
      "cell_type": "code",
      "source": [
        "plt.plot(train_history.epoch, train_history.history[\"lr\"], \"bo-\")\n",
        "plt.xlabel(\"Epoch\")\n",
        "plt.ylabel(\"Learning Rate\", color='b')\n",
        "plt.tick_params('y', colors='b')\n",
        "plt.gca().set_xlim(0, n_epochs - 1)\n",
        "plt.grid(True)\n",
        "\n",
        "ax2 = plt.gca().twinx()\n",
        "ax2.plot(train_history.epoch, train_history.history[\"val_loss\"], \"r^-\")\n",
        "ax2.set_ylabel('Validation Loss', color='r')\n",
        "ax2.tick_params('y', colors='r')\n",
        "\n",
        "plt.title(\"Reduce LR on Plateau\", fontsize=14)\n",
        "plt.show()"
      ],
      "metadata": {
        "colab": {
          "base_uri": "https://localhost:8080/",
          "height": 296
        },
        "id": "RQwWAW2Ntbi6",
        "outputId": "bfc2558c-838d-4bc9-fce5-18116eafa468"
      },
      "execution_count": null,
      "outputs": [
        {
          "output_type": "display_data",
          "data": {
            "text/plain": [
              "<Figure size 432x288 with 2 Axes>"
            ],
            "image/png": "[encoded data removed]"
          },
          "metadata": {
            "needs_background": "light"
          }
        }
      ]
    },
    {
      "cell_type": "markdown",
      "source": [
        "# Training model 2"
      ],
      "metadata": {
        "id": "mH6bdrc9tASb"
      }
    },
    {
      "cell_type": "code",
      "source": [
        "# batch_size=32\n",
        "# step_size_train=x_train['input_ids'].shape[0]//batch_size\n",
        "# step_size_valid=x_test['input_ids'].shape[0]//batch_size\n",
        "\n",
        "train_history2 = model2.fit(\n",
        "    x ={'input_ids':x_train['input_ids'],'attention_mask':x_train['attention_mask'], 'segment_ids':x_train[\"token_type_ids\"]} ,\n",
        "    y = y_train,\n",
        "    validation_data = (\n",
        "    {'input_ids':x_test['input_ids'],'attention_mask':x_test['attention_mask'], 'segment_ids':x_test[\"token_type_ids\"]}, y_test\n",
        "    ),\n",
        "    epochs=n_epochs,\n",
        "    # validation_steps=step_size_valid,\n",
        "    callbacks=[earlystopping, model_checkpoint_callback2, lr_scheduler],\n",
        "    verbose=1\n",
        "    # batch_size=32\n",
        ")"
      ],
      "metadata": {
        "colab": {
          "base_uri": "https://localhost:8080/"
        },
        "id": "_cH5_uyErwXZ",
        "outputId": "2719af60-bdec-4c49-8f2b-aa5e707e9bda"
      },
      "execution_count": null,
      "outputs": [
        {
          "output_type": "stream",
          "name": "stdout",
          "text": [
            "Epoch 1/10\n",
            "286/286 [==============================] - 268s 937ms/step - loss: 0.6910 - accuracy: 0.5516 - val_loss: 0.6794 - val_accuracy: 0.5867 - lr: 0.0100\n",
            "Epoch 2/10\n",
            "286/286 [==============================] - 251s 878ms/step - loss: 0.6888 - accuracy: 0.5476 - val_loss: 0.7284 - val_accuracy: 0.5867 - lr: 0.0083\n",
            "Epoch 3/10\n",
            "286/286 [==============================] - 251s 878ms/step - loss: 0.6882 - accuracy: 0.5581 - val_loss: 0.6814 - val_accuracy: 0.5867 - lr: 0.0069\n",
            "Epoch 3: early stopping\n"
          ]
        }
      ]
    },
    {
      "cell_type": "code",
      "source": [
        "# plot accuracy\n",
        "plt.plot(train_history2.history['accuracy'])\n",
        "plt.plot(train_history2.history['val_accuracy'])\n",
        "plt.title('model accuracy')\n",
        "plt.ylabel('accuracy')\n",
        "plt.xlabel('epoch')\n",
        "plt.legend(['train', 'val'], loc='lower right')\n",
        "plt.show()"
      ],
      "metadata": {
        "id": "d5kKnA1lKZLc",
        "colab": {
          "base_uri": "https://localhost:8080/",
          "height": 295
        },
        "outputId": "a26d5172-af8d-4433-b82d-33d6948e0532"
      },
      "execution_count": null,
      "outputs": [
        {
          "output_type": "display_data",
          "data": {
            "text/plain": [
              "<Figure size 432x288 with 1 Axes>"
            ],
            "image/png": "[encoded data removed]"
          },
          "metadata": {
            "needs_background": "light"
          }
        }
      ]
    },
    {
      "cell_type": "code",
      "source": [
        "plt.plot(train_history2.epoch, train_history2.history[\"lr\"], \"bo-\")\n",
        "plt.xlabel(\"Epoch\")\n",
        "plt.ylabel(\"Learning Rate\", color='b')\n",
        "plt.tick_params('y', colors='b')\n",
        "plt.gca().set_xlim(0, n_epochs - 1)\n",
        "plt.grid(True)\n",
        "\n",
        "ax2 = plt.gca().twinx()\n",
        "ax2.plot(train_history2.epoch, train_history2.history[\"val_loss\"], \"r^-\")\n",
        "ax2.set_ylabel('Validation Loss', color='r')\n",
        "ax2.tick_params('y', colors='r')\n",
        "\n",
        "plt.title(\"Reduce LR on Plateau\", fontsize=14)\n",
        "plt.show()"
      ],
      "metadata": {
        "id": "7jQZS_4SKbWI",
        "colab": {
          "base_uri": "https://localhost:8080/",
          "height": 296
        },
        "outputId": "f539487b-dda0-4a21-e0ee-9bd10a8c85a4"
      },
      "execution_count": null,
      "outputs": [
        {
          "output_type": "display_data",
          "data": {
            "text/plain": [
              "<Figure size 432x288 with 2 Axes>"
            ],
            "image/png": "[encoded data removed]"
          },
          "metadata": {
            "needs_background": "light"
          }
        }
      ]
    },
    {
      "cell_type": "markdown",
      "source": [
        "# Training mode 3"
      ],
      "metadata": {
        "id": "iDdU6yGBtl_A"
      }
    },
    {
      "cell_type": "code",
      "source": [
        "# batch_size=32\n",
        "# step_size_train=x_train['input_ids'].shape[0]//batch_size\n",
        "# step_size_valid=x_test['input_ids'].shape[0]//batch_size\n",
        "\n",
        "train_history3 = model3.fit(\n",
        "    x ={'input_ids':x_train['input_ids'],'attention_mask':x_train['attention_mask'], 'segment_ids':x_train[\"token_type_ids\"]} ,\n",
        "    y = y_train,\n",
        "    validation_data = (\n",
        "    {'input_ids':x_test['input_ids'],'attention_mask':x_test['attention_mask'], 'segment_ids':x_test[\"token_type_ids\"]}, y_test\n",
        "    ),\n",
        "    epochs=n_epochs,\n",
        "    # validation_steps=step_size_valid,\n",
        "    callbacks=[earlystopping, model_checkpoint_callback2, lr_scheduler],\n",
        "    verbose=1\n",
        "    # batch_size=32\n",
        ")"
      ],
      "metadata": {
        "colab": {
          "base_uri": "https://localhost:8080/"
        },
        "id": "AacvSYGRtnzK",
        "outputId": "aa88ae76-7faf-4057-d0d9-f3b0a2366164"
      },
      "execution_count": null,
      "outputs": [
        {
          "output_type": "stream",
          "name": "stdout",
          "text": [
            "Epoch 1/10\n",
            "286/286 [==============================] - 280s 862ms/step - loss: 0.8229 - accuracy: 0.5380 - val_loss: 0.6808 - val_accuracy: 0.5867 - lr: 0.0100\n",
            "Epoch 2/10\n",
            "286/286 [==============================] - 239s 837ms/step - loss: 0.6925 - accuracy: 0.5443 - val_loss: 0.6807 - val_accuracy: 0.5867 - lr: 0.0083\n",
            "Epoch 3/10\n",
            "286/286 [==============================] - 239s 837ms/step - loss: 0.6923 - accuracy: 0.5422 - val_loss: 0.6781 - val_accuracy: 0.5867 - lr: 0.0069\n",
            "Epoch 4/10\n",
            "286/286 [==============================] - 239s 837ms/step - loss: 0.6901 - accuracy: 0.5426 - val_loss: 0.6788 - val_accuracy: 0.5867 - lr: 0.0058\n",
            "Epoch 5/10\n",
            "286/286 [==============================] - 239s 835ms/step - loss: 0.6916 - accuracy: 0.5418 - val_loss: 0.6809 - val_accuracy: 0.5867 - lr: 0.0048\n",
            "Epoch 5: early stopping\n"
          ]
        }
      ]
    },
    {
      "cell_type": "code",
      "source": [
        "# plot accuracy\n",
        "plt.plot(train_history3.history['accuracy'])\n",
        "plt.plot(train_history3.history['val_accuracy'])\n",
        "plt.title('model accuracy')\n",
        "plt.ylabel('accuracy')\n",
        "plt.xlabel('epoch')\n",
        "plt.legend(['train', 'val'], loc='lower right')\n",
        "plt.show()"
      ],
      "metadata": {
        "colab": {
          "base_uri": "https://localhost:8080/",
          "height": 295
        },
        "id": "0NxQpyWNtn80",
        "outputId": "ac8e5b66-124b-4733-9a82-6343275203a8"
      },
      "execution_count": null,
      "outputs": [
        {
          "output_type": "display_data",
          "data": {
            "text/plain": [
              "<Figure size 432x288 with 1 Axes>"
            ],
            "image/png": "[encoded data removed]"
          },
          "metadata": {
            "needs_background": "light"
          }
        }
      ]
    },
    {
      "cell_type": "code",
      "source": [
        "plt.plot(train_history3.epoch, train_history3.history[\"lr\"], \"bo-\")\n",
        "plt.xlabel(\"Epoch\")\n",
        "plt.ylabel(\"Learning Rate\", color='b')\n",
        "plt.tick_params('y', colors='b')\n",
        "plt.gca().set_xlim(0, n_epochs - 1)\n",
        "plt.grid(True)\n",
        "\n",
        "ax2 = plt.gca().twinx()\n",
        "ax2.plot(train_history3.epoch, train_history3.history[\"val_loss\"], \"r^-\")\n",
        "ax2.set_ylabel('Validation Loss', color='r')\n",
        "ax2.tick_params('y', colors='r')\n",
        "\n",
        "plt.title(\"Reduce LR on Plateau\", fontsize=14)\n",
        "plt.show()"
      ],
      "metadata": {
        "colab": {
          "base_uri": "https://localhost:8080/",
          "height": 296
        },
        "id": "Jl6q4agUtoCF",
        "outputId": "926d595b-c118-4f8d-af52-ff6934d2cd34"
      },
      "execution_count": null,
      "outputs": [
        {
          "output_type": "display_data",
          "data": {
            "text/plain": [
              "<Figure size 432x288 with 2 Axes>"
            ],
            "image/png": "[encoded data removed]"
          },
          "metadata": {
            "needs_background": "light"
          }
        }
      ]
    },
    {
      "cell_type": "markdown",
      "source": [
        "# SGD"
      ],
      "metadata": {
        "id": "rR8f-H6h2MGx"
      }
    },
    {
      "cell_type": "code",
      "source": [
        "from keras.optimizers import SGD\n",
        "\n",
        "epochs = 10\n",
        "learning_rate = 0.1 # initial learning rate\n",
        "decay_rate = 0.1\n",
        "momentum = 0.8\n",
        "\n",
        "# define the optimizer function\n",
        "sgd = SGD(lr=learning_rate, momentum=momentum, decay=decay_rate, nesterov=False)"
      ],
      "metadata": {
        "id": "lkJHV8du2K6j",
        "colab": {
          "base_uri": "https://localhost:8080/"
        },
        "outputId": "e1aa1b5b-7b41-48a7-81fd-b95353f76183"
      },
      "execution_count": null,
      "outputs": [
        {
          "output_type": "stream",
          "name": "stderr",
          "text": [
            "/usr/local/lib/python3.7/dist-packages/keras/optimizers/optimizer_v2/gradient_descent.py:108: UserWarning: The `lr` argument is deprecated, use `learning_rate` instead.\n",
            "  super(SGD, self).__init__(name, **kwargs)\n"
          ]
        }
      ]
    },
    {
      "cell_type": "code",
      "source": [
        "model.compile(optimizer=sgd, \n",
        "              loss='binary_crossentropy', \n",
        "              metrics=['accuracy'])"
      ],
      "metadata": {
        "id": "-bTs_4iS2uqc"
      },
      "execution_count": null,
      "outputs": []
    },
    {
      "cell_type": "code",
      "source": [
        "def exp_decay(epoch):\n",
        "    lrate = learning_rate * np.exp(-decay_rate*epoch)\n",
        "    return lrate"
      ],
      "metadata": {
        "id": "CSnZAwsZ2K9J"
      },
      "execution_count": null,
      "outputs": []
    },
    {
      "cell_type": "code",
      "source": [
        "from keras.callbacks import LearningRateScheduler\n",
        "\n",
        "lr_rate = LearningRateScheduler(exp_decay)"
      ],
      "metadata": {
        "id": "vAoPb7Pc2LBU"
      },
      "execution_count": null,
      "outputs": []
    },
    {
      "cell_type": "code",
      "source": [
        "batch_size=32\n",
        "step_size_train=x_train['input_ids'].shape[0]//batch_size\n",
        "step_size_valid=x_test['input_ids'].shape[0]//batch_size\n",
        "\n",
        "train_history = model.fit(\n",
        "    x ={'input_ids':x_train['input_ids'],'attention_mask':x_train['attention_mask']} ,\n",
        "    y = y_train,\n",
        "    validation_data = (\n",
        "    {'input_ids':x_test['input_ids'],'attention_mask':x_test['attention_mask']}, y_test\n",
        "    ),\n",
        "    epochs=10,\n",
        "    validation_steps=step_size_valid,\n",
        "    callbacks=[earlystopping, model_checkpoint_callback, lr_rate],\n",
        "    verbose=1\n",
        "    # batch_size=32\n",
        ")"
      ],
      "metadata": {
        "id": "AclZSRvG2LFz",
        "colab": {
          "base_uri": "https://localhost:8080/"
        },
        "outputId": "b6d34248-f383-448b-eaf9-12f8c1a3f3b8"
      },
      "execution_count": null,
      "outputs": [
        {
          "output_type": "stream",
          "name": "stdout",
          "text": [
            "Epoch 1/10\n"
          ]
        },
        {
          "output_type": "stream",
          "name": "stderr",
          "text": [
            "WARNING:tensorflow:Gradients do not exist for variables ['tf_bert_model/bert/pooler/dense/kernel:0', 'tf_bert_model/bert/pooler/dense/bias:0'] when minimizing the loss. If you're using `model.compile()`, did you forget to provide a `loss`argument?\n",
            "WARNING:tensorflow:Gradients do not exist for variables ['tf_bert_model/bert/pooler/dense/kernel:0', 'tf_bert_model/bert/pooler/dense/bias:0'] when minimizing the loss. If you're using `model.compile()`, did you forget to provide a `loss`argument?\n"
          ]
        },
        {
          "output_type": "stream",
          "name": "stdout",
          "text": [
            "286/286 [==============================] - 265s 824ms/step - loss: 0.8275 - accuracy: 0.5394 - val_loss: 2.1081 - val_accuracy: 0.5867 - lr: 0.1000\n",
            "Epoch 2/10\n",
            "286/286 [==============================] - 234s 818ms/step - loss: 0.6900 - accuracy: 0.5522 - val_loss: 2.1386 - val_accuracy: 0.5867 - lr: 0.0905\n",
            "Epoch 2: early stopping\n"
          ]
        }
      ]
    },
    {
      "cell_type": "code",
      "source": [
        "import matplotlib.pyplot as plt\n",
        "\n",
        "pd.DataFrame(train_history.history).plot(figsize=(8,5))\n",
        "plt.show()"
      ],
      "metadata": {
        "id": "qU4jfKxf2LJo",
        "colab": {
          "base_uri": "https://localhost:8080/",
          "height": 320
        },
        "outputId": "5395ceab-bc83-4636-b9aa-51ddfa107d7a"
      },
      "execution_count": null,
      "outputs": [
        {
          "output_type": "display_data",
          "data": {
            "text/plain": [
              "<Figure size 576x360 with 1 Axes>"
            ],
            "image/png": "[encoded data removed]"
          },
          "metadata": {
            "needs_background": "light"
          }
        }
      ]
    },
    {
      "cell_type": "code",
      "source": [
        "# plot accuracy\n",
        "plt.plot(train_history.history['accuracy'])\n",
        "plt.plot(train_history.history['val_accuracy'])\n",
        "plt.title('model accuracy')\n",
        "plt.ylabel('accuracy')\n",
        "plt.xlabel('epoch')\n",
        "plt.legend(['train', 'val'], loc='lower right')\n",
        "plt.show()"
      ],
      "metadata": {
        "id": "bYEpDA3p25P1",
        "colab": {
          "base_uri": "https://localhost:8080/",
          "height": 295
        },
        "outputId": "cf982918-a4c7-4ef4-c653-758bb2fd616a"
      },
      "execution_count": null,
      "outputs": [
        {
          "output_type": "display_data",
          "data": {
            "text/plain": [
              "<Figure size 432x288 with 1 Axes>"
            ],
            "image/png": "[encoded data removed]"
          },
          "metadata": {
            "needs_background": "light"
          }
        }
      ]
    },
    {
      "cell_type": "code",
      "source": [
        "# plot loss\n",
        "plt.plot(train_history.history['loss'])\n",
        "plt.plot(train_history.history['val_loss'])\n",
        "plt.title('model loss')\n",
        "plt.ylabel('loss')\n",
        "plt.xlabel('epoch')\n",
        "plt.legend(['train', 'val'], loc='upper right')\n",
        "plt.show()"
      ],
      "metadata": {
        "id": "2j0E_wis29mN",
        "colab": {
          "base_uri": "https://localhost:8080/",
          "height": 295
        },
        "outputId": "3749c436-ab41-4db1-fccc-265ae55608c9"
      },
      "execution_count": null,
      "outputs": [
        {
          "output_type": "display_data",
          "data": {
            "text/plain": [
              "<Figure size 432x288 with 1 Axes>"
            ],
            "image/png": "[encoded data removed]"
          },
          "metadata": {
            "needs_background": "light"
          }
        }
      ]
    },
    {
      "cell_type": "code",
      "source": [
        "# plot loss\n",
        "plt.plot(train_history.history['lr'])\n",
        "plt.title('learning rate')\n",
        "plt.ylabel('rate')\n",
        "plt.xlabel('epoch')\n",
        "plt.legend(['learning rate'], loc='upper right')\n",
        "plt.show()"
      ],
      "metadata": {
        "colab": {
          "base_uri": "https://localhost:8080/",
          "height": 295
        },
        "id": "bEW507VrSE3H",
        "outputId": "931514f8-e15b-485c-d4ac-00fa8ccb1caf"
      },
      "execution_count": null,
      "outputs": [
        {
          "output_type": "display_data",
          "data": {
            "text/plain": [
              "<Figure size 432x288 with 1 Axes>"
            ],
            "image/png": "[encoded data removed]"
          },
          "metadata": {
            "needs_background": "light"
          }
        }
      ]
    }
  ]
}